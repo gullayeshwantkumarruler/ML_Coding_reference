{
 "cells": [
  {
   "cell_type": "code",
   "execution_count": 0,
   "metadata": {
    "application/vnd.databricks.v1+cell": {
     "cellMetadata": {
      "byteLimit": 2048000,
      "rowLimit": 10000
     },
     "inputWidgets": {},
     "nuid": "984c3f2f-0e66-4b7f-a189-f7c8e7a6eb34",
     "showTitle": false,
     "tableResultSettingsMap": {},
     "title": ""
    }
   },
   "outputs": [
    {
     "output_type": "stream",
     "name": "stdout",
     "output_type": "stream",
     "text": [
      "\u001B[43mNote: you may need to restart the kernel using %restart_python or dbutils.library.restartPython() to use updated packages.\u001B[0m\n"
     ]
    }
   ],
   "source": [
    "%pip install pandas>=1.3.0 numpy>=1.19.0 scikit-learn>=0.24.0 datasets>=2.0.0 openpyxl>=3.0.0 accelerate>=0.26.0"
   ]
  },
  {
   "cell_type": "code",
   "execution_count": 0,
   "metadata": {
    "application/vnd.databricks.v1+cell": {
     "cellMetadata": {
      "byteLimit": 2048000,
      "rowLimit": 10000
     },
     "inputWidgets": {},
     "nuid": "ee9625d1-7e90-4279-a017-3e11706871d5",
     "showTitle": false,
     "tableResultSettingsMap": {},
     "title": ""
    }
   },
   "outputs": [
    {
     "output_type": "stream",
     "name": "stdout",
     "output_type": "stream",
     "text": [
      "Found existing installation: flash-attn 2.5.9.post1\nNot uninstalling flash-attn at /databricks/python3/lib/python3.11/site-packages, outside environment /local_disk0/.ephemeral_nfs/envs/pythonEnv-570bdbe4-7f27-443b-9a32-d875f6b8425f\nCan't uninstall 'flash-attn'. No files were found to uninstall.\n\u001B[33mWARNING: Skipping flash-attn-2 as it is not installed.\u001B[0m\u001B[33m\n\u001B[0m\u001B[43mNote: you may need to restart the kernel using %restart_python or dbutils.library.restartPython() to use updated packages.\u001B[0m\nCollecting torch==2.1.2\n  Obtaining dependency information for torch==2.1.2 from https://files.pythonhosted.org/packages/da/6a/7fb9d82db4568834ff6d4df2fe3b143de4ed65a3f8f93e7daed703626cb6/torch-2.1.2-cp311-cp311-manylinux1_x86_64.whl.metadata\n  Downloading torch-2.1.2-cp311-cp311-manylinux1_x86_64.whl.metadata (25 kB)\nCollecting transformers==4.40.0\n  Obtaining dependency information for transformers==4.40.0 from https://files.pythonhosted.org/packages/09/c8/844d5518a6aeb4ffdc0cf0cae65ae13dbe5838306728c5c640b5a6e2a0c9/transformers-4.40.0-py3-none-any.whl.metadata\n  Downloading transformers-4.40.0-py3-none-any.whl.metadata (137 kB)\n\u001B[?25l     \u001B[90m━━━━━━━━━━━━━━━━━━━━━━━━━━━━━━━━━━━━━━━━\u001B[0m \u001B[32m0.0/137.6 kB\u001B[0m \u001B[31m?\u001B[0m eta \u001B[36m-:--:--\u001B[0m\n\u001B[2K     \u001B[90m━━━━━━━━━━━━━━━━━━━━━━━━━━━━━━━━━━━━━━━\u001B[0m \u001B[32m137.6/137.6 kB\u001B[0m \u001B[31m4.7 MB/s\u001B[0m eta \u001B[36m0:00:00\u001B[0m\n\u001B[?25hRequirement already satisfied: datasets in /databricks/python3/lib/python3.11/site-packages (2.19.1)\nRequirement already satisfied: scikit-learn in /databricks/python3/lib/python3.11/site-packages (1.3.0)\nRequirement already satisfied: filelock in /databricks/python3/lib/python3.11/site-packages (from torch==2.1.2) (3.13.4)\nRequirement already satisfied: typing-extensions in /databricks/python3/lib/python3.11/site-packages (from torch==2.1.2) (4.10.0)\nRequirement already satisfied: sympy in /databricks/python3/lib/python3.11/site-packages (from torch==2.1.2) (1.11.1)\nRequirement already satisfied: networkx in /databricks/python3/lib/python3.11/site-packages (from torch==2.1.2) (3.1)\nRequirement already satisfied: jinja2 in /databricks/python3/lib/python3.11/site-packages (from torch==2.1.2) (3.1.2)\nRequirement already satisfied: fsspec in /databricks/python3/lib/python3.11/site-packages (from torch==2.1.2) (2023.5.0)\nRequirement already satisfied: nvidia-cuda-nvrtc-cu12==12.1.105 in /databricks/python3/lib/python3.11/site-packages (from torch==2.1.2) (12.1.105)\nRequirement already satisfied: nvidia-cuda-runtime-cu12==12.1.105 in /databricks/python3/lib/python3.11/site-packages (from torch==2.1.2) (12.1.105)\nRequirement already satisfied: nvidia-cuda-cupti-cu12==12.1.105 in /databricks/python3/lib/python3.11/site-packages (from torch==2.1.2) (12.1.105)\nRequirement already satisfied: nvidia-cudnn-cu12==8.9.2.26 in /databricks/python3/lib/python3.11/site-packages (from torch==2.1.2) (8.9.2.26)\nRequirement already satisfied: nvidia-cublas-cu12==12.1.3.1 in /databricks/python3/lib/python3.11/site-packages (from torch==2.1.2) (12.1.3.1)\nRequirement already satisfied: nvidia-cufft-cu12==11.0.2.54 in /databricks/python3/lib/python3.11/site-packages (from torch==2.1.2) (11.0.2.54)\nRequirement already satisfied: nvidia-curand-cu12==10.3.2.106 in /databricks/python3/lib/python3.11/site-packages (from torch==2.1.2) (10.3.2.106)\nRequirement already satisfied: nvidia-cusolver-cu12==11.4.5.107 in /databricks/python3/lib/python3.11/site-packages (from torch==2.1.2) (11.4.5.107)\nRequirement already satisfied: nvidia-cusparse-cu12==12.1.0.106 in /databricks/python3/lib/python3.11/site-packages (from torch==2.1.2) (12.1.0.106)\nCollecting nvidia-nccl-cu12==2.18.1 (from torch==2.1.2)\n  Obtaining dependency information for nvidia-nccl-cu12==2.18.1 from https://files.pythonhosted.org/packages/a4/05/23f8f38eec3d28e4915725b233c24d8f1a33cb6540a882f7b54be1befa02/nvidia_nccl_cu12-2.18.1-py3-none-manylinux1_x86_64.whl.metadata\n  Downloading nvidia_nccl_cu12-2.18.1-py3-none-manylinux1_x86_64.whl.metadata (1.8 kB)\nRequirement already satisfied: nvidia-nvtx-cu12==12.1.105 in /databricks/python3/lib/python3.11/site-packages (from torch==2.1.2) (12.1.105)\nCollecting triton==2.1.0 (from torch==2.1.2)\n  Obtaining dependency information for triton==2.1.0 from https://files.pythonhosted.org/packages/5c/c1/54fffb2eb13d293d9a429fead3646752ea190de0229bcf3d591ba2481263/triton-2.1.0-0-cp311-cp311-manylinux2014_x86_64.manylinux_2_17_x86_64.whl.metadata\n  Downloading triton-2.1.0-0-cp311-cp311-manylinux2014_x86_64.manylinux_2_17_x86_64.whl.metadata (1.3 kB)\nRequirement already satisfied: huggingface-hub<1.0,>=0.19.3 in /databricks/python3/lib/python3.11/site-packages (from transformers==4.40.0) (0.27.1)\nRequirement already satisfied: numpy>=1.17 in /local_disk0/.ephemeral_nfs/cluster_libraries/python/lib/python3.11/site-packages (from transformers==4.40.0) (1.24.3)\nRequirement already satisfied: packaging>=20.0 in /databricks/python3/lib/python3.11/site-packages (from transformers==4.40.0) (23.2)\nRequirement already satisfied: pyyaml>=5.1 in /databricks/python3/lib/python3.11/site-packages (from transformers==4.40.0) (6.0)\nRequirement already satisfied: regex!=2019.12.17 in /databricks/python3/lib/python3.11/site-packages (from transformers==4.40.0) (2022.7.9)\nRequirement already satisfied: requests in /databricks/python3/lib/python3.11/site-packages (from transformers==4.40.0) (2.31.0)\nCollecting tokenizers<0.20,>=0.19 (from transformers==4.40.0)\n  Obtaining dependency information for tokenizers<0.20,>=0.19 from https://files.pythonhosted.org/packages/a7/03/fb50fc03f86016b227a967c8d474f90230c885c0d18f78acdfda7a96ce56/tokenizers-0.19.1-cp311-cp311-manylinux_2_17_x86_64.manylinux2014_x86_64.whl.metadata\n  Downloading tokenizers-0.19.1-cp311-cp311-manylinux_2_17_x86_64.manylinux2014_x86_64.whl.metadata (6.7 kB)\nRequirement already satisfied: safetensors>=0.4.1 in /databricks/python3/lib/python3.11/site-packages (from transformers==4.40.0) (0.4.2)\nRequirement already satisfied: tqdm>=4.27 in /databricks/python3/lib/python3.11/site-packages (from transformers==4.40.0) (4.65.0)\nRequirement already satisfied: nvidia-nvjitlink-cu12 in /databricks/python3/lib/python3.11/site-packages (from nvidia-cusolver-cu12==11.4.5.107->torch==2.1.2) (12.5.82)\nRequirement already satisfied: pyarrow>=12.0.0 in /databricks/python3/lib/python3.11/site-packages (from datasets) (14.0.1)\nRequirement already satisfied: pyarrow-hotfix in /databricks/python3/lib/python3.11/site-packages (from datasets) (0.6)\nRequirement already satisfied: dill<0.3.9,>=0.3.0 in /databricks/python3/lib/python3.11/site-packages (from datasets) (0.3.6)\nRequirement already satisfied: pandas in /local_disk0/.ephemeral_nfs/cluster_libraries/python/lib/python3.11/site-packages (from datasets) (2.0.3)\nRequirement already satisfied: xxhash in /databricks/python3/lib/python3.11/site-packages (from datasets) (3.4.1)\nRequirement already satisfied: multiprocess in /databricks/python3/lib/python3.11/site-packages (from datasets) (0.70.14)\nRequirement already satisfied: aiohttp in /databricks/python3/lib/python3.11/site-packages (from datasets) (3.8.5)\nRequirement already satisfied: scipy>=1.5.0 in /databricks/python3/lib/python3.11/site-packages (from scikit-learn) (1.11.1)\nRequirement already satisfied: joblib>=1.1.1 in /databricks/python3/lib/python3.11/site-packages (from scikit-learn) (1.2.0)\nRequirement already satisfied: threadpoolctl>=2.0.0 in /databricks/python3/lib/python3.11/site-packages (from scikit-learn) (2.2.0)\nRequirement already satisfied: attrs>=17.3.0 in /databricks/python3/lib/python3.11/site-packages (from aiohttp->datasets) (22.1.0)\nRequirement already satisfied: charset-normalizer<4.0,>=2.0 in /databricks/python3/lib/python3.11/site-packages (from aiohttp->datasets) (2.0.4)\nRequirement already satisfied: multidict<7.0,>=4.5 in /databricks/python3/lib/python3.11/site-packages (from aiohttp->datasets) (6.0.2)\nRequirement already satisfied: async-timeout<5.0,>=4.0.0a3 in /databricks/python3/lib/python3.11/site-packages (from aiohttp->datasets) (4.0.2)\nRequirement already satisfied: yarl<2.0,>=1.0 in /databricks/python3/lib/python3.11/site-packages (from aiohttp->datasets) (1.8.1)\nRequirement already satisfied: frozenlist>=1.1.1 in /databricks/python3/lib/python3.11/site-packages (from aiohttp->datasets) (1.3.3)\nRequirement already satisfied: aiosignal>=1.1.2 in /databricks/python3/lib/python3.11/site-packages (from aiohttp->datasets) (1.2.0)\nRequirement already satisfied: idna<4,>=2.5 in /databricks/python3/lib/python3.11/site-packages (from requests->transformers==4.40.0) (3.4)\nRequirement already satisfied: urllib3<3,>=1.21.1 in /databricks/python3/lib/python3.11/site-packages (from requests->transformers==4.40.0) (1.26.16)\nRequirement already satisfied: certifi>=2017.4.17 in /databricks/python3/lib/python3.11/site-packages (from requests->transformers==4.40.0) (2023.7.22)\nRequirement already satisfied: MarkupSafe>=2.0 in /databricks/python3/lib/python3.11/site-packages (from jinja2->torch==2.1.2) (2.1.1)\nRequirement already satisfied: python-dateutil>=2.8.2 in /databricks/python3/lib/python3.11/site-packages (from pandas->datasets) (2.8.2)\nRequirement already satisfied: pytz>=2020.1 in /databricks/python3/lib/python3.11/site-packages (from pandas->datasets) (2022.7)\nRequirement already satisfied: tzdata>=2022.1 in /databricks/python3/lib/python3.11/site-packages (from pandas->datasets) (2022.1)\nRequirement already satisfied: mpmath>=0.19 in /databricks/python3/lib/python3.11/site-packages (from sympy->torch==2.1.2) (1.3.0)\nRequirement already satisfied: six>=1.5 in /usr/lib/python3/dist-packages (from python-dateutil>=2.8.2->pandas->datasets) (1.16.0)\nDownloading torch-2.1.2-cp311-cp311-manylinux1_x86_64.whl (670.2 MB)\n\u001B[?25l   \u001B[90m━━━━━━━━━━━━━━━━━━━━━━━━━━━━━━━━━━━━━━━━\u001B[0m \u001B[32m0.0/670.2 MB\u001B[0m \u001B[31m?\u001B[0m eta \u001B[36m-:--:--\u001B[0m\n\u001B[2K   \u001B[90m━━━━━━━━━━━━━━━━━━━━━━━━━━━━━━━━━━━━━━━━\u001B[0m \u001B[32m0.4/670.2 MB\u001B[0m \u001B[31m12.4 MB/s\u001B[0m eta \u001B[36m0:00:55\u001B[0m\n\u001B[2K   \u001B[90m━━━━━━━━━━━━━━━━━━━━━━━━━━━━━━━━━━━━━━━━\u001B[0m \u001B[32m0.9/670.2 MB\u001B[0m \u001B[31m13.7 MB/s\u001B[0m eta \u001B[36m0:00:49\u001B[0m\n\u001B[2K   \u001B[90m━━━━━━━━━━━━━━━━━━━━━━━━━━━━━━━━━━━━━━━━\u001B[0m \u001B[32m1.6/670.2 MB\u001B[0m \u001B[31m15.8 MB/s\u001B[0m eta \u001B[36m0:00:43\u001B[0m\n\u001B[2K   \u001B[90m━━━━━━━━━━━━━━━━━━━━━━━━━━━━━━━━━━━━━━━━\u001B[0m \u001B[32m2.5/670.2 MB\u001B[0m \u001B[31m18.3 MB/s\u001B[0m eta \u001B[36m0:00:37\u001B[0m\n\u001B[2K   \u001B[90m━━━━━━━━━━━━━━━━━━━━━━━━━━━━━━━━━━━━━━━━\u001B[0m \u001B[32m3.7/670.2 MB\u001B[0m \u001B[31m21.6 MB/s\u001B[0m eta \u001B[36m0:00:31\u001B[0m\n\u001B[2K   \u001B[90m━━━━━━━━━━━━━━━━━━━━━━━━━━━━━━━━━━━━━━━━\u001B[0m \u001B[32m5.3/670.2 MB\u001B[0m \u001B[31m25.5 MB/s\u001B[0m eta \u001B[36m0:00:27\u001B[0m\n\u001B[2K   \u001B[90m━━━━━━━━━━━━━━━━━━━━━━━━━━━━━━━━━━━━━━━━\u001B[0m \u001B[32m7.4/670.2 MB\u001B[0m \u001B[31m30.6 MB/s\u001B[0m eta \u001B[36m0:00:22\u001B[0m\n\u001B[2K   \u001B[91m╸\u001B[0m\u001B[90m━━━━━━━━━━━━━━━━━━━━━━━━━━━━━━━━━━━━━━━\u001B[0m \u001B[32m10.0/670.2 MB\u001B[0m \u001B[31m36.1 MB/s\u001B[0m eta \u001B[36m0:00:19\u001B[0m\n\u001B[2K   \u001B[91m╸\u001B[0m\u001B[90m━━━━━━━━━━━━━━━━━━━━━━━━━━━━━━━━━━━━━━━\u001B[0m \u001B[32m13.2/670.2 MB\u001B[0m \u001B[31m63.3 MB/s\u001B[0m eta \u001B[36m0:00:11\u001B[0m\n\u001B[2K   \u001B[91m╸\u001B[0m\u001B[90m━━━━━━━━━━━━━━━━━━━━━━━━━━━━━━━━━━━━━━━\u001B[0m \u001B[32m16.4/670.2 MB\u001B[0m \u001B[31m81.5 MB/s\u001B[0m eta \u001B[36m0:00:09\u001B[0m\n\u001B[2K   \u001B[91m━\u001B[0m\u001B[90m╺\u001B[0m\u001B[90m━━━━━━━━━━━━━━━━━━━━━━━━━━━━━━━━━━━━━━\u001B[0m \u001B[32m19.5/670.2 MB\u001B[0m \u001B[31m89.0 MB/s\u001B[0m eta \u001B[36m0:00:08\u001B[0m\n\u001B[2K   \u001B[91m━\u001B[0m\u001B[90m╺\u001B[0m\u001B[90m━━━━━━━━━━━━━━━━━━━━━━━━━━━━━━━━━━━━━━\u001B[0m \u001B[32m24.4/670.2 MB\u001B[0m \u001B[31m109.7 MB/s\u001B[0m eta \u001B[36m0:00:06\u001B[0m\n\u001B[2K   \u001B[91m━\u001B[0m\u001B[91m╸\u001B[0m\u001B[90m━━━━━━━━━━━━━━━━━━━━━━━━━━━━━━━━━━━━━━\u001B[0m \u001B[32m29.4/670.2 MB\u001B[0m \u001B[31m134.7 MB/s\u001B[0m eta \u001B[36m0:00:05\u001B[0m\n\u001B[2K   \u001B[91m━━\u001B[0m\u001B[90m╺\u001B[0m\u001B[90m━━━━━━━━━━━━━━━━━━━━━━━━━━━━━━━━━━━━━\u001B[0m \u001B[32m34.4/670.2 MB\u001B[0m \u001B[31m142.9 MB/s\u001B[0m eta \u001B[36m0:00:05\u001B[0m\n\u001B[2K   \u001B[91m━━\u001B[0m\u001B[90m╺\u001B[0m\u001B[90m━━━━━━━━━━━━━━━━━━━━━━━━━━━━━━━━━━━━━\u001B[0m \u001B[32m39.4/670.2 MB\u001B[0m \u001B[31m142.4 MB/s\u001B[0m eta \u001B[36m0:00:05\u001B[0m\n\u001B[2K   \u001B[91m━━\u001B[0m\u001B[91m╸\u001B[0m\u001B[90m━━━━━━━━━━━━━━━━━━━━━━━━━━━━━━━━━━━━━\u001B[0m \u001B[32m44.6/670.2 MB\u001B[0m \u001B[31m145.6 MB/s\u001B[0m eta \u001B[36m0:00:05\u001B[0m\n\u001B[2K   \u001B[91m━━\u001B[0m\u001B[91m╸\u001B[0m\u001B[90m━━━━━━━━━━━━━━━━━━━━━━━━━━━━━━━━━━━━━\u001B[0m \u001B[32m49.8/670.2 MB\u001B[0m \u001B[31m152.8 MB/s\u001B[0m eta \u001B[36m0:00:05\u001B[0m\n\u001B[2K   \u001B[91m━━━\u001B[0m\u001B[90m╺\u001B[0m\u001B[90m━━━━━━━━━━━━━━━━━━━━━━━━━━━━━━━━━━━━\u001B[0m \u001B[32m54.5/670.2 MB\u001B[0m \u001B[31m140.8 MB/s\u001B[0m eta \u001B[36m0:00:05\u001B[0m\n\u001B[2K   \u001B[91m━━━\u001B[0m\u001B[91m╸\u001B[0m\u001B[90m━━━━━━━━━━━━━━━━━━━━━━━━━━━━━━━━━━━━\u001B[0m \u001B[32m59.5/670.2 MB\u001B[0m \u001B[31m136.6 MB/s\u001B[0m eta \u001B[36m0:00:05\u001B[0m\n\u001B[2K   \u001B[91m━━━\u001B[0m\u001B[91m╸\u001B[0m\u001B[90m━━━━━━━━━━━━━━━━━━━━━━━━━━━━━━━━━━━━\u001B[0m \u001B[32m64.5/670.2 MB\u001B[0m \u001B[31m141.9 MB/s\u001B[0m eta \u001B[36m0:00:05\u001B[0m\n\u001B[2K   \u001B[91m━━━━\u001B[0m\u001B[90m╺\u001B[0m\u001B[90m━━━━━━━━━━━━━━━━━━━━━━━━━━━━━━━━━━━\u001B[0m \u001B[32m69.6/670.2 MB\u001B[0m \u001B[31m141.1 MB/s\u001B[0m eta \u001B[36m0:00:05\u001B[0m\n\u001B[2K   \u001B[91m━━━━\u001B[0m\u001B[90m╺\u001B[0m\u001B[90m━━━━━━━━━━━━━━━━━━━━━━━━━━━━━━━━━━━\u001B[0m \u001B[32m74.5/670.2 MB\u001B[0m \u001B[31m138.9 MB/s\u001B[0m eta \u001B[36m0:00:05\u001B[0m\n\u001B[2K   \u001B[91m━━━━\u001B[0m\u001B[91m╸\u001B[0m\u001B[90m━━━━━━━━━━━━━━━━━━━━━━━━━━━━━━━━━━━\u001B[0m \u001B[32m79.3/670.2 MB\u001B[0m \u001B[31m137.9 MB/s\u001B[0m eta \u001B[36m0:00:05\u001B[0m\n\u001B[2K   \u001B[91m━━━━━\u001B[0m\u001B[90m╺\u001B[0m\u001B[90m━━━━━━━━━━━━━━━━━━━━━━━━━━━━━━━━━━\u001B[0m \u001B[32m84.4/670.2 MB\u001B[0m \u001B[31m141.7 MB/s\u001B[0m eta \u001B[36m0:00:05\u001B[0m\n\u001B[2K   \u001B[91m━━━━━\u001B[0m\u001B[90m╺\u001B[0m\u001B[90m━━━━━━━━━━━━━━━━━━━━━━━━━━━━━━━━━━\u001B[0m \u001B[32m89.6/670.2 MB\u001B[0m \u001B[31m148.9 MB/s\u001B[0m eta \u001B[36m0:00:04\u001B[0m\n\u001B[2K   \u001B[91m━━━━━\u001B[0m\u001B[91m╸\u001B[0m\u001B[90m━━━━━━━━━━━━━━━━━━━━━━━━━━━━━━━━━━\u001B[0m \u001B[32m94.8/670.2 MB\u001B[0m \u001B[31m152.0 MB/s\u001B[0m eta \u001B[36m0:00:04\u001B[0m\n\u001B[2K   \u001B[91m━━━━━\u001B[0m\u001B[91m╸\u001B[0m\u001B[90m━━━━━━━━━━━━━━━━━━━━━━━━━━━━━━━━━\u001B[0m \u001B[32m100.5/670.2 MB\u001B[0m \u001B[31m147.5 MB/s\u001B[0m eta \u001B[36m0:00:04\u001B[0m\n\u001B[2K   \u001B[91m━━━━━━\u001B[0m\u001B[90m╺\u001B[0m\u001B[90m━━━━━━━━━━━━━━━━━━━━━━━━━━━━━━━━\u001B[0m \u001B[32m105.2/670.2 MB\u001B[0m \u001B[31m141.8 MB/s\u001B[0m eta \u001B[36m0:00:04\u001B[0m\n\u001B[2K   \u001B[91m━━━━━━\u001B[0m\u001B[90m╺\u001B[0m\u001B[90m━━━━━━━━━━━━━━━━━━━━━━━━━━━━━━━━\u001B[0m \u001B[32m109.9/670.2 MB\u001B[0m \u001B[31m135.4 MB/s\u001B[0m eta \u001B[36m0:00:05\u001B[0m\n\u001B[2K   \u001B[91m━━━━━━\u001B[0m\u001B[91m╸\u001B[0m\u001B[90m━━━━━━━━━━━━━━━━━━━━━━━━━━━━━━━━\u001B[0m \u001B[32m114.5/670.2 MB\u001B[0m \u001B[31m132.4 MB/s\u001B[0m eta \u001B[36m0:00:05\u001B[0m\n\u001B[2K   \u001B[91m━━━━━━\u001B[0m\u001B[91m╸\u001B[0m\u001B[90m━━━━━━━━━━━━━━━━━━━━━━━━━━━━━━━━\u001B[0m \u001B[32m119.1/670.2 MB\u001B[0m \u001B[31m130.9 MB/s\u001B[0m eta \u001B[36m0:00:05\u001B[0m\n\u001B[2K   \u001B[91m━━━━━━━\u001B[0m\u001B[90m╺\u001B[0m\u001B[90m━━━━━━━━━━━━━━━━━━━━━━━━━━━━━━━\u001B[0m \u001B[32m123.7/670.2 MB\u001B[0m \u001B[31m131.8 MB/s\u001B[0m eta \u001B[36m0:00:05\u001B[0m\n\u001B[2K   \u001B[91m━━━━━━━\u001B[0m\u001B[90m╺\u001B[0m\u001B[90m━━━━━━━━━━━━━━━━━━━━━━━━━━━━━━━\u001B[0m \u001B[32m128.7/670.2 MB\u001B[0m \u001B[31m137.2 MB/s\u001B[0m eta \u001B[36m0:00:04\u001B[0m\n\u001B[2K   \u001B[91m━━━━━━━\u001B[0m\u001B[91m╸\u001B[0m\u001B[90m━━━━━━━━━━━━━━━━━━━━━━━━━━━━━━━\u001B[0m \u001B[32m133.9/670.2 MB\u001B[0m \u001B[31m141.2 MB/s\u001B[0m eta \u001B[36m0:00:04\u001B[0m\n\u001B[2K   \u001B[91m━━━━━━━━\u001B[0m\u001B[90m╺\u001B[0m\u001B[90m━━━━━━━━━━━━━━━━━━━━━━━━━━━━━━\u001B[0m \u001B[32m139.0/670.2 MB\u001B[0m \u001B[31m144.0 MB/s\u001B[0m eta \u001B[36m0:00:04\u001B[0m\n\u001B[2K   \u001B[91m━━━━━━━━\u001B[0m\u001B[90m╺\u001B[0m\u001B[90m━━━━━━━━━━━━━━━━━━━━━━━━━━━━━━\u001B[0m \u001B[32m143.8/670.2 MB\u001B[0m \u001B[31m142.0 MB/s\u001B[0m eta \u001B[36m0:00:04\u001B[0m\n\u001B[2K   \u001B[91m━━━━━━━━\u001B[0m\u001B[91m╸\u001B[0m\u001B[90m━━━━━━━━━━━━━━━━━━━━━━━━━━━━━━\u001B[0m \u001B[32m148.9/670.2 MB\u001B[0m \u001B[31m141.2 MB/s\u001B[0m eta \u001B[36m0:00:04\u001B[0m\n\u001B[2K   \u001B[91m━━━━━━━━\u001B[0m\u001B[91m╸\u001B[0m\u001B[90m━━━━━━━━━━━━━━━━━━━━━━━━━━━━━━\u001B[0m \u001B[32m154.1/670.2 MB\u001B[0m \u001B[31m149.0 MB/s\u001B[0m eta \u001B[36m0:00:04\u001B[0m\n\u001B[2K   \u001B[91m━━━━━━━━━\u001B[0m\u001B[90m╺\u001B[0m\u001B[90m━━━━━━━━━━━━━━━━━━━━━━━━━━━━━\u001B[0m \u001B[32m158.3/670.2 MB\u001B[0m \u001B[31m133.4 MB/s\u001B[0m eta \u001B[36m0:00:04\u001B[0m\n\u001B[2K   \u001B[91m━━━━━━━━━\u001B[0m\u001B[91m╸\u001B[0m\u001B[90m━━━━━━━━━━━━━━━━━━━━━━━━━━━━━\u001B[0m \u001B[32m163.8/670.2 MB\u001B[0m \u001B[31m130.4 MB/s\u001B[0m eta \u001B[36m0:00:04\u001B[0m\n\u001B[2K   \u001B[91m━━━━━━━━━\u001B[0m\u001B[91m╸\u001B[0m\u001B[90m━━━━━━━━━━━━━━━━━━━━━━━━━━━━━\u001B[0m \u001B[32m169.1/670.2 MB\u001B[0m \u001B[31m145.6 MB/s\u001B[0m eta \u001B[36m0:00:04\u001B[0m\n\u001B[2K   \u001B[91m━━━━━━━━━━\u001B[0m\u001B[90m╺\u001B[0m\u001B[90m━━━━━━━━━━━━━━━━━━━━━━━━━━━━\u001B[0m \u001B[32m174.1/670.2 MB\u001B[0m \u001B[31m148.0 MB/s\u001B[0m eta \u001B[36m0:00:04\u001B[0m\n\u001B[2K   \u001B[91m━━━━━━━━━━\u001B[0m\u001B[90m╺\u001B[0m\u001B[90m━━━━━━━━━━━━━━━━━━━━━━━━━━━━\u001B[0m \u001B[32m179.2/670.2 MB\u001B[0m \u001B[31m144.0 MB/s\u001B[0m eta \u001B[36m0:00:04\u001B[0m\n\u001B[2K   \u001B[91m━━━━━━━━━━\u001B[0m\u001B[91m╸\u001B[0m\u001B[90m━━━━━━━━━━━━━━━━━━━━━━━━━━━━\u001B[0m \u001B[32m184.3/670.2 MB\u001B[0m \u001B[31m150.3 MB/s\u001B[0m eta \u001B[36m0:00:04\u001B[0m\n\u001B[2K   \u001B[91m━━━━━━━━━━━\u001B[0m\u001B[90m╺\u001B[0m\u001B[90m━━━━━━━━━━━━━━━━━━━━━━━━━━━\u001B[0m \u001B[32m189.3/670.2 MB\u001B[0m \u001B[31m143.2 MB/s\u001B[0m eta \u001B[36m0:00:04\u001B[0m\n\u001B[2K   \u001B[91m━━━━━━━━━━━\u001B[0m\u001B[90m╺\u001B[0m\u001B[90m━━━━━━━━━━━━━━━━━━━━━━━━━━━\u001B[0m \u001B[32m194.0/670.2 MB\u001B[0m \u001B[31m136.6 MB/s\u001B[0m eta \u001B[36m0:00:04\u001B[0m\n\u001B[2K   \u001B[91m━━━━━━━━━━━\u001B[0m\u001B[91m╸\u001B[0m\u001B[90m━━━━━━━━━━━━━━━━━━━━━━━━━━━\u001B[0m \u001B[32m198.7/670.2 MB\u001B[0m \u001B[31m133.1 MB/s\u001B[0m eta \u001B[36m0:00:04\u001B[0m\n\u001B[2K   \u001B[91m━━━━━━━━━━━\u001B[0m\u001B[91m╸\u001B[0m\u001B[90m━━━━━━━━━━━━━━━━━━━━━━━━━━━\u001B[0m \u001B[32m203.6/670.2 MB\u001B[0m \u001B[31m134.5 MB/s\u001B[0m eta \u001B[36m0:00:04\u001B[0m\n\u001B[2K   \u001B[91m━━━━━━━━━━━━\u001B[0m\u001B[90m╺\u001B[0m\u001B[90m━━━━━━━━━━━━━━━━━━━━━━━━━━\u001B[0m \u001B[32m208.6/670.2 MB\u001B[0m \u001B[31m139.1 MB/s\u001B[0m eta \u001B[36m0:00:04\u001B[0m\n\u001B[2K   \u001B[91m━━━━━━━━━━━━\u001B[0m\u001B[90m╺\u001B[0m\u001B[90m━━━━━━━━━━━━━━━━━━━━━━━━━━\u001B[0m \u001B[32m213.8/670.2 MB\u001B[0m \u001B[31m144.2 MB/s\u001B[0m eta \u001B[36m0:00:04\u001B[0m\n\u001B[2K   \u001B[91m━━━━━━━━━━━━\u001B[0m\u001B[91m╸\u001B[0m\u001B[90m━━━━━━━━━━━━━━━━━━━━━━━━━━\u001B[0m \u001B[32m218.8/670.2 MB\u001B[0m \u001B[31m144.0 MB/s\u001B[0m eta \u001B[36m0:00:04\u001B[0m\n\u001B[2K   \u001B[91m━━━━━━━━━━━━━\u001B[0m\u001B[90m╺\u001B[0m\u001B[90m━━━━━━━━━━━━━━━━━━━━━━━━━\u001B[0m \u001B[32m223.8/670.2 MB\u001B[0m \u001B[31m143.4 MB/s\u001B[0m eta \u001B[36m0:00:04\u001B[0m\n\u001B[2K   \u001B[91m━━━━━━━━━━━━━\u001B[0m\u001B[90m╺\u001B[0m\u001B[90m━━━━━━━━━━━━━━━━━━━━━━━━━\u001B[0m \u001B[32m229.0/670.2 MB\u001B[0m \u001B[31m145.5 MB/s\u001B[0m eta \u001B[36m0:00:04\u001B[0m\n\u001B[2K   \u001B[91m━━━━━━━━━━━━━\u001B[0m\u001B[91m╸\u001B[0m\u001B[90m━━━━━━━━━━━━━━━━━━━━━━━━━\u001B[0m \u001B[32m234.1/670.2 MB\u001B[0m \u001B[31m150.2 MB/s\u001B[0m eta \u001B[36m0:00:03\u001B[0m\n\u001B[2K   \u001B[91m━━━━━━━━━━━━━\u001B[0m\u001B[91m╸\u001B[0m\u001B[90m━━━━━━━━━━━━━━━━━━━━━━━━━\u001B[0m \u001B[32m238.1/670.2 MB\u001B[0m \u001B[31m132.2 MB/s\u001B[0m eta \u001B[36m0:00:04\u001B[0m\n\u001B[2K   \u001B[91m━━━━━━━━━━━━━━\u001B[0m\u001B[90m╺\u001B[0m\u001B[90m━━━━━━━━━━━━━━━━━━━━━━━━\u001B[0m \u001B[32m242.3/670.2 MB\u001B[0m \u001B[31m121.2 MB/s\u001B[0m eta \u001B[36m0:00:04\u001B[0m\n\u001B[2K   \u001B[91m━━━━━━━━━━━━━━\u001B[0m\u001B[90m╺\u001B[0m\u001B[90m━━━━━━━━━━━━━━━━━━━━━━━━\u001B[0m \u001B[32m246.5/670.2 MB\u001B[0m \u001B[31m118.4 MB/s\u001B[0m eta \u001B[36m0:00:04\u001B[0m\n\u001B[2K   \u001B[91m━━━━━━━━━━━━━━\u001B[0m\u001B[91m╸\u001B[0m\u001B[90m━━━━━━━━━━━━━━━━━━━━━━━━\u001B[0m \u001B[32m250.3/670.2 MB\u001B[0m \u001B[31m116.3 MB/s\u001B[0m eta \u001B[36m0:00:04\u001B[0m\n\u001B[2K   \u001B[91m━━━━━━━━━━━━━━\u001B[0m\u001B[91m╸\u001B[0m\u001B[90m━━━━━━━━━━━━━━━━━━━━━━━━\u001B[0m \u001B[32m254.3/670.2 MB\u001B[0m \u001B[31m113.3 MB/s\u001B[0m eta \u001B[36m0:00:04\u001B[0m\n\u001B[2K   \u001B[91m━━━━━━━━━━━━━━\u001B[0m\u001B[91m╸\u001B[0m\u001B[90m━━━━━━━━━━━━━━━━━━━━━━━━\u001B[0m \u001B[32m257.3/670.2 MB\u001B[0m \u001B[31m102.3 MB/s\u001B[0m eta \u001B[36m0:00:05\u001B[0m\n\u001B[2K   \u001B[91m━━━━━━━━━━━━━━━\u001B[0m\u001B[90m╺\u001B[0m\u001B[90m━━━━━━━━━━━━━━━━━━━━━━━\u001B[0m \u001B[32m261.9/670.2 MB\u001B[0m \u001B[31m108.6 MB/s\u001B[0m eta \u001B[36m0:00:04\u001B[0m\n\u001B[2K   \u001B[91m━━━━━━━━━━━━━━━\u001B[0m\u001B[90m╺\u001B[0m\u001B[90m━━━━━━━━━━━━━━━━━━━━━━━\u001B[0m \u001B[32m266.3/670.2 MB\u001B[0m \u001B[31m128.2 MB/s\u001B[0m eta \u001B[36m0:00:04\u001B[0m\n\u001B[2K   \u001B[91m━━━━━━━━━━━━━━━\u001B[0m\u001B[91m╸\u001B[0m\u001B[90m━━━━━━━━━━━━━━━━━━━━━━━\u001B[0m \u001B[32m270.8/670.2 MB\u001B[0m \u001B[31m128.1 MB/s\u001B[0m eta \u001B[36m0:00:04\u001B[0m\n\u001B[2K   \u001B[91m━━━━━━━━━━━━━━━━\u001B[0m\u001B[90m╺\u001B[0m\u001B[90m━━━━━━━━━━━━━━━━━━━━━━\u001B[0m \u001B[32m275.0/670.2 MB\u001B[0m \u001B[31m123.5 MB/s\u001B[0m eta \u001B[36m0:00:04\u001B[0m\n\u001B[2K   \u001B[91m━━━━━━━━━━━━━━━━\u001B[0m\u001B[90m╺\u001B[0m\u001B[90m━━━━━━━━━━━━━━━━━━━━━━\u001B[0m \u001B[32m280.0/670.2 MB\u001B[0m \u001B[31m130.7 MB/s\u001B[0m eta \u001B[36m0:00:03\u001B[0m\n\u001B[2K   \u001B[91m━━━━━━━━━━━━━━━━\u001B[0m\u001B[91m╸\u001B[0m\u001B[90m━━━━━━━━━━━━━━━━━━━━━━\u001B[0m \u001B[32m285.0/670.2 MB\u001B[0m \u001B[31m141.1 MB/s\u001B[0m eta \u001B[36m0:00:03\u001B[0m\n\u001B[2K   \u001B[91m━━━━━━━━━━━━━━━━\u001B[0m\u001B[91m╸\u001B[0m\u001B[90m━━━━━━━━━━━━━━━━━━━━━━\u001B[0m \u001B[32m289.9/670.2 MB\u001B[0m \u001B[31m140.9 MB/s\u001B[0m eta \u001B[36m0:00:03\u001B[0m\n\u001B[2K   \u001B[91m━━━━━━━━━━━━━━━━━\u001B[0m\u001B[90m╺\u001B[0m\u001B[90m━━━━━━━━━━━━━━━━━━━━━\u001B[0m \u001B[32m295.0/670.2 MB\u001B[0m \u001B[31m142.5 MB/s\u001B[0m eta \u001B[36m0:00:03\u001B[0m\n\u001B[2K   \u001B[91m━━━━━━━━━━━━━━━━━\u001B[0m\u001B[90m╺\u001B[0m\u001B[90m━━━━━━━━━━━━━━━━━━━━━\u001B[0m \u001B[32m299.8/670.2 MB\u001B[0m \u001B[31m141.3 MB/s\u001B[0m eta \u001B[36m0:00:03\u001B[0m\n\u001B[2K   \u001B[91m━━━━━━━━━━━━━━━━━\u001B[0m\u001B[91m╸\u001B[0m\u001B[90m━━━━━━━━━━━━━━━━━━━━━\u001B[0m \u001B[32m304.7/670.2 MB\u001B[0m \u001B[31m139.6 MB/s\u001B[0m eta \u001B[36m0:00:03\u001B[0m\n\u001B[2K   \u001B[91m━━━━━━━━━━━━━━━━━━\u001B[0m\u001B[90m╺\u001B[0m\u001B[90m━━━━━━━━━━━━━━━━━━━━\u001B[0m \u001B[32m309.5/670.2 MB\u001B[0m \u001B[31m138.0 MB/s\u001B[0m eta \u001B[36m0:00:03\u001B[0m\n\u001B[2K   \u001B[91m━━━━━━━━━━━━━━━━━━\u001B[0m\u001B[90m╺\u001B[0m\u001B[90m━━━━━━━━━━━━━━━━━━━━\u001B[0m \u001B[32m314.4/670.2 MB\u001B[0m \u001B[31m139.1 MB/s\u001B[0m eta \u001B[36m0:00:03\u001B[0m\n\u001B[2K   \u001B[91m━━━━━━━━━━━━━━━━━━\u001B[0m\u001B[91m╸\u001B[0m\u001B[90m━━━━━━━━━━━━━━━━━━━━\u001B[0m \u001B[32m319.3/670.2 MB\u001B[0m \u001B[31m140.0 MB/s\u001B[0m eta \u001B[36m0:00:03\u001B[0m\n\u001B[2K   \u001B[91m━━━━━━━━━━━━━━━━━━\u001B[0m\u001B[91m╸\u001B[0m\u001B[90m━━━━━━━━━━━━━━━━━━━━\u001B[0m \u001B[32m324.4/670.2 MB\u001B[0m \u001B[31m141.0 MB/s\u001B[0m eta \u001B[36m0:00:03\u001B[0m\n\u001B[2K   \u001B[91m━━━━━━━━━━━━━━━━━━━\u001B[0m\u001B[90m╺\u001B[0m\u001B[90m━━━━━━━━━━━━━━━━━━━\u001B[0m \u001B[32m329.4/670.2 MB\u001B[0m \u001B[31m143.5 MB/s\u001B[0m eta \u001B[36m0:00:03\u001B[0m\n\u001B[2K   \u001B[91m━━━━━━━━━━━━━━━━━━━\u001B[0m\u001B[90m╺\u001B[0m\u001B[90m━━━━━━━━━━━━━━━━━━━\u001B[0m \u001B[32m334.7/670.2 MB\u001B[0m \u001B[31m151.7 MB/s\u001B[0m eta \u001B[36m0:00:03\u001B[0m\n\u001B[2K   \u001B[91m━━━━━━━━━━━━━━━━━━━\u001B[0m\u001B[91m╸\u001B[0m\u001B[90m━━━━━━━━━━━━━━━━━━━\u001B[0m \u001B[32m339.9/670.2 MB\u001B[0m \u001B[31m151.2 MB/s\u001B[0m eta \u001B[36m0:00:03\u001B[0m\n\u001B[2K   \u001B[91m━━━━━━━━━━━━━━━━━━━━\u001B[0m\u001B[90m╺\u001B[0m\u001B[90m━━━━━━━━━━━━━━━━━━\u001B[0m \u001B[32m344.9/670.2 MB\u001B[0m \u001B[31m143.3 MB/s\u001B[0m eta \u001B[36m0:00:03\u001B[0m\n\u001B[2K   \u001B[91m━━━━━━━━━━━━━━━━━━━━\u001B[0m\u001B[90m╺\u001B[0m\u001B[90m━━━━━━━━━━━━━━━━━━\u001B[0m \u001B[32m349.8/670.2 MB\u001B[0m \u001B[31m141.8 MB/s\u001B[0m eta \u001B[36m0:00:03\u001B[0m\n\u001B[2K   \u001B[91m━━━━━━━━━━━━━━━━━━━━\u001B[0m\u001B[91m╸\u001B[0m\u001B[90m━━━━━━━━━━━━━━━━━━\u001B[0m \u001B[32m354.9/670.2 MB\u001B[0m \u001B[31m141.8 MB/s\u001B[0m eta \u001B[36m0:00:03\u001B[0m\n\u001B[2K   \u001B[91m━━━━━━━━━━━━━━━━━━━━\u001B[0m\u001B[91m╸\u001B[0m\u001B[90m━━━━━━━━━━━━━━━━━━\u001B[0m \u001B[32m359.8/670.2 MB\u001B[0m \u001B[31m141.6 MB/s\u001B[0m eta \u001B[36m0:00:03\u001B[0m\n\u001B[2K   \u001B[91m━━━━━━━━━━━━━━━━━━━━━\u001B[0m\u001B[90m╺\u001B[0m\u001B[90m━━━━━━━━━━━━━━━━━\u001B[0m \u001B[32m364.6/670.2 MB\u001B[0m \u001B[31m138.9 MB/s\u001B[0m eta \u001B[36m0:00:03\u001B[0m\n\u001B[2K   \u001B[91m━━━━━━━━━━━━━━━━━━━━━\u001B[0m\u001B[91m╸\u001B[0m\u001B[90m━━━━━━━━━━━━━━━━━\u001B[0m \u001B[32m370.4/670.2 MB\u001B[0m \u001B[31m143.3 MB/s\u001B[0m eta \u001B[36m0:00:03\u001B[0m\n\u001B[2K   \u001B[91m━━━━━━━━━━━━━━━━━━━━━\u001B[0m\u001B[91m╸\u001B[0m\u001B[90m━━━━━━━━━━━━━━━━━\u001B[0m \u001B[32m375.2/670.2 MB\u001B[0m \u001B[31m143.5 MB/s\u001B[0m eta \u001B[36m0:00:03\u001B[0m\n\u001B[2K   \u001B[91m━━━━━━━━━━━━━━━━━━━━━━\u001B[0m\u001B[90m╺\u001B[0m\u001B[90m━━━━━━━━━━━━━━━━\u001B[0m \u001B[32m380.2/670.2 MB\u001B[0m \u001B[31m140.4 MB/s\u001B[0m eta \u001B[36m0:00:03\u001B[0m\n\u001B[2K   \u001B[91m━━━━━━━━━━━━━━━━━━━━━━\u001B[0m\u001B[90m╺\u001B[0m\u001B[90m━━━━━━━━━━━━━━━━\u001B[0m \u001B[32m384.8/670.2 MB\u001B[0m \u001B[31m137.4 MB/s\u001B[0m eta \u001B[36m0:00:03\u001B[0m\n\u001B[2K   \u001B[91m━━━━━━━━━━━━━━━━━━━━━━\u001B[0m\u001B[91m╸\u001B[0m\u001B[90m━━━━━━━━━━━━━━━━\u001B[0m \u001B[32m389.9/670.2 MB\u001B[0m \u001B[31m138.0 MB/s\u001B[0m eta \u001B[36m0:00:03\u001B[0m\n\u001B[2K   \u001B[91m━━━━━━━━━━━━━━━━━━━━━━\u001B[0m\u001B[91m╸\u001B[0m\u001B[90m━━━━━━━━━━━━━━━━\u001B[0m \u001B[32m394.9/670.2 MB\u001B[0m \u001B[31m143.9 MB/s\u001B[0m eta \u001B[36m0:00:02\u001B[0m\n\u001B[2K   \u001B[91m━━━━━━━━━━━━━━━━━━━━━━━\u001B[0m\u001B[90m╺\u001B[0m\u001B[90m━━━━━━━━━━━━━━━\u001B[0m \u001B[32m399.9/670.2 MB\u001B[0m \u001B[31m142.6 MB/s\u001B[0m eta \u001B[36m0:00:02\u001B[0m\n\u001B[2K   \u001B[91m━━━━━━━━━━━━━━━━━━━━━━━\u001B[0m\u001B[91m╸\u001B[0m\u001B[90m━━━━━━━━━━━━━━━\u001B[0m \u001B[32m405.0/670.2 MB\u001B[0m \u001B[31m143.3 MB/s\u001B[0m eta \u001B[36m0:00:02\u001B[0m\n\u001B[2K   \u001B[91m━━━━━━━━━━━━━━━━━━━━━━━\u001B[0m\u001B[91m╸\u001B[0m\u001B[90m━━━━━━━━━━━━━━━\u001B[0m \u001B[32m409.7/670.2 MB\u001B[0m \u001B[31m139.6 MB/s\u001B[0m eta \u001B[36m0:00:02\u001B[0m\n\u001B[2K   \u001B[91m━━━━━━━━━━━━━━━━━━━━━━━━\u001B[0m\u001B[90m╺\u001B[0m\u001B[90m━━━━━━━━━━━━━━\u001B[0m \u001B[32m414.5/670.2 MB\u001B[0m \u001B[31m136.4 MB/s\u001B[0m eta \u001B[36m0:00:02\u001B[0m\n\u001B[2K   \u001B[91m━━━━━━━━━━━━━━━━━━━━━━━━\u001B[0m\u001B[90m╺\u001B[0m\u001B[90m━━━━━━━━━━━━━━\u001B[0m \u001B[32m419.3/670.2 MB\u001B[0m \u001B[31m137.2 MB/s\u001B[0m eta \u001B[36m0:00:02\u001B[0m\n\u001B[2K   \u001B[91m━━━━━━━━━━━━━━━━━━━━━━━━\u001B[0m\u001B[91m╸\u001B[0m\u001B[90m━━━━━━━━━━━━━━\u001B[0m \u001B[32m423.8/670.2 MB\u001B[0m \u001B[31m134.0 MB/s\u001B[0m eta \u001B[36m0:00:02\u001B[0m\n\u001B[2K   \u001B[91m━━━━━━━━━━━━━━━━━━━━━━━━\u001B[0m\u001B[91m╸\u001B[0m\u001B[90m━━━━━━━━━━━━━━\u001B[0m \u001B[32m428.6/670.2 MB\u001B[0m \u001B[31m132.4 MB/s\u001B[0m eta \u001B[36m0:00:02\u001B[0m\n\u001B[2K   \u001B[91m━━━━━━━━━━━━━━━━━━━━━━━━━\u001B[0m\u001B[90m╺\u001B[0m\u001B[90m━━━━━━━━━━━━━\u001B[0m \u001B[32m433.4/670.2 MB\u001B[0m \u001B[31m137.6 MB/s\u001B[0m eta \u001B[36m0:00:02\u001B[0m\n\u001B[2K   \u001B[91m━━━━━━━━━━━━━━━━━━━━━━━━━\u001B[0m\u001B[90m╺\u001B[0m\u001B[90m━━━━━━━━━━━━━\u001B[0m \u001B[32m437.2/670.2 MB\u001B[0m \u001B[31m124.4 MB/s\u001B[0m eta \u001B[36m0:00:02\u001B[0m\n\u001B[2K   \u001B[91m━━━━━━━━━━━━━━━━━━━━━━━━━\u001B[0m\u001B[91m╸\u001B[0m\u001B[90m━━━━━━━━━━━━━\u001B[0m \u001B[32m442.0/670.2 MB\u001B[0m \u001B[31m123.9 MB/s\u001B[0m eta \u001B[36m0:00:02\u001B[0m\n\u001B[2K   \u001B[91m━━━━━━━━━━━━━━━━━━━━━━━━━━\u001B[0m\u001B[90m╺\u001B[0m\u001B[90m━━━━━━━━━━━━\u001B[0m \u001B[32m446.9/670.2 MB\u001B[0m \u001B[31m137.7 MB/s\u001B[0m eta \u001B[36m0:00:02\u001B[0m\n\u001B[2K   \u001B[91m━━━━━━━━━━━━━━━━━━━━━━━━━━\u001B[0m\u001B[90m╺\u001B[0m\u001B[90m━━━━━━━━━━━━\u001B[0m \u001B[32m451.9/670.2 MB\u001B[0m \u001B[31m140.6 MB/s\u001B[0m eta \u001B[36m0:00:02\u001B[0m\n\u001B[2K   \u001B[91m━━━━━━━━━━━━━━━━━━━━━━━━━━\u001B[0m\u001B[91m╸\u001B[0m\u001B[90m━━━━━━━━━━━━\u001B[0m \u001B[32m457.0/670.2 MB\u001B[0m \u001B[31m144.7 MB/s\u001B[0m eta \u001B[36m0:00:02\u001B[0m\n\u001B[2K   \u001B[91m━━━━━━━━━━━━━━━━━━━━━━━━━━\u001B[0m\u001B[91m╸\u001B[0m\u001B[90m━━━━━━━━━━━━\u001B[0m \u001B[32m461.7/670.2 MB\u001B[0m \u001B[31m141.3 MB/s\u001B[0m eta \u001B[36m0:00:02\u001B[0m\n\u001B[2K   \u001B[91m━━━━━━━━━━━━━━━━━━━━━━━━━━━\u001B[0m\u001B[90m╺\u001B[0m\u001B[90m━━━━━━━━━━━\u001B[0m \u001B[32m466.5/670.2 MB\u001B[0m \u001B[31m135.5 MB/s\u001B[0m eta \u001B[36m0:00:02\u001B[0m\n\u001B[2K   \u001B[91m━━━━━━━━━━━━━━━━━━━━━━━━━━━\u001B[0m\u001B[90m╺\u001B[0m\u001B[90m━━━━━━━━━━━\u001B[0m \u001B[32m471.4/670.2 MB\u001B[0m \u001B[31m137.8 MB/s\u001B[0m eta \u001B[36m0:00:02\u001B[0m\n\u001B[2K   \u001B[91m━━━━━━━━━━━━━━━━━━━━━━━━━━━\u001B[0m\u001B[91m╸\u001B[0m\u001B[90m━━━━━━━━━━━\u001B[0m \u001B[32m476.3/670.2 MB\u001B[0m \u001B[31m140.0 MB/s\u001B[0m eta \u001B[36m0:00:02\u001B[0m\n\u001B[2K   \u001B[91m━━━━━━━━━━━━━━━━━━━━━━━━━━━\u001B[0m\u001B[91m╸\u001B[0m\u001B[90m━━━━━━━━━━━\u001B[0m \u001B[32m481.2/670.2 MB\u001B[0m \u001B[31m139.7 MB/s\u001B[0m eta \u001B[36m0:00:02\u001B[0m\n\u001B[2K   \u001B[91m━━━━━━━━━━━━━━━━━━━━━━━━━━━━\u001B[0m\u001B[90m╺\u001B[0m\u001B[90m━━━━━━━━━━\u001B[0m \u001B[32m486.2/670.2 MB\u001B[0m \u001B[31m140.6 MB/s\u001B[0m eta \u001B[36m0:00:02\u001B[0m\n\u001B[2K   \u001B[91m━━━━━━━━━━━━━━━━━━━━━━━━━━━━\u001B[0m\u001B[91m╸\u001B[0m\u001B[90m━━━━━━━━━━\u001B[0m \u001B[32m490.5/670.2 MB\u001B[0m \u001B[31m133.6 MB/s\u001B[0m eta \u001B[36m0:00:02\u001B[0m\n\u001B[2K   \u001B[91m━━━━━━━━━━━━━━━━━━━━━━━━━━━━\u001B[0m\u001B[91m╸\u001B[0m\u001B[90m━━━━━━━━━━\u001B[0m \u001B[32m495.2/670.2 MB\u001B[0m \u001B[31m129.5 MB/s\u001B[0m eta \u001B[36m0:00:02\u001B[0m\n\u001B[2K   \u001B[91m━━━━━━━━━━━━━━━━━━━━━━━━━━━━━\u001B[0m\u001B[90m╺\u001B[0m\u001B[90m━━━━━━━━━\u001B[0m \u001B[32m499.3/670.2 MB\u001B[0m \u001B[31m125.0 MB/s\u001B[0m eta \u001B[36m0\n\n*** WARNING: max output size exceeded, skipping output. ***\n\n1m126.2 MB/s\u001B[0m eta \u001B[36m0:00:01\u001B[0m\n\u001B[2K   \u001B[91m━━━━━━━━━━━━━━━━━━━━━━━━━━━━━━━━━━━━━━\u001B[0m\u001B[91m╸\u001B[0m \u001B[32m670.2/670.2 MB\u001B[0m \u001B[31m126.2 MB/s\u001B[0m eta \u001B[36m0:00:01\u001B[0m\n\u001B[2K   \u001B[91m━━━━━━━━━━━━━━━━━━━━━━━━━━━━━━━━━━━━━━\u001B[0m\u001B[91m╸\u001B[0m \u001B[32m670.2/670.2 MB\u001B[0m \u001B[31m126.2 MB/s\u001B[0m eta \u001B[36m0:00:01\u001B[0m\n\u001B[2K   \u001B[91m━━━━━━━━━━━━━━━━━━━━━━━━━━━━━━━━━━━━━━\u001B[0m\u001B[91m╸\u001B[0m \u001B[32m670.2/670.2 MB\u001B[0m \u001B[31m126.2 MB/s\u001B[0m eta \u001B[36m0:00:01\u001B[0m\n\u001B[2K   \u001B[91m━━━━━━━━━━━━━━━━━━━━━━━━━━━━━━━━━━━━━━\u001B[0m\u001B[91m╸\u001B[0m \u001B[32m670.2/670.2 MB\u001B[0m \u001B[31m126.2 MB/s\u001B[0m eta \u001B[36m0:00:01\u001B[0m\n\u001B[2K   \u001B[91m━━━━━━━━━━━━━━━━━━━━━━━━━━━━━━━━━━━━━━\u001B[0m\u001B[91m╸\u001B[0m \u001B[32m670.2/670.2 MB\u001B[0m \u001B[31m126.2 MB/s\u001B[0m eta \u001B[36m0:00:01\u001B[0m\n\u001B[2K   \u001B[91m━━━━━━━━━━━━━━━━━━━━━━━━━━━━━━━━━━━━━━\u001B[0m\u001B[91m╸\u001B[0m \u001B[32m670.2/670.2 MB\u001B[0m \u001B[31m126.2 MB/s\u001B[0m eta \u001B[36m0:00:01\u001B[0m\n\u001B[2K   \u001B[91m━━━━━━━━━━━━━━━━━━━━━━━━━━━━━━━━━━━━━━\u001B[0m\u001B[91m╸\u001B[0m \u001B[32m670.2/670.2 MB\u001B[0m \u001B[31m126.2 MB/s\u001B[0m eta \u001B[36m0:00:01\u001B[0m\n\u001B[2K   \u001B[91m━━━━━━━━━━━━━━━━━━━━━━━━━━━━━━━━━━━━━━\u001B[0m\u001B[91m╸\u001B[0m \u001B[32m670.2/670.2 MB\u001B[0m \u001B[31m126.2 MB/s\u001B[0m eta \u001B[36m0:00:01\u001B[0m\n\u001B[2K   \u001B[91m━━━━━━━━━━━━━━━━━━━━━━━━━━━━━━━━━━━━━━\u001B[0m\u001B[91m╸\u001B[0m \u001B[32m670.2/670.2 MB\u001B[0m \u001B[31m126.2 MB/s\u001B[0m eta \u001B[36m0:00:01\u001B[0m\n\u001B[2K   \u001B[91m━━━━━━━━━━━━━━━━━━━━━━━━━━━━━━━━━━━━━━\u001B[0m\u001B[91m╸\u001B[0m \u001B[32m670.2/670.2 MB\u001B[0m \u001B[31m126.2 MB/s\u001B[0m eta \u001B[36m0:00:01\u001B[0m\n\u001B[2K   \u001B[91m━━━━━━━━━━━━━━━━━━━━━━━━━━━━━━━━━━━━━━\u001B[0m\u001B[91m╸\u001B[0m \u001B[32m670.2/670.2 MB\u001B[0m \u001B[31m126.2 MB/s\u001B[0m eta \u001B[36m0:00:01\u001B[0m\n\u001B[2K   \u001B[91m━━━━━━━━━━━━━━━━━━━━━━━━━━━━━━━━━━━━━━\u001B[0m\u001B[91m╸\u001B[0m \u001B[32m670.2/670.2 MB\u001B[0m \u001B[31m126.2 MB/s\u001B[0m eta \u001B[36m0:00:01\u001B[0m\n\u001B[2K   \u001B[90m━━━━━━━━━━━━━━━━━━━━━━━━━━━━━━━━━━━━━━━━\u001B[0m \u001B[32m670.2/670.2 MB\u001B[0m \u001B[31m1.6 MB/s\u001B[0m eta \u001B[36m0:00:00\u001B[0m\n\u001B[?25hDownloading transformers-4.40.0-py3-none-any.whl (9.0 MB)\n\u001B[?25l   \u001B[90m━━━━━━━━━━━━━━━━━━━━━━━━━━━━━━━━━━━━━━━━\u001B[0m \u001B[32m0.0/9.0 MB\u001B[0m \u001B[31m?\u001B[0m eta \u001B[36m-:--:--\u001B[0m\n\u001B[2K   \u001B[91m━━━━━━━━━━━━━━━━━━━\u001B[0m\u001B[91m╸\u001B[0m\u001B[90m━━━━━━━━━━━━━━━━━━━━\u001B[0m \u001B[32m4.5/9.0 MB\u001B[0m \u001B[31m134.1 MB/s\u001B[0m eta \u001B[36m0:00:01\u001B[0m\n\u001B[2K   \u001B[91m━━━━━━━━━━━━━━━━━━━━━━━━━━━━━━━━━━━━━━━\u001B[0m\u001B[91m╸\u001B[0m \u001B[32m9.0/9.0 MB\u001B[0m \u001B[31m136.3 MB/s\u001B[0m eta \u001B[36m0:00:01\u001B[0m\n\u001B[2K   \u001B[91m━━━━━━━━━━━━━━━━━━━━━━━━━━━━━━━━━━━━━━━\u001B[0m\u001B[91m╸\u001B[0m \u001B[32m9.0/9.0 MB\u001B[0m \u001B[31m136.3 MB/s\u001B[0m eta \u001B[36m0:00:01\u001B[0m\n\u001B[2K   \u001B[90m━━━━━━━━━━━━━━━━━━━━━━━━━━━━━━━━━━━━━━━━\u001B[0m \u001B[32m9.0/9.0 MB\u001B[0m \u001B[31m72.6 MB/s\u001B[0m eta \u001B[36m0:00:00\u001B[0m\n\u001B[?25hDownloading nvidia_nccl_cu12-2.18.1-py3-none-manylinux1_x86_64.whl (209.8 MB)\n\u001B[?25l   \u001B[90m━━━━━━━━━━━━━━━━━━━━━━━━━━━━━━━━━━━━━━━━\u001B[0m \u001B[32m0.0/209.8 MB\u001B[0m \u001B[31m?\u001B[0m eta \u001B[36m-:--:--\u001B[0m\n\u001B[2K   \u001B[91m━\u001B[0m\u001B[90m╺\u001B[0m\u001B[90m━━━━━━━━━━━━━━━━━━━━━━━━━━━━━━━━━━━━━━\u001B[0m \u001B[32m5.4/209.8 MB\u001B[0m \u001B[31m162.7 MB/s\u001B[0m eta \u001B[36m0:00:02\u001B[0m\n\u001B[2K   \u001B[91m━━\u001B[0m\u001B[90m╺\u001B[0m\u001B[90m━━━━━━━━━━━━━━━━━━━━━━━━━━━━━━━━━━━━━\u001B[0m \u001B[32m10.6/209.8 MB\u001B[0m \u001B[31m155.9 MB/s\u001B[0m eta \u001B[36m0:00:02\u001B[0m\n\u001B[2K   \u001B[91m━━━\u001B[0m\u001B[90m╺\u001B[0m\u001B[90m━━━━━━━━━━━━━━━━━━━━━━━━━━━━━━━━━━━━\u001B[0m \u001B[32m16.0/209.8 MB\u001B[0m \u001B[31m154.4 MB/s\u001B[0m eta \u001B[36m0:00:02\u001B[0m\n\u001B[2K   \u001B[91m━━━━\u001B[0m\u001B[90m╺\u001B[0m\u001B[90m━━━━━━━━━━━━━━━━━━━━━━━━━━━━━━━━━━━\u001B[0m \u001B[32m21.2/209.8 MB\u001B[0m \u001B[31m154.0 MB/s\u001B[0m eta \u001B[36m0:00:02\u001B[0m\n\u001B[2K   \u001B[91m━━━━━\u001B[0m\u001B[90m╺\u001B[0m\u001B[90m━━━━━━━━━━━━━━━━━━━━━━━━━━━━━━━━━━\u001B[0m \u001B[32m26.4/209.8 MB\u001B[0m \u001B[31m153.4 MB/s\u001B[0m eta \u001B[36m0:00:02\u001B[0m\n\u001B[2K   \u001B[91m━━━━━━\u001B[0m\u001B[90m╺\u001B[0m\u001B[90m━━━━━━━━━━━━━━━━━━━━━━━━━━━━━━━━━\u001B[0m \u001B[32m31.7/209.8 MB\u001B[0m \u001B[31m153.0 MB/s\u001B[0m eta \u001B[36m0:00:02\u001B[0m\n\u001B[2K   \u001B[91m━━━━━━━\u001B[0m\u001B[90m╺\u001B[0m\u001B[90m━━━━━━━━━━━━━━━━━━━━━━━━━━━━━━━━\u001B[0m \u001B[32m37.0/209.8 MB\u001B[0m \u001B[31m155.1 MB/s\u001B[0m eta \u001B[36m0:00:02\u001B[0m\n\u001B[2K   \u001B[91m━━━━━━━━\u001B[0m\u001B[90m╺\u001B[0m\u001B[90m━━━━━━━━━━━━━━━━━━━━━━━━━━━━━━━\u001B[0m \u001B[32m42.2/209.8 MB\u001B[0m \u001B[31m153.9 MB/s\u001B[0m eta \u001B[36m0:00:02\u001B[0m\n\u001B[2K   \u001B[91m━━━━━━━━━\u001B[0m\u001B[90m╺\u001B[0m\u001B[90m━━━━━━━━━━━━━━━━━━━━━━━━━━━━━━\u001B[0m \u001B[32m47.6/209.8 MB\u001B[0m \u001B[31m154.5 MB/s\u001B[0m eta \u001B[36m0:00:02\u001B[0m\n\u001B[2K   \u001B[91m━━━━━━━━━\u001B[0m\u001B[91m╸\u001B[0m\u001B[90m━━━━━━━━━━━━━━━━━━━━━━━━━━━━━━\u001B[0m \u001B[32m51.9/209.8 MB\u001B[0m \u001B[31m140.4 MB/s\u001B[0m eta \u001B[36m0:00:02\u001B[0m\n\u001B[2K   \u001B[91m━━━━━━━━━━\u001B[0m\u001B[91m╸\u001B[0m\u001B[90m━━━━━━━━━━━━━━━━━━━━━━━━━━━━━\u001B[0m \u001B[32m57.2/209.8 MB\u001B[0m \u001B[31m139.0 MB/s\u001B[0m eta \u001B[36m0:00:02\u001B[0m\n\u001B[2K   \u001B[91m━━━━━━━━━━━\u001B[0m\u001B[91m╸\u001B[0m\u001B[90m━━━━━━━━━━━━━━━━━━━━━━━━━━━━\u001B[0m \u001B[32m62.1/209.8 MB\u001B[0m \u001B[31m150.4 MB/s\u001B[0m eta \u001B[36m0:00:01\u001B[0m\n\u001B[2K   \u001B[91m━━━━━━━━━━━━\u001B[0m\u001B[91m╸\u001B[0m\u001B[90m━━━━━━━━━━━━━━━━━━━━━━━━━━━\u001B[0m \u001B[32m67.5/209.8 MB\u001B[0m \u001B[31m152.1 MB/s\u001B[0m eta \u001B[36m0:00:01\u001B[0m\n\u001B[2K   \u001B[91m━━━━━━━━━━━━━\u001B[0m\u001B[91m╸\u001B[0m\u001B[90m━━━━━━━━━━━━━━━━━━━━━━━━━━\u001B[0m \u001B[32m72.8/209.8 MB\u001B[0m \u001B[31m156.5 MB/s\u001B[0m eta \u001B[36m0:00:01\u001B[0m\n\u001B[2K   \u001B[91m━━━━━━━━━━━━━━\u001B[0m\u001B[91m╸\u001B[0m\u001B[90m━━━━━━━━━━━━━━━━━━━━━━━━━\u001B[0m \u001B[32m78.3/209.8 MB\u001B[0m \u001B[31m157.2 MB/s\u001B[0m eta \u001B[36m0:00:01\u001B[0m\n\u001B[2K   \u001B[91m━━━━━━━━━━━━━━━\u001B[0m\u001B[91m╸\u001B[0m\u001B[90m━━━━━━━━━━━━━━━━━━━━━━━━\u001B[0m \u001B[32m82.2/209.8 MB\u001B[0m \u001B[31m136.7 MB/s\u001B[0m eta \u001B[36m0:00:01\u001B[0m\n\u001B[2K   \u001B[91m━━━━━━━━━━━━━━━━\u001B[0m\u001B[91m╸\u001B[0m\u001B[90m━━━━━━━━━━━━━━━━━━━━━━━\u001B[0m \u001B[32m87.4/209.8 MB\u001B[0m \u001B[31m133.7 MB/s\u001B[0m eta \u001B[36m0:00:01\u001B[0m\n\u001B[2K   \u001B[91m━━━━━━━━━━━━━━━━━\u001B[0m\u001B[91m╸\u001B[0m\u001B[90m━━━━━━━━━━━━━━━━━━━━━━\u001B[0m \u001B[32m92.6/209.8 MB\u001B[0m \u001B[31m151.5 MB/s\u001B[0m eta \u001B[36m0:00:01\u001B[0m\n\u001B[2K   \u001B[91m━━━━━━━━━━━━━━━━━━\u001B[0m\u001B[91m╸\u001B[0m\u001B[90m━━━━━━━━━━━━━━━━━━━━━\u001B[0m \u001B[32m97.8/209.8 MB\u001B[0m \u001B[31m152.8 MB/s\u001B[0m eta \u001B[36m0:00:01\u001B[0m\n\u001B[2K   \u001B[91m━━━━━━━━━━━━━━━━━━━\u001B[0m\u001B[90m╺\u001B[0m\u001B[90m━━━━━━━━━━━━━━━━━━━\u001B[0m \u001B[32m103.0/209.8 MB\u001B[0m \u001B[31m152.2 MB/s\u001B[0m eta \u001B[36m0:00:01\u001B[0m\n\u001B[2K   \u001B[91m━━━━━━━━━━━━━━━━━━━━\u001B[0m\u001B[90m╺\u001B[0m\u001B[90m━━━━━━━━━━━━━━━━━━\u001B[0m \u001B[32m108.2/209.8 MB\u001B[0m \u001B[31m152.5 MB/s\u001B[0m eta \u001B[36m0:00:01\u001B[0m\n\u001B[2K   \u001B[91m━━━━━━━━━━━━━━━━━━━━━\u001B[0m\u001B[90m╺\u001B[0m\u001B[90m━━━━━━━━━━━━━━━━━\u001B[0m \u001B[32m113.5/209.8 MB\u001B[0m \u001B[31m153.3 MB/s\u001B[0m eta \u001B[36m0:00:01\u001B[0m\n\u001B[2K   \u001B[91m━━━━━━━━━━━━━━━━━━━━━━\u001B[0m\u001B[90m╺\u001B[0m\u001B[90m━━━━━━━━━━━━━━━━\u001B[0m \u001B[32m118.8/209.8 MB\u001B[0m \u001B[31m155.5 MB/s\u001B[0m eta \u001B[36m0:00:01\u001B[0m\n\u001B[2K   \u001B[91m━━━━━━━━━━━━━━━━━━━━━━━\u001B[0m\u001B[90m╺\u001B[0m\u001B[90m━━━━━━━━━━━━━━━\u001B[0m \u001B[32m124.1/209.8 MB\u001B[0m \u001B[31m156.1 MB/s\u001B[0m eta \u001B[36m0:00:01\u001B[0m\n\u001B[2K   \u001B[91m━━━━━━━━━━━━━━━━━━━━━━━━\u001B[0m\u001B[90m╺\u001B[0m\u001B[90m━━━━━━━━━━━━━━\u001B[0m \u001B[32m129.3/209.8 MB\u001B[0m \u001B[31m154.2 MB/s\u001B[0m eta \u001B[36m0:00:01\u001B[0m\n\u001B[2K   \u001B[91m━━━━━━━━━━━━━━━━━━━━━━━━━\u001B[0m\u001B[90m╺\u001B[0m\u001B[90m━━━━━━━━━━━━━\u001B[0m \u001B[32m134.6/209.8 MB\u001B[0m \u001B[31m153.7 MB/s\u001B[0m eta \u001B[36m0:00:01\u001B[0m\n\u001B[2K   \u001B[91m━━━━━━━━━━━━━━━━━━━━━━━━━━\u001B[0m\u001B[90m╺\u001B[0m\u001B[90m━━━━━━━━━━━━\u001B[0m \u001B[32m139.9/209.8 MB\u001B[0m \u001B[31m153.7 MB/s\u001B[0m eta \u001B[36m0:00:01\u001B[0m\n\u001B[2K   \u001B[91m━━━━━━━━━━━━━━━━━━━━━━━━━━\u001B[0m\u001B[91m╸\u001B[0m\u001B[90m━━━━━━━━━━━━\u001B[0m \u001B[32m145.1/209.8 MB\u001B[0m \u001B[31m153.0 MB/s\u001B[0m eta \u001B[36m0:00:01\u001B[0m\n\u001B[2K   \u001B[91m━━━━━━━━━━━━━━━━━━━━━━━━━━━\u001B[0m\u001B[91m╸\u001B[0m\u001B[90m━━━━━━━━━━━\u001B[0m \u001B[32m150.4/209.8 MB\u001B[0m \u001B[31m153.5 MB/s\u001B[0m eta \u001B[36m0:00:01\u001B[0m\n\u001B[2K   \u001B[91m━━━━━━━━━━━━━━━━━━━━━━━━━━━━\u001B[0m\u001B[91m╸\u001B[0m\u001B[90m━━━━━━━━━━\u001B[0m \u001B[32m155.6/209.8 MB\u001B[0m \u001B[31m153.5 MB/s\u001B[0m eta \u001B[36m0:00:01\u001B[0m\n\u001B[2K   \u001B[91m━━━━━━━━━━━━━━━━━━━━━━━━━━━━━\u001B[0m\u001B[91m╸\u001B[0m\u001B[90m━━━━━━━━━\u001B[0m \u001B[32m160.8/209.8 MB\u001B[0m \u001B[31m152.2 MB/s\u001B[0m eta \u001B[36m0:00:01\u001B[0m\n\u001B[2K   \u001B[91m━━━━━━━━━━━━━━━━━━━━━━━━━━━━━━\u001B[0m\u001B[91m╸\u001B[0m\u001B[90m━━━━━━━━\u001B[0m \u001B[32m166.1/209.8 MB\u001B[0m \u001B[31m151.9 MB/s\u001B[0m eta \u001B[36m0:00:01\u001B[0m\n\u001B[2K   \u001B[91m━━━━━━━━━━━━━━━━━━━━━━━━━━━━━━━\u001B[0m\u001B[91m╸\u001B[0m\u001B[90m━━━━━━━\u001B[0m \u001B[32m171.3/209.8 MB\u001B[0m \u001B[31m153.0 MB/s\u001B[0m eta \u001B[36m0:00:01\u001B[0m\n\u001B[2K   \u001B[91m━━━━━━━━━━━━━━━━━━━━━━━━━━━━━━━━\u001B[0m\u001B[91m╸\u001B[0m\u001B[90m━━━━━━\u001B[0m \u001B[32m176.6/209.8 MB\u001B[0m \u001B[31m153.2 MB/s\u001B[0m eta \u001B[36m0:00:01\u001B[0m\n\u001B[2K   \u001B[91m━━━━━━━━━━━━━━━━━━━━━━━━━━━━━━━━━\u001B[0m\u001B[91m╸\u001B[0m\u001B[90m━━━━━\u001B[0m \u001B[32m181.9/209.8 MB\u001B[0m \u001B[31m154.4 MB/s\u001B[0m eta \u001B[36m0:00:01\u001B[0m\n\u001B[2K   \u001B[91m━━━━━━━━━━━━━━━━━━━━━━━━━━━━━━━━━━\u001B[0m\u001B[91m╸\u001B[0m\u001B[90m━━━━\u001B[0m \u001B[32m186.5/209.8 MB\u001B[0m \u001B[31m141.9 MB/s\u001B[0m eta \u001B[36m0:00:01\u001B[0m\n\u001B[2K   \u001B[91m━━━━━━━━━━━━━━━━━━━━━━━━━━━━━━━━━━━\u001B[0m\u001B[91m╸\u001B[0m\u001B[90m━━━\u001B[0m \u001B[32m191.8/209.8 MB\u001B[0m \u001B[31m142.8 MB/s\u001B[0m eta \u001B[36m0:00:01\u001B[0m\n\u001B[2K   \u001B[91m━━━━━━━━━━━━━━━━━━━━━━━━━━━━━━━━━━━━\u001B[0m\u001B[91m╸\u001B[0m\u001B[90m━━\u001B[0m \u001B[32m197.1/209.8 MB\u001B[0m \u001B[31m155.2 MB/s\u001B[0m eta \u001B[36m0:00:01\u001B[0m\n\u001B[2K   \u001B[91m━━━━━━━━━━━━━━━━━━━━━━━━━━━━━━━━━━━━━\u001B[0m\u001B[91m╸\u001B[0m\u001B[90m━\u001B[0m \u001B[32m202.3/209.8 MB\u001B[0m \u001B[31m152.2 MB/s\u001B[0m eta \u001B[36m0:00:01\u001B[0m\n\u001B[2K   \u001B[91m━━━━━━━━━━━━━━━━━━━━━━━━━━━━━━━━━━━━━━\u001B[0m\u001B[91m╸\u001B[0m \u001B[32m207.7/209.8 MB\u001B[0m \u001B[31m154.9 MB/s\u001B[0m eta \u001B[36m0:00:01\u001B[0m\n\u001B[2K   \u001B[91m━━━━━━━━━━━━━━━━━━━━━━━━━━━━━━━━━━━━━━\u001B[0m\u001B[91m╸\u001B[0m \u001B[32m209.8/209.8 MB\u001B[0m \u001B[31m154.1 MB/s\u001B[0m eta \u001B[36m0:00:01\u001B[0m\n\u001B[2K   \u001B[91m━━━━━━━━━━━━━━━━━━━━━━━━━━━━━━━━━━━━━━\u001B[0m\u001B[91m╸\u001B[0m \u001B[32m209.8/209.8 MB\u001B[0m \u001B[31m154.1 MB/s\u001B[0m eta \u001B[36m0:00:01\u001B[0m\n\u001B[2K   \u001B[91m━━━━━━━━━━━━━━━━━━━━━━━━━━━━━━━━━━━━━━\u001B[0m\u001B[91m╸\u001B[0m \u001B[32m209.8/209.8 MB\u001B[0m \u001B[31m154.1 MB/s\u001B[0m eta \u001B[36m0:00:01\u001B[0m\n\u001B[2K   \u001B[91m━━━━━━━━━━━━━━━━━━━━━━━━━━━━━━━━━━━━━━\u001B[0m\u001B[91m╸\u001B[0m \u001B[32m209.8/209.8 MB\u001B[0m \u001B[31m154.1 MB/s\u001B[0m eta \u001B[36m0:00:01\u001B[0m\n\u001B[2K   \u001B[91m━━━━━━━━━━━━━━━━━━━━━━━━━━━━━━━━━━━━━━\u001B[0m\u001B[91m╸\u001B[0m \u001B[32m209.8/209.8 MB\u001B[0m \u001B[31m154.1 MB/s\u001B[0m eta \u001B[36m0:00:01\u001B[0m\n\u001B[2K   \u001B[91m━━━━━━━━━━━━━━━━━━━━━━━━━━━━━━━━━━━━━━\u001B[0m\u001B[91m╸\u001B[0m \u001B[32m209.8/209.8 MB\u001B[0m \u001B[31m154.1 MB/s\u001B[0m eta \u001B[36m0:00:01\u001B[0m\n\u001B[2K   \u001B[91m━━━━━━━━━━━━━━━━━━━━━━━━━━━━━━━━━━━━━━\u001B[0m\u001B[91m╸\u001B[0m \u001B[32m209.8/209.8 MB\u001B[0m \u001B[31m154.1 MB/s\u001B[0m eta \u001B[36m0:00:01\u001B[0m\n\u001B[2K   \u001B[91m━━━━━━━━━━━━━━━━━━━━━━━━━━━━━━━━━━━━━━\u001B[0m\u001B[91m╸\u001B[0m \u001B[32m209.8/209.8 MB\u001B[0m \u001B[31m154.1 MB/s\u001B[0m eta \u001B[36m0:00:01\u001B[0m\n\u001B[2K   \u001B[91m━━━━━━━━━━━━━━━━━━━━━━━━━━━━━━━━━━━━━━\u001B[0m\u001B[91m╸\u001B[0m \u001B[32m209.8/209.8 MB\u001B[0m \u001B[31m154.1 MB/s\u001B[0m eta \u001B[36m0:00:01\u001B[0m\n\u001B[2K   \u001B[91m━━━━━━━━━━━━━━━━━━━━━━━━━━━━━━━━━━━━━━\u001B[0m\u001B[91m╸\u001B[0m \u001B[32m209.8/209.8 MB\u001B[0m \u001B[31m154.1 MB/s\u001B[0m eta \u001B[36m0:00:01\u001B[0m\n\u001B[2K   \u001B[91m━━━━━━━━━━━━━━━━━━━━━━━━━━━━━━━━━━━━━━\u001B[0m\u001B[91m╸\u001B[0m \u001B[32m209.8/209.8 MB\u001B[0m \u001B[31m154.1 MB/s\u001B[0m eta \u001B[36m0:00:01\u001B[0m\n\u001B[2K   \u001B[91m━━━━━━━━━━━━━━━━━━━━━━━━━━━━━━━━━━━━━━\u001B[0m\u001B[91m╸\u001B[0m \u001B[32m209.8/209.8 MB\u001B[0m \u001B[31m154.1 MB/s\u001B[0m eta \u001B[36m0:00:01\u001B[0m\n\u001B[2K   \u001B[91m━━━━━━━━━━━━━━━━━━━━━━━━━━━━━━━━━━━━━━\u001B[0m\u001B[91m╸\u001B[0m \u001B[32m209.8/209.8 MB\u001B[0m \u001B[31m154.1 MB/s\u001B[0m eta \u001B[36m0:00:01\u001B[0m\n\u001B[2K   \u001B[91m━━━━━━━━━━━━━━━━━━━━━━━━━━━━━━━━━━━━━━\u001B[0m\u001B[91m╸\u001B[0m \u001B[32m209.8/209.8 MB\u001B[0m \u001B[31m154.1 MB/s\u001B[0m eta \u001B[36m0:00:01\u001B[0m\n\u001B[2K   \u001B[91m━━━━━━━━━━━━━━━━━━━━━━━━━━━━━━━━━━━━━━\u001B[0m\u001B[91m╸\u001B[0m \u001B[32m209.8/209.8 MB\u001B[0m \u001B[31m154.1 MB/s\u001B[0m eta \u001B[36m0:00:01\u001B[0m\n\u001B[2K   \u001B[91m━━━━━━━━━━━━━━━━━━━━━━━━━━━━━━━━━━━━━━\u001B[0m\u001B[91m╸\u001B[0m \u001B[32m209.8/209.8 MB\u001B[0m \u001B[31m154.1 MB/s\u001B[0m eta \u001B[36m0:00:01\u001B[0m\n\u001B[2K   \u001B[91m━━━━━━━━━━━━━━━━━━━━━━━━━━━━━━━━━━━━━━\u001B[0m\u001B[91m╸\u001B[0m \u001B[32m209.8/209.8 MB\u001B[0m \u001B[31m154.1 MB/s\u001B[0m eta \u001B[36m0:00:01\u001B[0m\n\u001B[2K   \u001B[91m━━━━━━━━━━━━━━━━━━━━━━━━━━━━━━━━━━━━━━\u001B[0m\u001B[91m╸\u001B[0m \u001B[32m209.8/209.8 MB\u001B[0m \u001B[31m154.1 MB/s\u001B[0m eta \u001B[36m0:00:01\u001B[0m\n\u001B[2K   \u001B[91m━━━━━━━━━━━━━━━━━━━━━━━━━━━━━━━━━━━━━━\u001B[0m\u001B[91m╸\u001B[0m \u001B[32m209.8/209.8 MB\u001B[0m \u001B[31m154.1 MB/s\u001B[0m eta \u001B[36m0:00:01\u001B[0m\n\u001B[2K   \u001B[91m━━━━━━━━━━━━━━━━━━━━━━━━━━━━━━━━━━━━━━\u001B[0m\u001B[91m╸\u001B[0m \u001B[32m209.8/209.8 MB\u001B[0m \u001B[31m154.1 MB/s\u001B[0m eta \u001B[36m0:00:01\u001B[0m\n\u001B[2K   \u001B[91m━━━━━━━━━━━━━━━━━━━━━━━━━━━━━━━━━━━━━━\u001B[0m\u001B[91m╸\u001B[0m \u001B[32m209.8/209.8 MB\u001B[0m \u001B[31m154.1 MB/s\u001B[0m eta \u001B[36m0:00:01\u001B[0m\n\u001B[2K   \u001B[91m━━━━━━━━━━━━━━━━━━━━━━━━━━━━━━━━━━━━━━\u001B[0m\u001B[91m╸\u001B[0m \u001B[32m209.8/209.8 MB\u001B[0m \u001B[31m154.1 MB/s\u001B[0m eta \u001B[36m0:00:01\u001B[0m\n\u001B[2K   \u001B[91m━━━━━━━━━━━━━━━━━━━━━━━━━━━━━━━━━━━━━━\u001B[0m\u001B[91m╸\u001B[0m \u001B[32m209.8/209.8 MB\u001B[0m \u001B[31m154.1 MB/s\u001B[0m eta \u001B[36m0:00:01\u001B[0m\n\u001B[2K   \u001B[91m━━━━━━━━━━━━━━━━━━━━━━━━━━━━━━━━━━━━━━\u001B[0m\u001B[91m╸\u001B[0m \u001B[32m209.8/209.8 MB\u001B[0m \u001B[31m154.1 MB/s\u001B[0m eta \u001B[36m0:00:01\u001B[0m\n\u001B[2K   \u001B[91m━━━━━━━━━━━━━━━━━━━━━━━━━━━━━━━━━━━━━━\u001B[0m\u001B[91m╸\u001B[0m \u001B[32m209.8/209.8 MB\u001B[0m \u001B[31m154.1 MB/s\u001B[0m eta \u001B[36m0:00:01\u001B[0m\n\u001B[2K   \u001B[91m━━━━━━━━━━━━━━━━━━━━━━━━━━━━━━━━━━━━━━\u001B[0m\u001B[91m╸\u001B[0m \u001B[32m209.8/209.8 MB\u001B[0m \u001B[31m154.1 MB/s\u001B[0m eta \u001B[36m0:00:01\u001B[0m\n\u001B[2K   \u001B[91m━━━━━━━━━━━━━━━━━━━━━━━━━━━━━━━━━━━━━━\u001B[0m\u001B[91m╸\u001B[0m \u001B[32m209.8/209.8 MB\u001B[0m \u001B[31m154.1 MB/s\u001B[0m eta \u001B[36m0:00:01\u001B[0m\n\u001B[2K   \u001B[91m━━━━━━━━━━━━━━━━━━━━━━━━━━━━━━━━━━━━━━\u001B[0m\u001B[91m╸\u001B[0m \u001B[32m209.8/209.8 MB\u001B[0m \u001B[31m154.1 MB/s\u001B[0m eta \u001B[36m0:00:01\u001B[0m\n\u001B[2K   \u001B[91m━━━━━━━━━━━━━━━━━━━━━━━━━━━━━━━━━━━━━━\u001B[0m\u001B[91m╸\u001B[0m \u001B[32m209.8/209.8 MB\u001B[0m \u001B[31m154.1 MB/s\u001B[0m eta \u001B[36m0:00:01\u001B[0m\n\u001B[2K   \u001B[91m━━━━━━━━━━━━━━━━━━━━━━━━━━━━━━━━━━━━━━\u001B[0m\u001B[91m╸\u001B[0m \u001B[32m209.8/209.8 MB\u001B[0m \u001B[31m154.1 MB/s\u001B[0m eta \u001B[36m0:00:01\u001B[0m\n\u001B[2K   \u001B[91m━━━━━━━━━━━━━━━━━━━━━━━━━━━━━━━━━━━━━━\u001B[0m\u001B[91m╸\u001B[0m \u001B[32m209.8/209.8 MB\u001B[0m \u001B[31m154.1 MB/s\u001B[0m eta \u001B[36m0:00:01\u001B[0m\n\u001B[2K   \u001B[91m━━━━━━━━━━━━━━━━━━━━━━━━━━━━━━━━━━━━━━\u001B[0m\u001B[91m╸\u001B[0m \u001B[32m209.8/209.8 MB\u001B[0m \u001B[31m154.1 MB/s\u001B[0m eta \u001B[36m0:00:01\u001B[0m\n\u001B[2K   \u001B[91m━━━━━━━━━━━━━━━━━━━━━━━━━━━━━━━━━━━━━━\u001B[0m\u001B[91m╸\u001B[0m \u001B[32m209.8/209.8 MB\u001B[0m \u001B[31m154.1 MB/s\u001B[0m eta \u001B[36m0:00:01\u001B[0m\n\u001B[2K   \u001B[91m━━━━━━━━━━━━━━━━━━━━━━━━━━━━━━━━━━━━━━\u001B[0m\u001B[91m╸\u001B[0m \u001B[32m209.8/209.8 MB\u001B[0m \u001B[31m154.1 MB/s\u001B[0m eta \u001B[36m0:00:01\u001B[0m\n\u001B[2K   \u001B[91m━━━━━━━━━━━━━━━━━━━━━━━━━━━━━━━━━━━━━━\u001B[0m\u001B[91m╸\u001B[0m \u001B[32m209.8/209.8 MB\u001B[0m \u001B[31m154.1 MB/s\u001B[0m eta \u001B[36m0:00:01\u001B[0m\n\u001B[2K   \u001B[91m━━━━━━━━━━━━━━━━━━━━━━━━━━━━━━━━━━━━━━\u001B[0m\u001B[91m╸\u001B[0m \u001B[32m209.8/209.8 MB\u001B[0m \u001B[31m154.1 MB/s\u001B[0m eta \u001B[36m0:00:01\u001B[0m\n\u001B[2K   \u001B[91m━━━━━━━━━━━━━━━━━━━━━━━━━━━━━━━━━━━━━━\u001B[0m\u001B[91m╸\u001B[0m \u001B[32m209.8/209.8 MB\u001B[0m \u001B[31m154.1 MB/s\u001B[0m eta \u001B[36m0:00:01\u001B[0m\n\u001B[2K   \u001B[91m━━━━━━━━━━━━━━━━━━━━━━━━━━━━━━━━━━━━━━\u001B[0m\u001B[91m╸\u001B[0m \u001B[32m209.8/209.8 MB\u001B[0m \u001B[31m154.1 MB/s\u001B[0m eta \u001B[36m0:00:01\u001B[0m\n\u001B[2K   \u001B[91m━━━━━━━━━━━━━━━━━━━━━━━━━━━━━━━━━━━━━━\u001B[0m\u001B[91m╸\u001B[0m \u001B[32m209.8/209.8 MB\u001B[0m \u001B[31m154.1 MB/s\u001B[0m eta \u001B[36m0:00:01\u001B[0m\n\u001B[2K   \u001B[91m━━━━━━━━━━━━━━━━━━━━━━━━━━━━━━━━━━━━━━\u001B[0m\u001B[91m╸\u001B[0m \u001B[32m209.8/209.8 MB\u001B[0m \u001B[31m154.1 MB/s\u001B[0m eta \u001B[36m0:00:01\u001B[0m\n\u001B[2K   \u001B[91m━━━━━━━━━━━━━━━━━━━━━━━━━━━━━━━━━━━━━━\u001B[0m\u001B[91m╸\u001B[0m \u001B[32m209.8/209.8 MB\u001B[0m \u001B[31m154.1 MB/s\u001B[0m eta \u001B[36m0:00:01\u001B[0m\n\u001B[2K   \u001B[91m━━━━━━━━━━━━━━━━━━━━━━━━━━━━━━━━━━━━━━\u001B[0m\u001B[91m╸\u001B[0m \u001B[32m209.8/209.8 MB\u001B[0m \u001B[31m154.1 MB/s\u001B[0m eta \u001B[36m0:00:01\u001B[0m\n\u001B[2K   \u001B[91m━━━━━━━━━━━━━━━━━━━━━━━━━━━━━━━━━━━━━━\u001B[0m\u001B[91m╸\u001B[0m \u001B[32m209.8/209.8 MB\u001B[0m \u001B[31m154.1 MB/s\u001B[0m eta \u001B[36m0:00:01\u001B[0m\n\u001B[2K   \u001B[91m━━━━━━━━━━━━━━━━━━━━━━━━━━━━━━━━━━━━━━\u001B[0m\u001B[91m╸\u001B[0m \u001B[32m209.8/209.8 MB\u001B[0m \u001B[31m154.1 MB/s\u001B[0m eta \u001B[36m0:00:01\u001B[0m\n\u001B[2K   \u001B[91m━━━━━━━━━━━━━━━━━━━━━━━━━━━━━━━━━━━━━━\u001B[0m\u001B[91m╸\u001B[0m \u001B[32m209.8/209.8 MB\u001B[0m \u001B[31m154.1 MB/s\u001B[0m eta \u001B[36m0:00:01\u001B[0m\n\u001B[2K   \u001B[91m━━━━━━━━━━━━━━━━━━━━━━━━━━━━━━━━━━━━━━\u001B[0m\u001B[91m╸\u001B[0m \u001B[32m209.8/209.8 MB\u001B[0m \u001B[31m154.1 MB/s\u001B[0m eta \u001B[36m0:00:01\u001B[0m\n\u001B[2K   \u001B[91m━━━━━━━━━━━━━━━━━━━━━━━━━━━━━━━━━━━━━━\u001B[0m\u001B[91m╸\u001B[0m \u001B[32m209.8/209.8 MB\u001B[0m \u001B[31m154.1 MB/s\u001B[0m eta \u001B[36m0:00:01\u001B[0m\n\u001B[2K   \u001B[91m━━━━━━━━━━━━━━━━━━━━━━━━━━━━━━━━━━━━━━\u001B[0m\u001B[91m╸\u001B[0m \u001B[32m209.8/209.8 MB\u001B[0m \u001B[31m154.1 MB/s\u001B[0m eta \u001B[36m0:00:01\u001B[0m\n\u001B[2K   \u001B[91m━━━━━━━━━━━━━━━━━━━━━━━━━━━━━━━━━━━━━━\u001B[0m\u001B[91m╸\u001B[0m \u001B[32m209.8/209.8 MB\u001B[0m \u001B[31m154.1 MB/s\u001B[0m eta \u001B[36m0:00:01\u001B[0m\n\u001B[2K   \u001B[91m━━━━━━━━━━━━━━━━━━━━━━━━━━━━━━━━━━━━━━\u001B[0m\u001B[91m╸\u001B[0m \u001B[32m209.8/209.8 MB\u001B[0m \u001B[31m154.1 MB/s\u001B[0m eta \u001B[36m0:00:01\u001B[0m\n\u001B[2K   \u001B[91m━━━━━━━━━━━━━━━━━━━━━━━━━━━━━━━━━━━━━━\u001B[0m\u001B[91m╸\u001B[0m \u001B[32m209.8/209.8 MB\u001B[0m \u001B[31m154.1 MB/s\u001B[0m eta \u001B[36m0:00:01\u001B[0m\n\u001B[2K   \u001B[91m━━━━━━━━━━━━━━━━━━━━━━━━━━━━━━━━━━━━━━\u001B[0m\u001B[91m╸\u001B[0m \u001B[32m209.8/209.8 MB\u001B[0m \u001B[31m154.1 MB/s\u001B[0m eta \u001B[36m0:00:01\u001B[0m\n\u001B[2K   \u001B[91m━━━━━━━━━━━━━━━━━━━━━━━━━━━━━━━━━━━━━━\u001B[0m\u001B[91m╸\u001B[0m \u001B[32m209.8/209.8 MB\u001B[0m \u001B[31m154.1 MB/s\u001B[0m eta \u001B[36m0:00:01\u001B[0m\n\u001B[2K   \u001B[91m━━━━━━━━━━━━━━━━━━━━━━━━━━━━━━━━━━━━━━\u001B[0m\u001B[91m╸\u001B[0m \u001B[32m209.8/209.8 MB\u001B[0m \u001B[31m154.1 MB/s\u001B[0m eta \u001B[36m0:00:01\u001B[0m\n\u001B[2K   \u001B[91m━━━━━━━━━━━━━━━━━━━━━━━━━━━━━━━━━━━━━━\u001B[0m\u001B[91m╸\u001B[0m \u001B[32m209.8/209.8 MB\u001B[0m \u001B[31m154.1 MB/s\u001B[0m eta \u001B[36m0:00:01\u001B[0m\n\u001B[2K   \u001B[91m━━━━━━━━━━━━━━━━━━━━━━━━━━━━━━━━━━━━━━\u001B[0m\u001B[91m╸\u001B[0m \u001B[32m209.8/209.8 MB\u001B[0m \u001B[31m154.1 MB/s\u001B[0m eta \u001B[36m0:00:01\u001B[0m\n\u001B[2K   \u001B[90m━━━━━━━━━━━━━━━━━━━━━━━━━━━━━━━━━━━━━━━━\u001B[0m \u001B[32m209.8/209.8 MB\u001B[0m \u001B[31m4.7 MB/s\u001B[0m eta \u001B[36m0:00:00\u001B[0m\n\u001B[?25hDownloading triton-2.1.0-0-cp311-cp311-manylinux2014_x86_64.manylinux_2_17_x86_64.whl (89.2 MB)\n\u001B[?25l   \u001B[90m━━━━━━━━━━━━━━━━━━━━━━━━━━━━━━━━━━━━━━━━\u001B[0m \u001B[32m0.0/89.2 MB\u001B[0m \u001B[31m?\u001B[0m eta \u001B[36m-:--:--\u001B[0m\n\u001B[2K   \u001B[91m━━\u001B[0m\u001B[90m╺\u001B[0m\u001B[90m━━━━━━━━━━━━━━━━━━━━━━━━━━━━━━━━━━━━━\u001B[0m \u001B[32m5.4/89.2 MB\u001B[0m \u001B[31m162.4 MB/s\u001B[0m eta \u001B[36m0:00:01\u001B[0m\n\u001B[2K   \u001B[91m━━━━\u001B[0m\u001B[91m╸\u001B[0m\u001B[90m━━━━━━━━━━━━━━━━━━━━━━━━━━━━━━━━━━━\u001B[0m \u001B[32m10.7/89.2 MB\u001B[0m \u001B[31m156.9 MB/s\u001B[0m eta \u001B[36m0:00:01\u001B[0m\n\u001B[2K   \u001B[91m━━━━━━━\u001B[0m\u001B[90m╺\u001B[0m\u001B[90m━━━━━━━━━━━━━━━━━━━━━━━━━━━━━━━━\u001B[0m \u001B[32m15.7/89.2 MB\u001B[0m \u001B[31m151.5 MB/s\u001B[0m eta \u001B[36m0:00:01\u001B[0m\n\u001B[2K   \u001B[91m━━━━━━━━━\u001B[0m\u001B[90m╺\u001B[0m\u001B[90m━━━━━━━━━━━━━━━━━━━━━━━━━━━━━━\u001B[0m \u001B[32m20.6/89.2 MB\u001B[0m \u001B[31m142.9 MB/s\u001B[0m eta \u001B[36m0:00:01\u001B[0m\n\u001B[2K   \u001B[91m━━━━━━━━━━━\u001B[0m\u001B[91m╸\u001B[0m\u001B[90m━━━━━━━━━━━━━━━━━━━━━━━━━━━━\u001B[0m \u001B[32m25.7/89.2 MB\u001B[0m \u001B[31m143.1 MB/s\u001B[0m eta \u001B[36m0:00:01\u001B[0m\n\u001B[2K   \u001B[91m━━━━━━━━━━━━━\u001B[0m\u001B[91m╸\u001B[0m\u001B[90m━━━━━━━━━━━━━━━━━━━━━━━━━━\u001B[0m \u001B[32m30.8/89.2 MB\u001B[0m \u001B[31m145.7 MB/s\u001B[0m eta \u001B[36m0:00:01\u001B[0m\n\u001B[2K   \u001B[91m━━━━━━━━━━━━━━━━\u001B[0m\u001B[90m╺\u001B[0m\u001B[90m━━━━━━━━━━━━━━━━━━━━━━━\u001B[0m \u001B[32m35.8/89.2 MB\u001B[0m \u001B[31m144.9 MB/s\u001B[0m eta \u001B[36m0:00:01\u001B[0m\n\u001B[2K   \u001B[91m━━━━━━━━━━━━━━━━━━\u001B[0m\u001B[90m╺\u001B[0m\u001B[90m━━━━━━━━━━━━━━━━━━━━━\u001B[0m \u001B[32m40.9/89.2 MB\u001B[0m \u001B[31m144.8 MB/s\u001B[0m eta \u001B[36m0:00:01\u001B[0m\n\u001B[2K   \u001B[91m━━━━━━━━━━━━━━━━━━━━\u001B[0m\u001B[91m╸\u001B[0m\u001B[90m━━━━━━━━━━━━━━━━━━━\u001B[0m \u001B[32m46.0/89.2 MB\u001B[0m \u001B[31m146.2 MB/s\u001B[0m eta \u001B[36m0:00:01\u001B[0m\n\u001B[2K   \u001B[91m━━━━━━━━━━━━━━━━━━━━━━\u001B[0m\u001B[91m╸\u001B[0m\u001B[90m━━━━━━━━━━━━━━━━━\u001B[0m \u001B[32m50.9/89.2 MB\u001B[0m \u001B[31m143.2 MB/s\u001B[0m eta \u001B[36m0:00:01\u001B[0m\n\u001B[2K   \u001B[91m━━━━━━━━━━━━━━━━━━━━━━━━━\u001B[0m\u001B[90m╺\u001B[0m\u001B[90m━━━━━━━━━━━━━━\u001B[0m \u001B[32m55.9/89.2 MB\u001B[0m \u001B[31m142.5 MB/s\u001B[0m eta \u001B[36m0:00:01\u001B[0m\n\u001B[2K   \u001B[91m━━━━━━━━━━━━━━━━━━━━━━━━━━━\u001B[0m\u001B[90m╺\u001B[0m\u001B[90m━━━━━━━━━━━━\u001B[0m \u001B[32m61.0/89.2 MB\u001B[0m \u001B[31m145.7 MB/s\u001B[0m eta \u001B[36m0:00:01\u001B[0m\n\u001B[2K   \u001B[91m━━━━━━━━━━━━━━━━━━━━━━━━━━━━━\u001B[0m\u001B[90m╺\u001B[0m\u001B[90m━━━━━━━━━━\u001B[0m \u001B[32m65.4/89.2 MB\u001B[0m \u001B[31m137.1 MB/s\u001B[0m eta \u001B[36m0:00:01\u001B[0m\n\u001B[2K   \u001B[91m━━━━━━━━━━━━━━━━━━━━━━━━━━━━━━━\u001B[0m\u001B[91m╸\u001B[0m\u001B[90m━━━━━━━━\u001B[0m \u001B[32m70.5/89.2 MB\u001B[0m \u001B[31m136.6 MB/s\u001B[0m eta \u001B[36m0:00:01\u001B[0m\n\u001B[2K   \u001B[91m━━━━━━━━━━━━━━━━━━━━━━━━━━━━━━━━━\u001B[0m\u001B[91m╸\u001B[0m\u001B[90m━━━━━━\u001B[0m \u001B[32m75.6/89.2 MB\u001B[0m \u001B[31m146.2 MB/s\u001B[0m eta \u001B[36m0:00:01\u001B[0m\n\u001B[2K   \u001B[91m━━━━━━━━━━━━━━━━━━━━━━━━━━━━━━━━━━━━\u001B[0m\u001B[90m╺\u001B[0m\u001B[90m━━━\u001B[0m \u001B[32m80.6/89.2 MB\u001B[0m \u001B[31m145.0 MB/s\u001B[0m eta \u001B[36m0:00:01\u001B[0m\n\u001B[2K   \u001B[91m━━━━━━━━━━━━━━━━━━━━━━━━━━━━━━━━━━━━━━\u001B[0m\u001B[90m╺\u001B[0m\u001B[90m━\u001B[0m \u001B[32m85.5/89.2 MB\u001B[0m \u001B[31m142.1 MB/s\u001B[0m eta \u001B[36m0:00:01\u001B[0m\n\u001B[2K   \u001B[91m━━━━━━━━━━━━━━━━━━━━━━━━━━━━━━━━━━━━━━━\u001B[0m\u001B[91m╸\u001B[0m \u001B[32m89.2/89.2 MB\u001B[0m \u001B[31m147.8 MB/s\u001B[0m eta \u001B[36m0:00:01\u001B[0m\n\u001B[2K   \u001B[91m━━━━━━━━━━━━━━━━━━━━━━━━━━━━━━━━━━━━━━━\u001B[0m\u001B[91m╸\u001B[0m \u001B[32m89.2/89.2 MB\u001B[0m \u001B[31m147.8 MB/s\u001B[0m eta \u001B[36m0:00:01\u001B[0m\n\u001B[2K   \u001B[91m━━━━━━━━━━━━━━━━━━━━━━━━━━━━━━━━━━━━━━━\u001B[0m\u001B[91m╸\u001B[0m \u001B[32m89.2/89.2 MB\u001B[0m \u001B[31m147.8 MB/s\u001B[0m eta \u001B[36m0:00:01\u001B[0m\n\u001B[2K   \u001B[91m━━━━━━━━━━━━━━━━━━━━━━━━━━━━━━━━━━━━━━━\u001B[0m\u001B[91m╸\u001B[0m \u001B[32m89.2/89.2 MB\u001B[0m \u001B[31m147.8 MB/s\u001B[0m eta \u001B[36m0:00:01\u001B[0m\n\u001B[2K   \u001B[91m━━━━━━━━━━━━━━━━━━━━━━━━━━━━━━━━━━━━━━━\u001B[0m\u001B[91m╸\u001B[0m \u001B[32m89.2/89.2 MB\u001B[0m \u001B[31m147.8 MB/s\u001B[0m eta \u001B[36m0:00:01\u001B[0m\n\u001B[2K   \u001B[91m━━━━━━━━━━━━━━━━━━━━━━━━━━━━━━━━━━━━━━━\u001B[0m\u001B[91m╸\u001B[0m \u001B[32m89.2/89.2 MB\u001B[0m \u001B[31m147.8 MB/s\u001B[0m eta \u001B[36m0:00:01\u001B[0m\n\u001B[2K   \u001B[91m━━━━━━━━━━━━━━━━━━━━━━━━━━━━━━━━━━━━━━━\u001B[0m\u001B[91m╸\u001B[0m \u001B[32m89.2/89.2 MB\u001B[0m \u001B[31m147.8 MB/s\u001B[0m eta \u001B[36m0:00:01\u001B[0m\n\u001B[2K   \u001B[91m━━━━━━━━━━━━━━━━━━━━━━━━━━━━━━━━━━━━━━━\u001B[0m\u001B[91m╸\u001B[0m \u001B[32m89.2/89.2 MB\u001B[0m \u001B[31m147.8 MB/s\u001B[0m eta \u001B[36m0:00:01\u001B[0m\n\u001B[2K   \u001B[91m━━━━━━━━━━━━━━━━━━━━━━━━━━━━━━━━━━━━━━━\u001B[0m\u001B[91m╸\u001B[0m \u001B[32m89.2/89.2 MB\u001B[0m \u001B[31m147.8 MB/s\u001B[0m eta \u001B[36m0:00:01\u001B[0m\n\u001B[2K   \u001B[91m━━━━━━━━━━━━━━━━━━━━━━━━━━━━━━━━━━━━━━━\u001B[0m\u001B[91m╸\u001B[0m \u001B[32m89.2/89.2 MB\u001B[0m \u001B[31m147.8 MB/s\u001B[0m eta \u001B[36m0:00:01\u001B[0m\n\u001B[2K   \u001B[91m━━━━━━━━━━━━━━━━━━━━━━━━━━━━━━━━━━━━━━━\u001B[0m\u001B[91m╸\u001B[0m \u001B[32m89.2/89.2 MB\u001B[0m \u001B[31m147.8 MB/s\u001B[0m eta \u001B[36m0:00:01\u001B[0m\n\u001B[2K   \u001B[91m━━━━━━━━━━━━━━━━━━━━━━━━━━━━━━━━━━━━━━━\u001B[0m\u001B[91m╸\u001B[0m \u001B[32m89.2/89.2 MB\u001B[0m \u001B[31m147.8 MB/s\u001B[0m eta \u001B[36m0:00:01\u001B[0m\n\u001B[2K   \u001B[91m━━━━━━━━━━━━━━━━━━━━━━━━━━━━━━━━━━━━━━━\u001B[0m\u001B[91m╸\u001B[0m \u001B[32m89.2/89.2 MB\u001B[0m \u001B[31m147.8 MB/s\u001B[0m eta \u001B[36m0:00:01\u001B[0m\n\u001B[2K   \u001B[91m━━━━━━━━━━━━━━━━━━━━━━━━━━━━━━━━━━━━━━━\u001B[0m\u001B[91m╸\u001B[0m \u001B[32m89.2/89.2 MB\u001B[0m \u001B[31m147.8 MB/s\u001B[0m eta \u001B[36m0:00:01\u001B[0m\n\u001B[2K   \u001B[91m━━━━━━━━━━━━━━━━━━━━━━━━━━━━━━━━━━━━━━━\u001B[0m\u001B[91m╸\u001B[0m \u001B[32m89.2/89.2 MB\u001B[0m \u001B[31m147.8 MB/s\u001B[0m eta \u001B[36m0:00:01\u001B[0m\n\u001B[2K   \u001B[91m━━━━━━━━━━━━━━━━━━━━━━━━━━━━━━━━━━━━━━━\u001B[0m\u001B[91m╸\u001B[0m \u001B[32m89.2/89.2 MB\u001B[0m \u001B[31m147.8 MB/s\u001B[0m eta \u001B[36m0:00:01\u001B[0m\n\u001B[2K   \u001B[91m━━━━━━━━━━━━━━━━━━━━━━━━━━━━━━━━━━━━━━━\u001B[0m\u001B[91m╸\u001B[0m \u001B[32m89.2/89.2 MB\u001B[0m \u001B[31m147.8 MB/s\u001B[0m eta \u001B[36m0:00:01\u001B[0m\n\u001B[2K   \u001B[91m━━━━━━━━━━━━━━━━━━━━━━━━━━━━━━━━━━━━━━━\u001B[0m\u001B[91m╸\u001B[0m \u001B[32m89.2/89.2 MB\u001B[0m \u001B[31m147.8 MB/s\u001B[0m eta \u001B[36m0:00:01\u001B[0m\n\u001B[2K   \u001B[91m━━━━━━━━━━━━━━━━━━━━━━━━━━━━━━━━━━━━━━━\u001B[0m\u001B[91m╸\u001B[0m \u001B[32m89.2/89.2 MB\u001B[0m \u001B[31m147.8 MB/s\u001B[0m eta \u001B[36m0:00:01\u001B[0m\n\u001B[2K   \u001B[91m━━━━━━━━━━━━━━━━━━━━━━━━━━━━━━━━━━━━━━━\u001B[0m\u001B[91m╸\u001B[0m \u001B[32m89.2/89.2 MB\u001B[0m \u001B[31m147.8 MB/s\u001B[0m eta \u001B[36m0:00:01\u001B[0m\n\u001B[2K   \u001B[91m━━━━━━━━━━━━━━━━━━━━━━━━━━━━━━━━━━━━━━━\u001B[0m\u001B[91m╸\u001B[0m \u001B[32m89.2/89.2 MB\u001B[0m \u001B[31m147.8 MB/s\u001B[0m eta \u001B[36m0:00:01\u001B[0m\n\u001B[2K   \u001B[91m━━━━━━━━━━━━━━━━━━━━━━━━━━━━━━━━━━━━━━━\u001B[0m\u001B[91m╸\u001B[0m \u001B[32m89.2/89.2 MB\u001B[0m \u001B[31m147.8 MB/s\u001B[0m eta \u001B[36m0:00:01\u001B[0m\n\u001B[2K   \u001B[91m━━━━━━━━━━━━━━━━━━━━━━━━━━━━━━━━━━━━━━━\u001B[0m\u001B[91m╸\u001B[0m \u001B[32m89.2/89.2 MB\u001B[0m \u001B[31m147.8 MB/s\u001B[0m eta \u001B[36m0:00:01\u001B[0m\n\u001B[2K   \u001B[91m━━━━━━━━━━━━━━━━━━━━━━━━━━━━━━━━━━━━━━━\u001B[0m\u001B[91m╸\u001B[0m \u001B[32m89.2/89.2 MB\u001B[0m \u001B[31m147.8 MB/s\u001B[0m eta \u001B[36m0:00:01\u001B[0m\n\u001B[2K   \u001B[91m━━━━━━━━━━━━━━━━━━━━━━━━━━━━━━━━━━━━━━━\u001B[0m\u001B[91m╸\u001B[0m \u001B[32m89.2/89.2 MB\u001B[0m \u001B[31m147.8 MB/s\u001B[0m eta \u001B[36m0:00:01\u001B[0m\n\u001B[2K   \u001B[91m━━━━━━━━━━━━━━━━━━━━━━━━━━━━━━━━━━━━━━━\u001B[0m\u001B[91m╸\u001B[0m \u001B[32m89.2/89.2 MB\u001B[0m \u001B[31m147.8 MB/s\u001B[0m eta \u001B[36m0:00:01\u001B[0m\n\u001B[2K   \u001B[91m━━━━━━━━━━━━━━━━━━━━━━━━━━━━━━━━━━━━━━━\u001B[0m\u001B[91m╸\u001B[0m \u001B[32m89.2/89.2 MB\u001B[0m \u001B[31m147.8 MB/s\u001B[0m eta \u001B[36m0:00:01\u001B[0m\n\u001B[2K   \u001B[91m━━━━━━━━━━━━━━━━━━━━━━━━━━━━━━━━━━━━━━━\u001B[0m\u001B[91m╸\u001B[0m \u001B[32m89.2/89.2 MB\u001B[0m \u001B[31m147.8 MB/s\u001B[0m eta \u001B[36m0:00:01\u001B[0m\n\u001B[2K   \u001B[91m━━━━━━━━━━━━━━━━━━━━━━━━━━━━━━━━━━━━━━━\u001B[0m\u001B[91m╸\u001B[0m \u001B[32m89.2/89.2 MB\u001B[0m \u001B[31m147.8 MB/s\u001B[0m eta \u001B[36m0:00:01\u001B[0m\n\u001B[2K   \u001B[91m━━━━━━━━━━━━━━━━━━━━━━━━━━━━━━━━━━━━━━━\u001B[0m\u001B[91m╸\u001B[0m \u001B[32m89.2/89.2 MB\u001B[0m \u001B[31m147.8 MB/s\u001B[0m eta \u001B[36m0:00:01\u001B[0m\n\u001B[2K   \u001B[90m━━━━━━━━━━━━━━━━━━━━━━━━━━━━━━━━━━━━━━━━\u001B[0m \u001B[32m89.2/89.2 MB\u001B[0m \u001B[31m8.7 MB/s\u001B[0m eta \u001B[36m0:00:00\u001B[0m\n\u001B[?25hDownloading tokenizers-0.19.1-cp311-cp311-manylinux_2_17_x86_64.manylinux2014_x86_64.whl (3.6 MB)\n\u001B[?25l   \u001B[90m━━━━━━━━━━━━━━━━━━━━━━━━━━━━━━━━━━━━━━━━\u001B[0m \u001B[32m0.0/3.6 MB\u001B[0m \u001B[31m?\u001B[0m eta \u001B[36m-:--:--\u001B[0m\n\u001B[2K   \u001B[91m━━━━━━━━━━━━━━━━━━━━━━━━━━━━━━━━━━━━━━━\u001B[0m\u001B[91m╸\u001B[0m \u001B[32m3.6/3.6 MB\u001B[0m \u001B[31m149.7 MB/s\u001B[0m eta \u001B[36m0:00:01\u001B[0m\n\u001B[2K   \u001B[90m━━━━━━━━━━━━━━━━━━━━━━━━━━━━━━━━━━━━━━━━\u001B[0m \u001B[32m3.6/3.6 MB\u001B[0m \u001B[31m76.3 MB/s\u001B[0m eta \u001B[36m0:00:00\u001B[0m\n\u001B[?25hInstalling collected packages: triton, nvidia-nccl-cu12, torch, tokenizers, transformers\n  Attempting uninstall: triton\n    Found existing installation: triton 2.0.0\n    Not uninstalling triton at /local_disk0/.ephemeral_nfs/cluster_libraries/python/lib/python3.11/site-packages, outside environment /local_disk0/.ephemeral_nfs/envs/pythonEnv-570bdbe4-7f27-443b-9a32-d875f6b8425f\n    Can't uninstall 'triton'. No files were found to uninstall.\n  Attempting uninstall: nvidia-nccl-cu12\n    Found existing installation: nvidia-nccl-cu12 2.20.5\n    Not uninstalling nvidia-nccl-cu12 at /databricks/python3/lib/python3.11/site-packages, outside environment /local_disk0/.ephemeral_nfs/envs/pythonEnv-570bdbe4-7f27-443b-9a32-d875f6b8425f\n    Can't uninstall 'nvidia-nccl-cu12'. No files were found to uninstall.\n  Attempting uninstall: torch\n    Found existing installation: torch 2.0.1\n    Not uninstalling torch at /local_disk0/.ephemeral_nfs/cluster_libraries/python/lib/python3.11/site-packages, outside environment /local_disk0/.ephemeral_nfs/envs/pythonEnv-570bdbe4-7f27-443b-9a32-d875f6b8425f\n    Can't uninstall 'torch'. No files were found to uninstall.\n  Attempting uninstall: tokenizers\n    Found existing installation: tokenizers 0.13.3\n    Not uninstalling tokenizers at /local_disk0/.ephemeral_nfs/cluster_libraries/python/lib/python3.11/site-packages, outside environment /local_disk0/.ephemeral_nfs/envs/pythonEnv-570bdbe4-7f27-443b-9a32-d875f6b8425f\n    Can't uninstall 'tokenizers'. No files were found to uninstall.\n  Attempting uninstall: transformers\n    Found existing installation: transformers 4.30.2\n    Not uninstalling transformers at /local_disk0/.ephemeral_nfs/cluster_libraries/python/lib/python3.11/site-packages, outside environment /local_disk0/.ephemeral_nfs/envs/pythonEnv-570bdbe4-7f27-443b-9a32-d875f6b8425f\n    Can't uninstall 'transformers'. No files were found to uninstall.\n\u001B[31mERROR: pip's dependency resolver does not currently take into account all the packages that are installed. This behaviour is the source of the following dependency conflicts.\ntorchvision 0.18.1+cu121 requires torch==2.3.1, but you have torch 2.1.2 which is incompatible.\u001B[0m\u001B[31m\n\u001B[0mSuccessfully installed nvidia-nccl-cu12-2.18.1 tokenizers-0.19.1 torch-2.1.2 transformers-4.40.0 triton-2.1.0\n\u001B[43mNote: you may need to restart the kernel using %restart_python or dbutils.library.restartPython() to use updated packages.\u001B[0m\n"
     ]
    }
   ],
   "source": [
    "# Remove flash-attn which causes symbol errors\n",
    "%pip uninstall -y flash-attn flash-attn-2\n",
    "\n",
    "# Install compatible versions\n",
    "%pip install torch==2.1.2 transformers==4.40.0 datasets scikit-learn\n",
    "\n",
    "# Restart the Python kernel after this\n"
   ]
  },
  {
   "cell_type": "code",
   "execution_count": 0,
   "metadata": {
    "application/vnd.databricks.v1+cell": {
     "cellMetadata": {
      "byteLimit": 2048000,
      "rowLimit": 10000
     },
     "inputWidgets": {},
     "nuid": "978ec6a7-4d0f-4346-b135-4a5db81ecf95",
     "showTitle": false,
     "tableResultSettingsMap": {},
     "title": ""
    }
   },
   "outputs": [],
   "source": [
    "%restart_python"
   ]
  },
  {
   "cell_type": "code",
   "execution_count": 0,
   "metadata": {
    "application/vnd.databricks.v1+cell": {
     "cellMetadata": {
      "byteLimit": 2048000,
      "rowLimit": 10000
     },
     "inputWidgets": {},
     "nuid": "fbbd036d-fe76-4b98-a7a6-7dd3ae12565f",
     "showTitle": false,
     "tableResultSettingsMap": {},
     "title": ""
    }
   },
   "outputs": [
    {
     "output_type": "stream",
     "name": "stderr",
     "output_type": "stream",
     "text": [
      "2025-05-12 19:59:28.370843: I tensorflow/core/platform/cpu_feature_guard.cc:210] This TensorFlow binary is optimized to use available CPU instructions in performance-critical operations.\nTo enable the following instructions: AVX2 FMA, in other operations, rebuild TensorFlow with the appropriate compiler flags.\n"
     ]
    },
    {
     "output_type": "stream",
     "name": "stdout",
     "output_type": "stream",
     "text": [
      "Using device: cuda\n"
     ]
    }
   ],
   "source": [
    "import pandas as pd\n",
    "import numpy as np\n",
    "from sklearn.model_selection import train_test_split\n",
    "from sklearn.utils import resample\n",
    "from sklearn.preprocessing import LabelEncoder\n",
    "from collections import Counter\n",
    "import torch\n",
    "from datasets import Dataset\n",
    "from transformers import AutoTokenizer, AutoModelForSequenceClassification, TrainingArguments, Trainer\n",
    "from sklearn.metrics import accuracy_score, f1_score\n",
    "import os\n",
    " \n",
    "# Check for GPU availability\n",
    "device = torch.device('cuda' if torch.cuda.is_available() else 'cpu')\n",
    "print(f\"Using device: {device}\")"
   ]
  },
  {
   "cell_type": "code",
   "execution_count": 0,
   "metadata": {
    "application/vnd.databricks.v1+cell": {
     "cellMetadata": {
      "byteLimit": 2048000,
      "rowLimit": 10000
     },
     "inputWidgets": {},
     "nuid": "acf838fc-81d5-42d5-9be3-54a31d466eaa",
     "showTitle": false,
     "tableResultSettingsMap": {},
     "title": ""
    }
   },
   "outputs": [
    {
     "output_type": "stream",
     "name": "stdout",
     "output_type": "stream",
     "text": [
      "\n1. Reading Data...\nInitial DataFrame shape: (132387, 105)\nColumns in DataFrame: ['period', 'Year', 'Unit', 'Mainloc', 'account', 'Main Location', '60 code', 'DM', '50 code', 'Regional VP', '40 code', 'Area VP', 'division code', 'division', 'Main', 'Country Site ID', 'Legal Entity Concerned', 'Site Manager Name', 'Company name, if not Sodexo', 'CS \\\\ Reported by', 'CS \\\\ Address', 'Address2', 'Zip Code', 'City', 'CS \\\\ Phone #', 'CS \\\\ Phone #2', 'Event Title', 'Type', 'Event Date', 'Safety Action Type', 'Safe Action', 'Criticality', 'Critical', 'SAFE', 'Safety Category', 'Safe Category', 'Used stop work authority', 'Reported by employee (ID_firstname_lastname)', 'email prefix', 'email', 'Preliminary Cause', 'Event ID', 'Local \\\\ Date', 'TimeZone', 'Local \\\\ Reported Date', 'Classification', 'Duration', 'Duration Type', 'Inspection \\\\ Status', 'Gravest Severity', 'LSC ?', 'Unauthorised work task / activity ?', 'Activity performed (type of service)', 'Type of location', 'Specific Area', 'Main location2', 'Sub Location', 'CS \\\\ Inspector(s) ID', 'Inspector(s) Designation / Title', 'Nature of visit?', 'Results of visit?', 'Notice', 'Was any evidence taken?', 'Please describe what evidence was taken.', 'Regulatory Agency', 'Address', 'Phone #', 'E-Mail', 'Report Help  \\\\ ', 'Report', 'Near Miss Cause', 'Cause', 'Sub-Cause', 'Resolution Action', 'Risk Assessments', 'Safe Systems of Work e.g. SOPs', 'Training & Management / Supervision', 'Physical Barriers e.g. LOTO', 'Correct Tools, Equipment & PPE', 'Safety Walks, Observations / Near miss', '3 Checks for Safety', 'Workflow Help Message  \\\\ ', 'CS \\\\ Owner', 'Document', 'Status', 'Created by', 'Created on', 'Last Modified by', 'Last Modified on', 'Workflow Level', 'Id', 'CS_Id2', 'ILA Client', 'Reported Date', 'Export \\\\ Event Date NEW', 'Export \\\\ Reported Date NEW', 'Export \\\\ Event Date', 'Export \\\\ Reported Date', 'LastMod', 'Hidden \\\\ CreatedOn', 'Hidden \\\\ ModifiedAt', 'Hidden \\\\ Date', 'Hidden \\\\ ReportDate', 'Hidden \\\\ CS_Date', 'Hidden \\\\ CS_ReportDate']\nDataFrame shape after selecting relevant columns: (132387, 9)\n"
     ]
    }
   ],
   "source": [
    "# 1. Read Data\n",
    "print(\"\\n1. Reading Data...\")\n",
    "input_path = '/dbfs/FileStore/tables/NearMissReport_NewDataset.xlsx'  # Databricks path\n",
    "df = pd.read_excel(input_path, engine='openpyxl')\n",
    "print(\"Initial DataFrame shape:\", df.shape)\n",
    "print(\"Columns in DataFrame:\", df.columns.tolist())\n",
    " \n",
    "relevant_columns = [\n",
    "    'Event Title', 'Report', 'Preliminary Cause', 'Resolution Action',\n",
    "    'Classification', 'Activity performed (type of service)',\n",
    "    'Type of location', 'Sub Location', 'Cause'\n",
    "]\n",
    " \n",
    "# Check if all columns exist\n",
    "missing_cols = set(relevant_columns) - set(df.columns)\n",
    "if missing_cols:\n",
    "    print(\"WARNING: Missing columns in input data:\", missing_cols)\n",
    "    raise ValueError(f\"Missing required columns: {missing_cols}\")\n",
    " \n",
    "df = df[relevant_columns]\n",
    "print(\"DataFrame shape after selecting relevant columns:\", df.shape)"
   ]
  },
  {
   "cell_type": "code",
   "execution_count": 0,
   "metadata": {
    "application/vnd.databricks.v1+cell": {
     "cellMetadata": {
      "byteLimit": 2048000,
      "rowLimit": 10000
     },
     "inputWidgets": {},
     "nuid": "a7f3c9d7-2a08-475b-b80e-f5bafa67fc13",
     "showTitle": false,
     "tableResultSettingsMap": {},
     "title": ""
    }
   },
   "outputs": [],
   "source": [
    "# 2. Separate 'other' and 'unknown'\n",
    "# print(\"\\n2. Separating 'other' and 'unknown'...\")\n",
    "# mask_other_unknown = df['Cause'].str.lower().isin(['other', 'unknown'])\n",
    "# df_other_unknown = df[mask_other_unknown].copy()\n",
    "# df_main = df[~mask_other_unknown].copy()\n",
    "# print(\"Shape of df_main (without 'other'/'unknown'):\", df_main.shape)\n",
    "# print(\"Shape of df_other_unknown:\", df_other_unknown.shape)\n",
    "# print(\"Unique causes in df_main:\", df_main['Cause'].unique())\n",
    "df_main = df.copy()"
   ]
  },
  {
   "cell_type": "code",
   "execution_count": 0,
   "metadata": {
    "application/vnd.databricks.v1+cell": {
     "cellMetadata": {
      "byteLimit": 2048000,
      "rowLimit": 10000
     },
     "inputWidgets": {},
     "nuid": "1c56e433-d924-4e06-9be7-134454c160c5",
     "showTitle": false,
     "tableResultSettingsMap": {},
     "title": ""
    }
   },
   "outputs": [
    {
     "output_type": "stream",
     "name": "stdout",
     "output_type": "stream",
     "text": [
      "\n3. Checking class balance...\nClass distribution before balancing:\nCause\nFood Related Concern                                            10057\nSharp items / surfaces                                          10000\nPPE: not used, incorrect use, defective…                        10000\nManual handling / Lifting  / Carrying  / Pulling / Pushing      10000\nIngestion / absorption / Contact with of hazardous substance    10000\nHand tools                                                      10000\nHit by / Struck against / Trapped / Crushed                     10000\nSlip / Trip / Fall                                              10000\nFall from height/elevation                                       9999\nExposure to hot objects / surfaces / temperatures                9984\nFire / Explosion                                                 7965\nContact with electricity                                         6860\nVehicle incident / accident                                      5587\nInhalation of gasses / fumes / vapours                           3181\nCaught in, between or under                                      2040\nExposure to cold objects / surfaces / temperatures               1916\nMedical sharps (incl. Needles)                                   1835\nViolence / Assault                                               1605\nRepetitive motion                                                 763\nExposure                                                          367\nAsphyxiation                                                      228\nName: count, dtype: int64\n\nClass distribution after balancing:\nCause\nFood Related Concern                                            10057\nContact with electricity                                        10057\nExposure                                                        10057\nRepetitive motion                                               10057\nViolence / Assault                                              10057\nMedical sharps (incl. Needles)                                  10057\nExposure to cold objects / surfaces / temperatures              10057\nCaught in, between or under                                     10057\nInhalation of gasses / fumes / vapours                          10057\nVehicle incident / accident                                     10057\nFire / Explosion                                                10057\nSharp items / surfaces                                          10057\nExposure to hot objects / surfaces / temperatures               10057\nFall from height/elevation                                      10057\nSlip / Trip / Fall                                              10057\nHit by / Struck against / Trapped / Crushed                     10057\nHand tools                                                      10057\nIngestion / absorption / Contact with of hazardous substance    10057\nManual handling / Lifting  / Carrying  / Pulling / Pushing      10057\nPPE: not used, incorrect use, defective…                        10057\nAsphyxiation                                                    10057\nName: count, dtype: int64\nShape of balanced DataFrame: (211197, 9)\n"
     ]
    }
   ],
   "source": [
    " \n",
    "# 3. Check class balance and balance if needed\n",
    "print(\"\\n3. Checking class balance...\")\n",
    "if len(df_main) > 0:\n",
    "    class_counts = df_main['Cause'].value_counts()\n",
    "    print(\"Class distribution before balancing:\")\n",
    "    print(class_counts)\n",
    "   \n",
    "    max_count = class_counts.max()\n",
    "    df_list = []\n",
    "    for label in class_counts.index:\n",
    "        df_label = df_main[df_main['Cause'] == label]\n",
    "        df_label_upsampled = resample(df_label, replace=True, n_samples=max_count, random_state=42)\n",
    "        df_list.append(df_label_upsampled)\n",
    "    df_balanced = pd.concat(df_list)\n",
    "    print(\"\\nClass distribution after balancing:\")\n",
    "    print(df_balanced['Cause'].value_counts())\n",
    "else:\n",
    "    print(\"WARNING: No data left after filtering 'other' and 'unknown'\")\n",
    "    df_balanced = df_main\n",
    " \n",
    "print(\"Shape of balanced DataFrame:\", df_balanced.shape)"
   ]
  },
  {
   "cell_type": "code",
   "execution_count": 0,
   "metadata": {
    "application/vnd.databricks.v1+cell": {
     "cellMetadata": {
      "byteLimit": 2048000,
      "rowLimit": 10000
     },
     "inputWidgets": {},
     "nuid": "d1e1c60e-ef0d-4099-949b-905c3faafaa9",
     "showTitle": false,
     "tableResultSettingsMap": {},
     "title": ""
    }
   },
   "outputs": [
    {
     "output_type": "stream",
     "name": "stdout",
     "output_type": "stream",
     "text": [
      "\n4. Processing data...\n\nNull values in each column:\nEvent Title                                  0\nReport                                      78\nPreliminary Cause                         6385\nResolution Action                       128723\nClassification                               0\nActivity performed (type of service)    208559\nType of location                          4087\nSub Location                             71123\nCause                                        0\ndtype: int64\n\nShape after filling nulls: (211197, 9)\nType and shape of text_series: <class 'pandas.core.series.Series'> (211197,)\nShape after removing empty texts: (211197, 10)\n\n5. Splitting data...\nX shape: (211197,)\ny shape: (211197,)\nUnique classes in y: ['Asphyxiation' 'Caught in, between or under' 'Contact with electricity'\n 'Exposure' 'Exposure to cold objects / surfaces / temperatures'\n 'Exposure to hot objects / surfaces / temperatures'\n 'Fall from height/elevation' 'Fire / Explosion' 'Food Related Concern'\n 'Hand tools' 'Hit by / Struck against / Trapped / Crushed'\n 'Ingestion / absorption / Contact with of hazardous substance'\n 'Inhalation of gasses / fumes / vapours'\n 'Manual handling / Lifting  / Carrying  / Pulling / Pushing'\n 'Medical sharps (incl. Needles)'\n 'PPE: not used, incorrect use, defective…' 'Repetitive motion'\n 'Sharp items / surfaces' 'Slip / Trip / Fall'\n 'Vehicle incident / accident' 'Violence / Assault']\nTraining set size: 168957\nTest set size: 42240\n"
     ]
    }
   ],
   "source": [
    "# 4. Data processing\n",
    "print(\"\\n4. Processing data...\")\n",
    "# Check for nulls in each column\n",
    "print(\"\\nNull values in each column:\")\n",
    "print(df_balanced.isnull().sum())\n",
    " \n",
    "# Fill nulls with empty string for text columns\n",
    "text_columns = [\n",
    "    'Event Title', 'Report', 'Preliminary Cause', 'Resolution Action',\n",
    "    'Classification', 'Activity performed (type of service)',\n",
    "    'Type of location', 'Sub Location'\n",
    "]\n",
    " \n",
    "# Fill nulls in text columns with empty string\n",
    "for col in text_columns:\n",
    "    df_balanced[col] = df_balanced[col].fillna('')\n",
    " \n",
    "print(\"\\nShape after filling nulls:\", df_balanced.shape)\n",
    " \n",
    "# Create text column\n",
    "text_series = df_balanced[text_columns].astype(str).apply(lambda row: ' '.join([str(x) for x in row]), axis=1)\n",
    "print(\"Type and shape of text_series:\", type(text_series), text_series.shape)\n",
    "df_balanced['text'] = text_series\n",
    " \n",
    "# Remove any rows where text is empty or just whitespace\n",
    "df_balanced = df_balanced[df_balanced['text'].str.strip().str.len() > 0]\n",
    "print(\"Shape after removing empty texts:\", df_balanced.shape)\n",
    " \n",
    "# 5. Train-test split\n",
    "print(\"\\n5. Splitting data...\")\n",
    "X = df_balanced['text'].values\n",
    "y = df_balanced['Cause'].values\n",
    "print(\"X shape:\", X.shape)\n",
    "print(\"y shape:\", y.shape)\n",
    "print(\"Unique classes in y:\", np.unique(y))\n",
    " \n",
    "X_train, X_test, y_train, y_test = train_test_split(\n",
    "    X, y, test_size=0.2, stratify=y, random_state=42\n",
    ")\n",
    "print(\"Training set size:\", len(X_train))\n",
    "print(\"Test set size:\", len(X_test))"
   ]
  },
  {
   "cell_type": "code",
   "execution_count": 0,
   "metadata": {
    "application/vnd.databricks.v1+cell": {
     "cellMetadata": {
      "byteLimit": 2048000,
      "rowLimit": 10000
     },
     "inputWidgets": {},
     "nuid": "5e6474bd-d4bc-4ddc-a6b9-8e3afb6c2043",
     "showTitle": false,
     "tableResultSettingsMap": {},
     "title": ""
    }
   },
   "outputs": [
    {
     "output_type": "stream",
     "name": "stdout",
     "output_type": "stream",
     "text": [
      "\n6. Preparing datasets for transformer...\n"
     ]
    },
    {
     "output_type": "display_data",
     "data": {
      "application/vnd.jupyter.widget-view+json": {
       "model_id": "a1093b1afa41402f8d24f380599c86b1",
       "version_major": 2,
       "version_minor": 0
      },
      "text/plain": [
       "Map:   0%|          | 0/168957 [00:00<?, ? examples/s]"
      ]
     },
     "metadata": {},
     "output_type": "display_data"
    },
    {
     "output_type": "display_data",
     "data": {
      "application/vnd.jupyter.widget-view+json": {
       "model_id": "b5fcfb77319f4c608760bfb7861d5ab6",
       "version_major": 2,
       "version_minor": 0
      },
      "text/plain": [
       "Map:   0%|          | 0/42240 [00:00<?, ? examples/s]"
      ]
     },
     "metadata": {},
     "output_type": "display_data"
    },
    {
     "output_type": "stream",
     "name": "stdout",
     "output_type": "stream",
     "text": [
      "Loading tokenizer: bert-base-uncased\n"
     ]
    },
    {
     "output_type": "stream",
     "name": "stderr",
     "output_type": "stream",
     "text": [
      "/databricks/python/lib/python3.11/site-packages/huggingface_hub/file_download.py:795: FutureWarning: `resume_download` is deprecated and will be removed in version 1.0.0. Downloads always resume when possible. If you want to force a new download, use `force_download=True`.\n  warnings.warn(\n"
     ]
    },
    {
     "output_type": "display_data",
     "data": {
      "application/vnd.jupyter.widget-view+json": {
       "model_id": "bc7cd2b37d524c4386523d33cfce93fe",
       "version_major": 2,
       "version_minor": 0
      },
      "text/plain": [
       "tokenizer_config.json:   0%|          | 0.00/48.0 [00:00<?, ?B/s]"
      ]
     },
     "metadata": {},
     "output_type": "display_data"
    },
    {
     "output_type": "display_data",
     "data": {
      "application/vnd.jupyter.widget-view+json": {
       "model_id": "a51c9189d4a040ac961003996938fe73",
       "version_major": 2,
       "version_minor": 0
      },
      "text/plain": [
       "config.json:   0%|          | 0.00/570 [00:00<?, ?B/s]"
      ]
     },
     "metadata": {},
     "output_type": "display_data"
    },
    {
     "output_type": "display_data",
     "data": {
      "application/vnd.jupyter.widget-view+json": {
       "model_id": "f4be41f476ce439ab7ceb37e6e07dd4c",
       "version_major": 2,
       "version_minor": 0
      },
      "text/plain": [
       "vocab.txt:   0%|          | 0.00/232k [00:00<?, ?B/s]"
      ]
     },
     "metadata": {},
     "output_type": "display_data"
    },
    {
     "output_type": "display_data",
     "data": {
      "application/vnd.jupyter.widget-view+json": {
       "model_id": "b3138c17ef2a4e2095195a3a6c7a21a5",
       "version_major": 2,
       "version_minor": 0
      },
      "text/plain": [
       "tokenizer.json:   0%|          | 0.00/466k [00:00<?, ?B/s]"
      ]
     },
     "metadata": {},
     "output_type": "display_data"
    },
    {
     "output_type": "stream",
     "name": "stdout",
     "output_type": "stream",
     "text": [
      "Tokenizing datasets...\n"
     ]
    },
    {
     "output_type": "display_data",
     "data": {
      "application/vnd.jupyter.widget-view+json": {
       "model_id": "7324014a97a248fd93b443251685a18a",
       "version_major": 2,
       "version_minor": 0
      },
      "text/plain": [
       "Map:   0%|          | 0/168957 [00:00<?, ? examples/s]"
      ]
     },
     "metadata": {},
     "output_type": "display_data"
    },
    {
     "output_type": "display_data",
     "data": {
      "application/vnd.jupyter.widget-view+json": {
       "model_id": "0ea7aecba43b4178a9d6e9ea2c50d559",
       "version_major": 2,
       "version_minor": 0
      },
      "text/plain": [
       "Map:   0%|          | 0/42240 [00:00<?, ? examples/s]"
      ]
     },
     "metadata": {},
     "output_type": "display_data"
    },
    {
     "output_type": "stream",
     "name": "stdout",
     "output_type": "stream",
     "text": [
      "Number of unique labels: 21\nLoading model: bert-base-uncased\n"
     ]
    },
    {
     "output_type": "display_data",
     "data": {
      "application/vnd.jupyter.widget-view+json": {
       "model_id": "a37a506f50fb4845ba022b1ee377db45",
       "version_major": 2,
       "version_minor": 0
      },
      "text/plain": [
       "model.safetensors:   0%|          | 0.00/440M [00:00<?, ?B/s]"
      ]
     },
     "metadata": {},
     "output_type": "display_data"
    },
    {
     "output_type": "stream",
     "name": "stderr",
     "output_type": "stream",
     "text": [
      "Some weights of BertForSequenceClassification were not initialized from the model checkpoint at bert-base-uncased and are newly initialized: ['classifier.bias', 'classifier.weight']\nYou should probably TRAIN this model on a down-stream task to be able to use it for predictions and inference.\nmax_steps is given, it will override any value given in num_train_epochs\n"
     ]
    },
    {
     "output_type": "stream",
     "name": "stdout",
     "output_type": "stream",
     "text": [
      "\n7. Training model...\n"
     ]
    },
    {
     "output_type": "stream",
     "name": "stderr",
     "output_type": "stream",
     "text": [
      "[W reducer.cpp:1346] Warning: find_unused_parameters=True was specified in DDP constructor, but did not find any unused parameters in the forward pass. This flag results in an extra traversal of the autograd graph every iteration,  which can adversely affect performance. If your model indeed never has any unused parameters in the forward pass, consider turning this flag off. Note that this warning may be a false positive if your model has flow control causing later iterations to have unused parameters. (function operator())\n"
     ]
    },
    {
     "output_type": "display_data",
     "data": {
      "text/html": [
       "\n",
       "    <div>\n",
       "      \n",
       "      <progress value='2000' max='2000' style='width:300px; height:20px; vertical-align: middle;'></progress>\n",
       "      [2000/2000 11:52, Epoch 0/1]\n",
       "    </div>\n",
       "    <table border=\"1\" class=\"dataframe\">\n",
       "  <thead>\n",
       " <tr style=\"text-align: left;\">\n",
       "      <th>Step</th>\n",
       "      <th>Training Loss</th>\n",
       "    </tr>\n",
       "  </thead>\n",
       "  <tbody>\n",
       "    <tr>\n",
       "      <td>50</td>\n",
       "      <td>3.053200</td>\n",
       "    </tr>\n",
       "    <tr>\n",
       "      <td>100</td>\n",
       "      <td>2.895500</td>\n",
       "    </tr>\n",
       "    <tr>\n",
       "      <td>150</td>\n",
       "      <td>2.371600</td>\n",
       "    </tr>\n",
       "    <tr>\n",
       "      <td>200</td>\n",
       "      <td>1.907200</td>\n",
       "    </tr>\n",
       "    <tr>\n",
       "      <td>250</td>\n",
       "      <td>1.796500</td>\n",
       "    </tr>\n",
       "    <tr>\n",
       "      <td>300</td>\n",
       "      <td>1.649700</td>\n",
       "    </tr>\n",
       "    <tr>\n",
       "      <td>350</td>\n",
       "      <td>1.595800</td>\n",
       "    </tr>\n",
       "    <tr>\n",
       "      <td>400</td>\n",
       "      <td>1.589100</td>\n",
       "    </tr>\n",
       "    <tr>\n",
       "      <td>450</td>\n",
       "      <td>1.539800</td>\n",
       "    </tr>\n",
       "    <tr>\n",
       "      <td>500</td>\n",
       "      <td>1.479000</td>\n",
       "    </tr>\n",
       "    <tr>\n",
       "      <td>550</td>\n",
       "      <td>1.464500</td>\n",
       "    </tr>\n",
       "    <tr>\n",
       "      <td>600</td>\n",
       "      <td>1.412800</td>\n",
       "    </tr>\n",
       "    <tr>\n",
       "      <td>650</td>\n",
       "      <td>1.411600</td>\n",
       "    </tr>\n",
       "    <tr>\n",
       "      <td>700</td>\n",
       "      <td>1.365200</td>\n",
       "    </tr>\n",
       "    <tr>\n",
       "      <td>750</td>\n",
       "      <td>1.354600</td>\n",
       "    </tr>\n",
       "    <tr>\n",
       "      <td>800</td>\n",
       "      <td>1.366600</td>\n",
       "    </tr>\n",
       "    <tr>\n",
       "      <td>850</td>\n",
       "      <td>1.394900</td>\n",
       "    </tr>\n",
       "    <tr>\n",
       "      <td>900</td>\n",
       "      <td>1.256200</td>\n",
       "    </tr>\n",
       "    <tr>\n",
       "      <td>950</td>\n",
       "      <td>1.254200</td>\n",
       "    </tr>\n",
       "    <tr>\n",
       "      <td>1000</td>\n",
       "      <td>1.182100</td>\n",
       "    </tr>\n",
       "    <tr>\n",
       "      <td>1050</td>\n",
       "      <td>1.272900</td>\n",
       "    </tr>\n",
       "    <tr>\n",
       "      <td>1100</td>\n",
       "      <td>1.213600</td>\n",
       "    </tr>\n",
       "    <tr>\n",
       "      <td>1150</td>\n",
       "      <td>1.179700</td>\n",
       "    </tr>\n",
       "    <tr>\n",
       "      <td>1200</td>\n",
       "      <td>1.160700</td>\n",
       "    </tr>\n",
       "    <tr>\n",
       "      <td>1250</td>\n",
       "      <td>1.172100</td>\n",
       "    </tr>\n",
       "    <tr>\n",
       "      <td>1300</td>\n",
       "      <td>1.062400</td>\n",
       "    </tr>\n",
       "    <tr>\n",
       "      <td>1350</td>\n",
       "      <td>1.196900</td>\n",
       "    </tr>\n",
       "    <tr>\n",
       "      <td>1400</td>\n",
       "      <td>1.141700</td>\n",
       "    </tr>\n",
       "    <tr>\n",
       "      <td>1450</td>\n",
       "      <td>1.169000</td>\n",
       "    </tr>\n",
       "    <tr>\n",
       "      <td>1500</td>\n",
       "      <td>1.101300</td>\n",
       "    </tr>\n",
       "    <tr>\n",
       "      <td>1550</td>\n",
       "      <td>1.007500</td>\n",
       "    </tr>\n",
       "    <tr>\n",
       "      <td>1600</td>\n",
       "      <td>1.026200</td>\n",
       "    </tr>\n",
       "    <tr>\n",
       "      <td>1650</td>\n",
       "      <td>1.038500</td>\n",
       "    </tr>\n",
       "    <tr>\n",
       "      <td>1700</td>\n",
       "      <td>1.062600</td>\n",
       "    </tr>\n",
       "    <tr>\n",
       "      <td>1750</td>\n",
       "      <td>1.051000</td>\n",
       "    </tr>\n",
       "    <tr>\n",
       "      <td>1800</td>\n",
       "      <td>1.075800</td>\n",
       "    </tr>\n",
       "    <tr>\n",
       "      <td>1850</td>\n",
       "      <td>1.056300</td>\n",
       "    </tr>\n",
       "    <tr>\n",
       "      <td>1900</td>\n",
       "      <td>1.053000</td>\n",
       "    </tr>\n",
       "    <tr>\n",
       "      <td>1950</td>\n",
       "      <td>1.045600</td>\n",
       "    </tr>\n",
       "    <tr>\n",
       "      <td>2000</td>\n",
       "      <td>1.008700</td>\n",
       "    </tr>\n",
       "  </tbody>\n",
       "</table><p>"
      ],
      "text/plain": [
       "<IPython.core.display.HTML object>"
      ]
     },
     "metadata": {},
     "output_type": "display_data"
    },
    {
     "output_type": "execute_result",
     "data": {
      "text/plain": [
       "TrainOutput(global_step=2000, training_loss=1.3858954334259033, metrics={'train_runtime': 713.5422, 'train_samples_per_second': 89.693, 'train_steps_per_second': 2.803, 'total_flos': 8420990040145920.0, 'train_loss': 1.3858954334259033, 'epoch': 0.3787878787878788})"
      ]
     },
     "execution_count": 8,
     "metadata": {},
     "output_type": "execute_result"
    }
   ],
   "source": [
    "import numpy as np\n",
    "from datasets import Dataset\n",
    "from sklearn.preprocessing import LabelEncoder\n",
    "from transformers import AutoTokenizer, AutoModelForSequenceClassification, TrainingArguments, Trainer\n",
    "from sklearn.metrics import accuracy_score, f1_score\n",
    "import torch\n",
    "\n",
    "# Make sure you're using the correct device\n",
    "device = torch.device(\"cuda\" if torch.cuda.is_available() else \"cpu\")\n",
    "\n",
    "# Assuming X_train, X_test, y_train, y_test are already defined\n",
    "print(\"\\n6. Preparing datasets for transformer...\")\n",
    "train_dataset = Dataset.from_dict({'text': X_train, 'label': y_train})\n",
    "test_dataset = Dataset.from_dict({'text': X_test, 'label': y_test})\n",
    "\n",
    "# Encode labels\n",
    "le = LabelEncoder()\n",
    "le.fit(y_train)\n",
    "train_dataset = train_dataset.map(lambda x: {'label': le.transform([x['label']])[0]})\n",
    "test_dataset = test_dataset.map(lambda x: {'label': le.transform([x['label']])[0]})\n",
    "\n",
    "# Load tokenizer\n",
    "model_name = 'bert-base-uncased'\n",
    "print(f\"Loading tokenizer: {model_name}\")\n",
    "tokenizer = AutoTokenizer.from_pretrained(model_name)\n",
    "\n",
    "def tokenize_function(examples):\n",
    "    return tokenizer(examples['text'], padding='max_length', truncation=True, max_length=256)\n",
    "\n",
    "print(\"Tokenizing datasets...\")\n",
    "train_dataset = train_dataset.map(tokenize_function, batched=True)\n",
    "test_dataset = test_dataset.map(tokenize_function, batched=True)\n",
    "\n",
    "train_dataset.set_format(type='torch', columns=['input_ids', 'attention_mask', 'label'])\n",
    "test_dataset.set_format(type='torch', columns=['input_ids', 'attention_mask', 'label'])\n",
    "\n",
    "# Load model\n",
    "num_labels = len(le.classes_)\n",
    "print(f\"Number of unique labels: {num_labels}\")\n",
    "print(f\"Loading model: {model_name}\")\n",
    "model = AutoModelForSequenceClassification.from_pretrained(model_name, num_labels=num_labels).to(device)\n",
    "\n",
    "# Training arguments\n",
    "training_args = TrainingArguments(\n",
    "    output_dir='/dbfs/FileStore/tables/results',\n",
    "    num_train_epochs=3,\n",
    "    per_device_train_batch_size=16,  # Set to 16 for safer memory usage on CPU/GPU\n",
    "    per_device_eval_batch_size=16,\n",
    "    warmup_steps=100,\n",
    "    weight_decay=0.01,\n",
    "    logging_dir='/dbfs/FileStore/tables/logs',\n",
    "    logging_steps=50,\n",
    "    save_steps=500,\n",
    "    eval_steps=500,\n",
    "    fp16=torch.cuda.is_available(),  # Only use fp16 if GPU is available\n",
    "    gradient_accumulation_steps=2,\n",
    "    max_steps=2000,\n",
    "    report_to=\"none\",  # Avoid errors with TensorBoard if not configured\n",
    ")\n",
    "\n",
    "# Metric computation\n",
    "def compute_metrics(eval_pred):\n",
    "    logits, labels = eval_pred\n",
    "    preds = np.argmax(logits, axis=1)\n",
    "    return {\n",
    "        'accuracy': accuracy_score(labels, preds),\n",
    "        'f1': f1_score(labels, preds, average='weighted')\n",
    "    }\n",
    "\n",
    "# Train the model\n",
    "print(\"\\n7. Training model...\")\n",
    "trainer = Trainer(\n",
    "    model=model,\n",
    "    args=training_args,\n",
    "    train_dataset=train_dataset,\n",
    "    eval_dataset=test_dataset,\n",
    "    compute_metrics=compute_metrics,\n",
    ")\n",
    "\n",
    "trainer.train()\n"
   ]
  },
  {
   "cell_type": "code",
   "execution_count": 0,
   "metadata": {
    "application/vnd.databricks.v1+cell": {
     "cellMetadata": {
      "byteLimit": 2048000,
      "rowLimit": 10000
     },
     "inputWidgets": {},
     "nuid": "9dee9e6c-f823-4710-8d16-2cc180b9b6cd",
     "showTitle": false,
     "tableResultSettingsMap": {},
     "title": ""
    }
   },
   "outputs": [
    {
     "output_type": "stream",
     "name": "stdout",
     "output_type": "stream",
     "text": [
      "\n8. Evaluating model...\n"
     ]
    },
    {
     "output_type": "display_data",
     "data": {
      "text/html": [
       "\n",
       "    <div>\n",
       "      \n",
       "      <progress value='2640' max='2640' style='width:300px; height:20px; vertical-align: middle;'></progress>\n",
       "      [2640/2640 08:19]\n",
       "    </div>\n",
       "    "
      ],
      "text/plain": [
       "<IPython.core.display.HTML object>"
      ]
     },
     "metadata": {},
     "output_type": "display_data"
    },
    {
     "output_type": "stream",
     "name": "stdout",
     "output_type": "stream",
     "text": [
      "Test Accuracy: 0.7082623106060606\nTest F1: 0.7009090676954755\n"
     ]
    }
   ],
   "source": [
    "\n",
    "# 7. Evaluate\n",
    "print(\"\\n8. Evaluating model...\")\n",
    "results = trainer.evaluate()\n",
    "print('Test Accuracy:', results['eval_accuracy'])\n",
    "print('Test F1:', results['eval_f1'])"
   ]
  },
  {
   "cell_type": "code",
   "execution_count": 0,
   "metadata": {
    "application/vnd.databricks.v1+cell": {
     "cellMetadata": {
      "byteLimit": 2048000,
      "rowLimit": 10000
     },
     "inputWidgets": {},
     "nuid": "bb2edcd8-3494-4a2c-b34a-7d2456faef94",
     "showTitle": false,
     "tableResultSettingsMap": {},
     "title": ""
    }
   },
   "outputs": [
    {
     "output_type": "stream",
     "name": "stdout",
     "output_type": "stream",
     "text": [
      "Initial DataFrame shape: (538470, 105)\nColumns in DataFrame: ['period', 'Year', 'Unit', 'Mainloc', 'account', 'Main Location', '60 code', 'DM', '50 code', 'Regional VP', '40 code', 'Area VP', 'division code', 'division', 'Main', 'Country Site ID', 'Legal Entity Concerned', 'Site Manager Name', 'Company name, if not Sodexo', 'CS \\\\ Reported by', 'CS \\\\ Address', 'Address2', 'Zip Code', 'City', 'CS \\\\ Phone #', 'CS \\\\ Phone #2', 'Event Title', 'Type', 'Event Date', 'Safety Action Type', 'Safe Action', 'Criticality', 'Critical', 'SAFE', 'Safety Category', 'Safe Category', 'Used stop work authority', 'Reported by employee (ID_firstname_lastname)', 'email prefix', 'email', 'Preliminary Cause', 'Event ID', 'Local \\\\ Date', 'TimeZone', 'Local \\\\ Reported Date', 'Classification', 'Duration', 'Duration Type', 'Inspection \\\\ Status', 'Gravest Severity', 'LSC ?', 'Unauthorised work task / activity ?', 'Activity performed (type of service)', 'Type of location', 'Specific Area', 'Main location2', 'Sub Location', 'CS \\\\ Inspector(s) ID', 'Inspector(s) Designation / Title', 'Nature of visit?', 'Results of visit?', 'Notice', 'Was any evidence taken?', 'Please describe what evidence was taken.', 'Regulatory Agency', 'Address', 'Phone #', 'E-Mail', 'Report Help  \\\\ ', 'Report', 'Near Miss Cause', 'Cause', 'Sub-Cause', 'Resolution Action', 'Risk Assessments', 'Safe Systems of Work e.g. SOPs', 'Training & Management / Supervision', 'Physical Barriers e.g. LOTO', 'Correct Tools, Equipment & PPE', 'Safety Walks, Observations / Near miss', '3 Checks for Safety', 'Workflow Help Message  \\\\ ', 'CS \\\\ Owner', 'Document', 'Status', 'Created by', 'Created on', 'Last Modified by', 'Last Modified on', 'Workflow Level', 'Id', 'CS_Id2', 'ILA Client', 'Reported Date', 'Export \\\\ Event Date NEW', 'Export \\\\ Reported Date NEW', 'Export \\\\ Event Date', 'Export \\\\ Reported Date', 'LastMod', 'Hidden \\\\ CreatedOn', 'Hidden \\\\ ModifiedAt', 'Hidden \\\\ Date', 'Hidden \\\\ ReportDate', 'Hidden \\\\ CS_Date', 'Hidden \\\\ CS_ReportDate']\n"
     ]
    }
   ],
   "source": [
    "# print(\"\\n1. Reading Data...\")\n",
    "predict_data_path = '/dbfs/FileStore/tables/OtherUnknownDataset.xlsx'  # Databricks path\n",
    "df_other_unknown = pd.read_excel(predict_data_path, engine='openpyxl')\n",
    "print(\"Initial DataFrame shape:\",  df_other_unknown.shape)\n",
    "print(\"Columns in DataFrame:\",  df_other_unknown.columns.tolist())"
   ]
  },
  {
   "cell_type": "code",
   "execution_count": 0,
   "metadata": {
    "application/vnd.databricks.v1+cell": {
     "cellMetadata": {
      "byteLimit": 2048000,
      "rowLimit": 10000
     },
     "inputWidgets": {},
     "nuid": "9767d303-bb14-4e3f-8a00-94989e44571a",
     "showTitle": false,
     "tableResultSettingsMap": {},
     "title": ""
    }
   },
   "outputs": [],
   "source": [
    "df_other_unknown = df_other_unknown[relevant_columns]"
   ]
  },
  {
   "cell_type": "code",
   "execution_count": 0,
   "metadata": {
    "application/vnd.databricks.v1+cell": {
     "cellMetadata": {
      "byteLimit": 2048000,
      "rowLimit": 10000
     },
     "inputWidgets": {},
     "nuid": "3b55831e-b7a2-4419-a1af-13abc3c9566b",
     "showTitle": false,
     "tableResultSettingsMap": {},
     "title": ""
    }
   },
   "outputs": [],
   "source": [
    "# Fill nulls in text columns\n",
    "for col in text_columns:\n",
    "        df_other_unknown[col] = df_other_unknown[col].fillna('')"
   ]
  },
  {
   "cell_type": "code",
   "execution_count": 0,
   "metadata": {
    "application/vnd.databricks.v1+cell": {
     "cellMetadata": {
      "byteLimit": 2048000,
      "rowLimit": 10000
     },
     "inputWidgets": {},
     "nuid": "e976c23a-905c-4f9e-8916-839db467bd46",
     "showTitle": false,
     "tableResultSettingsMap": {},
     "title": ""
    }
   },
   "outputs": [],
   "source": [
    "df_other_unknown['text'] = df_other_unknown[text_columns].apply(\n",
    "    lambda row: ' '.join([f\"{col}: {str(x).strip()}\" for col, x in zip(text_columns, row) if str(x).strip()]),\n",
    "    axis=1\n",
    ")"
   ]
  },
  {
   "cell_type": "code",
   "execution_count": 0,
   "metadata": {
    "application/vnd.databricks.v1+cell": {
     "cellMetadata": {
      "byteLimit": 2048000,
      "rowLimit": 10000
     },
     "inputWidgets": {},
     "nuid": "c95fa90b-1062-4a63-a848-61a7d715517d",
     "showTitle": false,
     "tableResultSettingsMap": {},
     "title": ""
    }
   },
   "outputs": [],
   "source": [
    "df_other_unknown = df_other_unknown[df_other_unknown['text'].str.strip().str.len() > 0]"
   ]
  },
  {
   "cell_type": "code",
   "execution_count": 0,
   "metadata": {
    "application/vnd.databricks.v1+cell": {
     "cellMetadata": {
      "byteLimit": 2048000,
      "rowLimit": 10000
     },
     "inputWidgets": {},
     "nuid": "329bc284-92aa-41e0-beb9-e72116e31e67",
     "showTitle": false,
     "tableResultSettingsMap": {},
     "title": ""
    }
   },
   "outputs": [
    {
     "output_type": "stream",
     "name": "stdout",
     "output_type": "stream",
     "text": [
      "\n9. Predicting on 'other' and 'unknown'...\nProcessing batch 1/16828\nProcessing batch 2/16828\nProcessing batch 3/16828\nProcessing batch 4/16828\nProcessing batch 5/16828\nProcessing batch 6/16828\nProcessing batch 7/16828\nProcessing batch 8/16828\nProcessing batch 9/16828\nProcessing batch 10/16828\nProcessing batch 11/16828\nProcessing batch 12/16828\nProcessing batch 13/16828\nProcessing batch 14/16828\nProcessing batch 15/16828\nProcessing batch 16/16828\nProcessing batch 17/16828\nProcessing batch 18/16828\nProcessing batch 19/16828\nProcessing batch 20/16828\nProcessing batch 21/16828\nProcessing batch 22/16828\nProcessing batch 23/16828\nProcessing batch 24/16828\nProcessing batch 25/16828\nProcessing batch 26/16828\nProcessing batch 27/16828\nProcessing batch 28/16828\nProcessing batch 29/16828\nProcessing batch 30/16828\nProcessing batch 31/16828\nProcessing batch 32/16828\nProcessing batch 33/16828\nProcessing batch 34/16828\nProcessing batch 35/16828\nProcessing batch 36/16828\nProcessing batch 37/16828\nProcessing batch 38/16828\nProcessing batch 39/16828\nProcessing batch 40/16828\nProcessing batch 41/16828\nProcessing batch 42/16828\nProcessing batch 43/16828\nProcessing batch 44/16828\nProcessing batch 45/16828\nProcessing batch 46/16828\nProcessing batch 47/16828\nProcessing batch 48/16828\nProcessing batch 49/16828\nProcessing batch 50/16828\nProcessing batch 51/16828\nProcessing batch 52/16828\nProcessing batch 53/16828\nProcessing batch 54/16828\nProcessing batch 55/16828\nProcessing batch 56/16828\nProcessing batch 57/16828\nProcessing batch 58/16828\nProcessing batch 59/16828\nProcessing batch 60/16828\nProcessing batch 61/16828\nProcessing batch 62/16828\nProcessing batch 63/16828\nProcessing batch 64/16828\nProcessing batch 65/16828\nProcessing batch 66/16828\nProcessing batch 67/16828\nProcessing batch 68/16828\nProcessing batch 69/16828\nProcessing batch 70/16828\nProcessing batch 71/16828\nProcessing batch 72/16828\nProcessing batch 73/16828\nProcessing batch 74/16828\nProcessing batch 75/16828\nProcessing batch 76/16828\nProcessing batch 77/16828\nProcessing batch 78/16828\nProcessing batch 79/16828\nProcessing batch 80/16828\nProcessing batch 81/16828\nProcessing batch 82/16828\nProcessing batch 83/16828\nProcessing batch 84/16828\nProcessing batch 85/16828\nProcessing batch 86/16828\nProcessing batch 87/16828\nProcessing batch 88/16828\nProcessing batch 89/16828\nProcessing batch 90/16828\nProcessing batch 91/16828\nProcessing batch 92/16828\nProcessing batch 93/16828\nProcessing batch 94/16828\nProcessing batch 95/16828\nProcessing batch 96/16828\nProcessing batch 97/16828\nProcessing batch 98/16828\nProcessing batch 99/16828\nProcessing batch 100/16828\nProcessing batch 101/16828\nProcessing batch 102/16828\nProcessing batch 103/16828\nProcessing batch 104/16828\nProcessing batch 105/16828\nProcessing batch 106/16828\nProcessing batch 107/16828\nProcessing batch 108/16828\nProcessing batch 109/16828\nProcessing batch 110/16828\nProcessing batch 111/16828\nProcessing batch 112/16828\nProcessing batch 113/16828\nProcessing batch 114/16828\nProcessing batch 115/16828\nProcessing batch 116/16828\nProcessing batch 117/16828\nProcessing batch 118/16828\nProcessing batch 119/16828\nProcessing batch 120/16828\nProcessing batch 121/16828\nProcessing batch 122/16828\nProcessing batch 123/16828\nProcessing batch 124/16828\nProcessing batch 125/16828\nProcessing batch 126/16828\nProcessing batch 127/16828\nProcessing batch 128/16828\nProcessing batch 129/16828\nProcessing batch 130/16828\nProcessing batch 131/16828\nProcessing batch 132/16828\nProcessing batch 133/16828\nProcessing batch 134/16828\nProcessing batch 135/16828\nProcessing batch 136/16828\nProcessing batch 137/16828\nProcessing batch 138/16828\nProcessing batch 139/16828\nProcessing batch 140/16828\nProcessing batch 141/16828\nProcessing batch 142/16828\nProcessing batch 143/16828\nProcessing batch 144/16828\nProcessing batch 145/16828\nProcessing batch 146/16828\nProcessing batch 147/16828\nProcessing batch 148/16828\nProcessing batch 149/16828\nProcessing batch 150/16828\nProcessing batch 151/16828\nProcessing batch 152/16828\nProcessing batch 153/16828\nProcessing batch 154/16828\nProcessing batch 155/16828\nProcessing batch 156/16828\nProcessing batch 157/16828\nProcessing batch 158/16828\nProcessing batch 159/16828\nProcessing batch 160/16828\nProcessing batch 161/16828\nProcessing batch 162/16828\nProcessing batch 163/16828\nProcessing batch 164/16828\nProcessing batch 165/16828\nProcessing batch 166/16828\nProcessing batch 167/16828\nProcessing batch 168/16828\nProcessing batch 169/16828\nProcessing batch 170/16828\nProcessing batch 171/16828\nProcessing batch 172/16828\nProcessing batch 173/16828\nProcessing batch 174/16828\nProcessing batch 175/16828\nProcessing batch 176/16828\nProcessing batch 177/16828\nProcessing batch 178/16828\nProcessing batch 179/16828\nProcessing batch 180/16828\nProcessing batch 181/16828\nProcessing batch 182/16828\nProcessing batch 183/16828\nProcessing batch 184/16828\nProcessing batch 185/16828\nProcessing batch 186/16828\nProcessing batch 187/16828\nProcessing batch 188/16828\nProcessing batch 189/16828\nProcessing batch 190/16828\nProcessing batch 191/16828\nProcessing batch 192/16828\nProcessing batch 193/16828\nProcessing batch 194/16828\nProcessing batch 195/16828\nProcessing batch 196/16828\nProcessing batch 197/16828\nProcessing batch 198/16828\nProcessing batch 199/16828\nProcessing batch 200/16828\nProcessing batch 201/16828\nProcessing batch 202/16828\nProcessing batch 203/16828\nProcessing batch 204/16828\nProcessing batch 205/16828\nProcessing batch 206/16828\nProcessing batch 207/16828\nProcessing batch 208/16828\nProcessing batch 209/16828\nProcessing batch 210/16828\nProcessing batch 211/16828\nProcessing batch 212/16828\nProcessing batch 213/16828\nProcessing batch 214/16828\nProcessing batch 215/16828\nProcessing batch 216/16828\nProcessing batch 217/16828\nProcessing batch 218/16828\nProcessing batch 219/16828\nProcessing batch 220/16828\nProcessing batch 221/16828\nProcessing batch 222/16828\nProcessing batch 223/16828\nProcessing batch 224/16828\nProcessing batch 225/16828\nProcessing batch 226/16828\nProcessing batch 227/16828\nProcessing batch 228/16828\nProcessing batch 229/16828\nProcessing batch 230/16828\nProcessing batch 231/16828\nProcessing batch 232/16828\nProcessing batch 233/16828\nProcessing batch 234/16828\nProcessing batch 235/16828\nProcessing batch 236/16828\nProcessing batch 237/16828\nProcessing batch 238/16828\nProcessing batch 239/16828\nProcessing batch 240/16828\nProcessing batch 241/16828\nProcessing batch 242/16828\nProcessing batch 243/16828\nProcessing batch 244/16828\nProcessing batch 245/16828\nProcessing batch 246/16828\nProcessing batch 247/16828\nProcessing batch 248/16828\nProcessing batch 249/16828\nProcessing batch 250/16828\nProcessing batch 251/16828\nProcessing batch 252/16828\nProcessing batch 253/16828\nProcessing batch 254/16828\nProcessing batch 255/16828\nProcessing batch 256/16828\nProcessing batch 257/16828\nProcessing batch 258/16828\nProcessing batch 259/16828\nProcessing batch 260/16828\nProcessing batch 261/16828\nProcessing batch 262/16828\nProcessing batch 263/16828\nProcessing batch 264/16828\nProcessing batch 265/16828\nProcessing batch 266/16828\nProcessing batch 267/16828\nProcessing batch 268/16828\nProcessing batch 269/16828\nProcessing batch 270/16828\nProcessing batch 271/16828\nProcessing batch 272/16828\nProcessing batch 273/16828\nProcessing batch 274/16828\nProcessing batch 275/16828\nProcessing batch 276/16828\nProcessing batch 277/16828\nProcessing batch 278/16828\nProcessing batch 279/16828\nProcessing batch 280/16828\nProcessing batch 281/16828\nProcessing batch 282/16828\nProcessing batch 283/16828\nProcessing batch 284/16828\nProcessing batch 285/16828\nProcessing batch 286/16828\nProcessing batch 287/16828\nProcessing batch 288/16828\nProcessing batch 289/16828\nProcessing batch 290/16828\nProcessing batch 291/16828\nProcessing batch 292/16828\nProcessing batch 293/16828\nProcessing batch 294/16828\nProcessing batch 295/16828\nProcessing batch 296/16828\nProcessing batch 297/16828\nProcessing batch 298/16828\nProcessing batch 299/16828\nProcessing batch 300/16828\nProcessing batch 301/16828\nProcessing batch 302/16828\nProcessing batch 303/16828\nProcessing batch 304/16828\nProcessing batch 305/16828\nProcessing batch 306/16828\nProcessing batch 307/16828\nProcessing batch 308/16828\nProcessing batch 309/16828\nProcessing batch 310/16828\nProcessing batch 311/16828\nProcessing batch 312/16828\nProcessing batch 313/16828\nProcessing batch 314/16828\nProcessing batch 315/16828\nProcessing batch 316/16828\nProcessing batch 317/16828\nProcessing batch 318/16828\nProcessing batch 319/16828\nProcessing batch 320/16828\nProcessing batch 321/16828\nProcessing batch 322/16828\nProcessing batch 323/16828\nProcessing batch 324/16828\nProcessing batch 325/16828\nProcessing batch 326/16828\nProcessing batch 327/16828\nProcessing batch 328/16828\nProcessing batch 329/16828\nProcessing batch 330/16828\nProcessing batch 331/16828\nProcessing batch 332/16828\nProcessing batch 333/16828\nProcessing batch 334/16828\nProcessing batch 335/16828\nProcessing batch 336/16828\nProcessing batch 337/16828\nProcessing batch 338/16828\nProcessing batch 339/16828\nProcessing batch 340/16828\nProcessing batch 341/16828\nProcessing batch 342/16828\nProcessing batch 343/16828\nProcessing batch 344/16828\nProcessing batch 345/16828\nProcessing batch 346/16828\nProcessing batch 347/16828\nProcessing batch 348/16828\nProcessing batch 349/16828\nProcessing batch 350/16828\nProcessing batch 351/16828\nProcessing batch 352/16828\nProcessing batch 353/16828\nProcessing batch 354/16828\nProcessing batch 355/16828\nProcessing batch 356/16828\nProcessing batch 357/16828\nProcessing batch 358/16828\nProcessing batch 359/16828\nProcessing batch 360/16828\nProcessing batch 361/16828\nProcessing batch 362/16828\nProcessing batch 363/16828\nProcessing batch 364/16828\nProcessing batch 365/16828\nProcessing batch 366/16828\nProcessing batch 367/16828\nProcessing batch 368/16828\nProcessing batch 369/16828\nProcessing batch 370/16828\nProcessing batch 371/16828\nProcessing batch 372/16828\nProcessing batch 373/16828\nProcessing batch 374/16828\nProcessing batch 375/16828\nProcessing batch 376/16828\nProcessing batch 377/16828\nProcessing batch 378/16828\nProcessing batch 379/16828\nProcessing batch 380/16828\nProcessing batch 381/16828\nProcessing batch 382/16828\nProcessing batch 383/16828\nProcessing batch 384/16828\nProcessing batch 385/16828\nProcessing batch 386/16828\nProcessing batch 387/16828\nProcessing batch 388/16828\nProcessing batch 389/16828\nProcessing batch 390/16828\nProcessing batch 391/16828\nProcessing batch 392/16828\nProcessing batch 393/16828\nProcessing batch 394/16828\nProcessing batch 395/16828\nProcessing batch 396/16828\nProcessing batch 397/16828\nProcessing batch 398/16828\nProcessing batch 399/16828\nProcessing batch 400/16828\nProcessing batch 401/16828\nProcessing batch 402/16828\nProcessing batch 403/16828\nProcessing batch 404/16828\nProcessing batch 405/16828\nProcessing batch 406/16828\nProcessing batch 407/16828\nProcessing batch 408/16828\nProcessing batch 409/16828\nProcessing batch 410/16828\nProcessing batch 411/16828\nProcessing batch 412/16828\nProcessing batch 413/16828\nProcessing batch 414/16828\nProcessing batch 415/16828\nProcessing batch 416/16828\nProcessing batch 417/16828\nProcessing batch 418/16828\nProcessing batch 419/16828\nProcessing batch 420/16828\nProcessing batch 421/16828\nProcessing batch 422/16828\nProcessing batch 423/16828\nProcessing batch 424/16828\nProcessing batch 425/16828\nProcessing batch 426/16828\nProcessing batch 427/16828\nProcessing batch 428/16828\nProcessing batch 429/16828\nProcessing batch 430/16828\nProcessing batch 431/16828\nProcessing batch 432/16828\nProcessing batch 433/16828\nProcessing batch 434/16828\nProcessing batch 435/16828\nProcessing batch 436/16828\nProcessing batch 437/16828\nProcessing batch 438/16828\nProcessing batch 439/16828\nProcessing batch 440/16828\nProcessing batch 441/16828\nProcessing batch 442/16828\nProcessing batch 443/16828\nProcessing batch 444/16828\nProcessing batch 445/16828\nProcessing batch 446/16828\nProcessing batch 447/16828\nProcessing batch 448/16828\nProcessing batch 449/16828\nProcessing batch 450/16828\nProcessing batch 451/16828\nProcessing batch 452/16828\nProcessing batch 453/16828\nProcessing batch 454/16828\nProcessing batch 455/16828\nProcessing batch 456/16828\nProcessing batch 457/16828\nProcessing batch 458/16828\nProcessing batch 459/16828\nProcessing batch 460/16828\nProcessing batch 461/16828\nProcessing batch 462/16828\nProcessing batch 463/16828\nProcessing batch 464/16828\nProcessing batch 465/16828\nProcessing batch 466/16828\nProcessing batch 467/16828\nProcessing batch 468/16828\nProcessing batch 469/16828\nProcessing batch 470/16828\nProcessing batch 471/16828\nProcessing batch 472/16828\nProcessing batch 473/16828\nProcessing batch 474/16828\nProcessing batch 475/16828\nProcessing batch 476/16828\nProcessing batch 477/16828\nProcessing batch 478/16828\nProcessing batch 479/16828\nProcessing batch 480/16828\nProcessing batch 481/16828\nProcessing batch 482/16828\nProcessing batch 483/16828\nProcessing batch 484/16828\nProcessing batch 485/16828\nProcessing batch 486/16828\nProcessing batch 487/16828\nProcessing batch 488/16828\nProcessing batch 489/16828\nProcessing batch 490/16828\nProcessing batch 491/16828\nProcessing batch 492/16828\nProcessing batch 493/16828\nProcessing batch 494/16828\nProcessing batch 495/16828\nProcessing batch 496/16828\nProcessing batch 497/16828\nProcessing batch 498/16828\nProcessing batch 499/16828\nProcessing batch 500/16828\nProcessing batch 501/16828\nProcessing batch 502/16828\nProcessing batch 503/16828\nProcessing batch 504/16828\nProcessing batch 505/16828\nProcessing batch 506/16828\nProcessing batch 507/16828\nProcessing batch 508/16828\nProcessing batch 509/16828\nProcessing batch 510/16828\nProcessing batch 511/16828\nProcessing batch 512/16828\nProcessing batch 513/16828\nProcessing batch 514/16828\nProcessing batch 515/16828\nProcessing batch 516/16828\nProcessing batch 517/16828\nProcessing batch 518/16828\nProcessing batch 519/16828\nProcessing batch 520/16828\nProcessing batch 521/16828\nProcessing batch 522/16828\nProcessing batch 523/16828\nProcessing batch 524/16828\nProcessing batch 525/16828\nProcessing batch 526/16828\nProcessing batch 527/16828\nProcessing batch 528/16828\nProcessing batch 529/16828\nProcessing batch 530/16828\nProcessing batch 531/16828\nProcessing batch 532/16828\nProcessing batch 533/16828\nProcessing batch 534/16828\nProcessing batch 535/16828\nProcessing batch 536/16828\nProcessing batch 537/16828\nProcessing batch 538/16828\nProcessing batch 539/16828\nProcessing batch 540/16828\nProcessing batch 541/16828\nProcessing batch 542/16828\nProcessing batch 543/16828\nProcessing batch 544/16828\nProcessing batch 545/16828\nProcessing batch 546/16828\nProcessing batch 547/16828\nProcessing batch 548/16828\nProcessing batch 549/16828\nProcessing batch 550/16828\nProcessing batch 551/16828\nProcessing batch 552/16828\nProcessing batch 553/16828\nProcessing batch 554/16828\nProcessing batch 555/16828\nProcessing batch 556/16828\nProcessing batch 557/16828\nProcessing batch 558/16828\nProcessing batch 559/16828\nProcessing batch 560/16828\nProcessing batch 561/16828\nProcessing batch 562/16828\nProcessing batch 563/16828\nProcessing batch 564/16828\nProcessing batch 565/16828\nProcessing batch 566/16828\nProcessing batch 567/16828\nProcessing batch 568/16828\nProcessing batch 569/16828\nProcessing batch 570/16828\nProcessing batch 571/16828\nProcessing batch 572/16828\nProcessing batch 573/16828\nProcessing batch 574/16828\nProcessing batch 575/16828\nProcessing batch 576/16828\nProcessing batch 577/16828\nProcessing batch 578/16828\nProcessing batch 579/16828\nProcessing batch 580/16828\nProcessing batch 581/16828\nProcessing batch 582/16828\nProcessing batch 583/16828\nProcessing batch 584/16828\nProcessing batch 585/16828\nProcessing batch 586/16828\nProcessing batch 587/16828\nProcessing batch 588/16828\nProcessing batch 589/16828\nProcessing batch 590/16828\nProcessing batch 591/16828\nProcessing batch 592/16828\nProcessing batch 593/16828\nProcessing batch 594/16828\nProcessing batch 595/16828\nProcessing batch 596/16828\nProcessing batch 597/16828\nProcessing batch 598/16828\nProcessing batch 599/16828\nProcessing batch 600/16828\nProcessing batch 601/16828\nProcessing batch 602/16828\nProcessing batch 603/16828\nProcessing batch 604/16828\nProcessing batch 605/16828\nProcessing batch 606/16828\nProcessing batch 607/16828\nProcessing batch 608/16828\nProcessing batch 609/16828\nProcessing batch 610/16828\nProcessing batch 611/16828\nProcessing batch 612/16828\nProcessing batch 613/16828\nProcessing batch 614/16828\nProcessing batch 615/16828\nProcessing batch 616/16828\nProcessing batch 617/16828\nProcessing batch 618/16828\nProcessing batch 619/16828\nProcessing batch 620/16828\nProcessing batch 621/16828\nProcessing batch 622/16828\nProcessing batch 623/16828\nProcessing batch 624/16828\nProcessing batch 625/16828\nProcessing batch 626/16828\nProcessing batch 627/16828\nProcessing batch 628/16828\nProcessing batch 629/16828\nProcessing batch 630/16828\nProcessing batch 631/16828\nProcessing batch 632/16828\nProcessing batch 633/16828\nProcessing batch 634/16828\nProcessing batch 635/16828\nProcessing batch 636/16828\nProcessing batch 637/16828\nProcessing batch 638/16828\nProcessing batch 639/16828\nProcessing batch 640/16828\nProcessing batch 641/16828\nProcessing batch 642/16828\nProcessing batch 643/16828\nProcessing batch 644/16828\nProcessing batch 645/16828\nProcessing batch 646/16828\nProcessing batch 647/16828\nProcessing batch 648/16828\nProcessing batch 649/16828\nProcessing batch 650/16828\nProcessing batch 651/16828\nProcessing batch 652/16828\nProcessing batch 653/16828\nProcessing batch 654/16828\nProcessing batch 655/16828\nProcessing batch 656/16828\nProcessing batch 657/16828\nProcessing batch 658/16828\nProcessing batch 659/16828\nProcessing batch 660/16828\nProcessing batch 661/16828\nProcessing batch 662/16828\nProcessing batch 663/16828\nProcessing batch 664/16828\nProcessing batch 665/16828\nProcessing batch 666/16828\nProcessing batch 667/16828\nProcessing batch 668/16828\nProcessing batch 669/16828\nProcessing batch 670/16828\nProcessing batch 671/16828\nProcessing batch 672/16828\nProcessing batch 673/16828\nProcessing batch 674/16828\nProcessing batch 675/16828\nProcessing batch 676/16828\nProcessing batch 677/16828\nProcessing batch 678/16828\nProcessing batch 679/16828\nProcessing batch 680/16828\nProcessing batch 681/16828\nProcessing batch 682/16828\nProcessing batch 683/16828\nProcessing batch 684/16828\nProcessing batch 685/16828\nProcessing batch 686/16828\nProcessing batch 687/16828\nProcessing batch 688/16828\nProcessing batch 689/16828\nProcessing batch 690/16828\nProcessing batch 691/16828\nProcessing batch 692/16828\nProcessing batch 693/16828\nProcessing batch 694/16828\nProcessing batch 695/16828\nProcessing batch 696/16828\nProcessing batch 697/16828\nProcessing batch 698/16828\nProcessing batch 699/16828\nProcessing batch 700/16828\nProcessing batch 701/16828\nProcessing batch 702/16828\nProcessing batch 703/16828\nProcessing batch 704/16828\nProcessing batch 705/16828\nProcessing batch 706/16828\nProcessing batch 707/16828\nProcessing batch 708/16828\nProcessing batch 709/16828\nProcessing batch 710/16828\nProcessing batch 711/16828\nProcessing batch 712/16828\nProcessing batch 713/16828\nProcessing batch 714/16828\nProcessing batch 715/16828\nProcessing batch 716/16828\nProcessing batch 717/16828\nProcessing batch 718/16828\nProcessing batch 719/16828\nProcessing batch 720/16828\nProcessing batch 721/16828\nProcessing batch 722/16828\nProcessing batch 723/16828\nProcessing batch 724/16828\nProcessing batch 725/16828\nProcessing batch 726/16828\nProcessing batch 727/16828\nProcessing batch 728/16828\nProcessing batch 729/16828\nProcessing batch 730/16828\nProcessing batch 731/16828\nProcessing batch 732/16828\nProcessing batch 733/16828\nProcessing batch 734/16828\nProcessing batch 735/16828\nProcessing batch 736/16828\nProcessing batch 737/16828\nProcessing batch 738/16828\nProcessing batch 739/16828\nProcessing batch 740/16828\nProcessing batch 741/16828\nProcessing batch 742/16828\nProcessing batch 743/16828\nProcessing batch 744/16828\nProcessing batch 745/16828\nProcessing batch 746/16828\nProcessing batch 747/16828\nProcessing batch 748/16828\nProcessing batch 749/16828\nProcessing batch 750/16828\nProcessing batch 751/16828\nProcessing batch 752/16828\nProcessing batch 753/16828\nProcessing batch 754/16828\nProcessing batch 755/16828\nProcessing batch 756/16828\nProcessing batch 757/16828\nProcessing batch 758/16828\nProcessing batch 759/16828\nProcessing batch 760/16828\nProcessing batch 761/16828\nProcessing batch 762/16828\nProcessing batch 763/16828\nProcessing batch 764/16828\nProcessing batch 765/16828\nProcessing batch 766/16828\nProcessing batch 767/16828\nProcessing batch 768/16828\nProcessing batch 769/16828\nProcessing batch 770/16828\nProcessing batch 771/16828\nProcessing batch 772/16828\nProcessing batch 773/16828\nProcessing batch 774/16828\nProcessing batch 775/16828\nProcessing batch 776/16828\nProcessing batch 777/16828\nProcessing batch 778/16828\nProcessing batch 779/16828\nProcessing batch 780/16828\nProcessing batch 781/16828\nProcessing batch 782/16828\nProcessing batch 783/16828\nProcessing batch 784/16828\nProcessing batch 785/16828\nProcessing batch 786/16828\nProcessing batch 787/16828\nProcessing batch 788/16828\nProcessing batch 789/16828\nProcessing batch 790/16828\nProcessing batch 791/16828\nProcessing batch 792/16828\nProcessing batch 793/16828\nProcessing batch 794/16828\nProcessing batch 795/16828\nProcessing batch 796/16828\nProcessing batch 797/16828\nProcessing batch 798/16828\nProcessing batch 799/16828\nProcessing batch 800/16828\nProcessing batch 801/16828\nProcessing batch 802/16828\nProcessing batch 803/16828\nProcessing batch 804/16828\nProcessing batch 805/16828\nProcessing batch 806/16828\nProcessing batch 807/16828\nProcessing batch 808/16828\nProcessing batch 809/16828\nProcessing batch 810/16828\nProcessing batch 811/16828\nProcessing batch 812/16828\nProcessing batch 813/16828\nProcessing batch 814/16828\nProcessing batch 815/16828\nProcessing batch 816/16828\nProcessing batch 817/16828\nProcessing batch 818/16828\nProcessing batch 819/16828\nProcessing batch 820/16828\nProcessing batch 821/16828\nProcessing batch 822/16828\nProcessing batch 823/16828\nProcessing batch 824/16828\nProcessing batch 825/16828\nProcessing batch 826/16828\nProcessing batch 827/16828\nProcessing batch 828/16828\nProcessing batch 829/16828\nProcessing batch 830/16828\nProcessing batch 831/16828\nProcessing batch 832/16828\nProcessing batch 833/16828\nProcessing batch 834/16828\nProcessing batch 835/16828\nProcessing batch 836/16828\nProcessing batch 837/16828\nProcessing batch 838/16828\nProcessing batch 839/16828\nProcessing batch 840/16828\nProcessing batch 841/16828\nProcessing batch 842/16828\nProcessing batch 843/16828\nProcessing batch 844/16828\nProcessing batch 845/16828\nProcessing batch 846/16828\nProcessing batch 847/16828\nProcessing batch 848/16828\nProcessing batch 849/16828\nProcessing batch 850/16828\nProcessing batch 851/16828\nProcessing batch 852/16828\nProcessing batch 853/16828\nProcessing batch 854/16828\nProcessing batch 855/16828\nProcessing batch 856/16828\nProcessing batch 857/16828\nProcessing batch 858/16828\nProcessing batch 859/16828\nProcessing batch 860/16828\nProcessing batch 861/16828\nProcessing batch 862/16828\nProcessing batch 863/16828\nProcessing batch 864/16828\nProcessing batch 865/16828\nProcessing batch 866/16828\nProcessing batch 867/16828\nProcessing batch 868/16828\nProcessing batch 869/16828\nProcessing batch 870/16828\nProcessing batch 871/16828\nProcessing batch 872/16828\nProcessing batch 873/16828\nProcessing batch 874/16828\nProcessing batch 875/16828\nProcessing batch 876/16828\nProcessing batch 877/16828\nProcessing batch 878/16828\nProcessing batch 879/16828\nProcessing batch 880/16828\nProcessing batch 881/16828\nProcessing batch 882/16828\nProcessing batch 883/16828\nProcessing batch 884/16828\nProcessing batch 885/16828\nProcessing batch 886/16828\nProcessing batch 887/16828\nProcessing batch 888/16828\nProcessing batch 889/16828\nProcessing batch 890/16828\nProcessing batch 891/16828\nProcessing batch 892/16828\nProcessing batch 893/16828\nProcessing batch 894/16828\nProcessing batch 895/16828\nProcessing batch 896/16828\nProcessing batch 897/16828\nProcessing batch 898/16828\nProcessing batch 899/16828\nProcessing batch 900/16828\nProcessing batch 901/16828\nProcessing batch 902/16828\nProcessing batch 903/16828\nProcessing batch 904/16828\nProcessing batch 905/16828\nProcessing batch 906/16828\nProcessing batch 907/16828\nProcessing batch 908/16828\nProcessing batch 909/16828\nProcessing batch 910/16828\nProcessing batch 911/16828\nProcessing batch 912/16828\nProcessing batch 913/16828\nProcessing batch 914/16828\nProcessing batch 915/16828\nProcessing batch 916/16828\nProcessing batch 917/16828\nProcessing batch 918/16828\nProcessing batch 919/16828\nProcessing batch 920/16828\nProcessing batch 921/16828\nProcessing batch 922/16828\nProcessing batch 923/16828\nProcessing batch 924/16828\nProcessing batch 925/16828\nProcessing batch 926/16828\nProcessing batch 927/16828\nProcessing batch 928/16828\nProcessin\n\n*** WARNING: max output size exceeded, skipping output. ***\n\ning batch 16100/16828\nProcessing batch 16101/16828\nProcessing batch 16102/16828\nProcessing batch 16103/16828\nProcessing batch 16104/16828\nProcessing batch 16105/16828\nProcessing batch 16106/16828\nProcessing batch 16107/16828\nProcessing batch 16108/16828\nProcessing batch 16109/16828\nProcessing batch 16110/16828\nProcessing batch 16111/16828\nProcessing batch 16112/16828\nProcessing batch 16113/16828\nProcessing batch 16114/16828\nProcessing batch 16115/16828\nProcessing batch 16116/16828\nProcessing batch 16117/16828\nProcessing batch 16118/16828\nProcessing batch 16119/16828\nProcessing batch 16120/16828\nProcessing batch 16121/16828\nProcessing batch 16122/16828\nProcessing batch 16123/16828\nProcessing batch 16124/16828\nProcessing batch 16125/16828\nProcessing batch 16126/16828\nProcessing batch 16127/16828\nProcessing batch 16128/16828\nProcessing batch 16129/16828\nProcessing batch 16130/16828\nProcessing batch 16131/16828\nProcessing batch 16132/16828\nProcessing batch 16133/16828\nProcessing batch 16134/16828\nProcessing batch 16135/16828\nProcessing batch 16136/16828\nProcessing batch 16137/16828\nProcessing batch 16138/16828\nProcessing batch 16139/16828\nProcessing batch 16140/16828\nProcessing batch 16141/16828\nProcessing batch 16142/16828\nProcessing batch 16143/16828\nProcessing batch 16144/16828\nProcessing batch 16145/16828\nProcessing batch 16146/16828\nProcessing batch 16147/16828\nProcessing batch 16148/16828\nProcessing batch 16149/16828\nProcessing batch 16150/16828\nProcessing batch 16151/16828\nProcessing batch 16152/16828\nProcessing batch 16153/16828\nProcessing batch 16154/16828\nProcessing batch 16155/16828\nProcessing batch 16156/16828\nProcessing batch 16157/16828\nProcessing batch 16158/16828\nProcessing batch 16159/16828\nProcessing batch 16160/16828\nProcessing batch 16161/16828\nProcessing batch 16162/16828\nProcessing batch 16163/16828\nProcessing batch 16164/16828\nProcessing batch 16165/16828\nProcessing batch 16166/16828\nProcessing batch 16167/16828\nProcessing batch 16168/16828\nProcessing batch 16169/16828\nProcessing batch 16170/16828\nProcessing batch 16171/16828\nProcessing batch 16172/16828\nProcessing batch 16173/16828\nProcessing batch 16174/16828\nProcessing batch 16175/16828\nProcessing batch 16176/16828\nProcessing batch 16177/16828\nProcessing batch 16178/16828\nProcessing batch 16179/16828\nProcessing batch 16180/16828\nProcessing batch 16181/16828\nProcessing batch 16182/16828\nProcessing batch 16183/16828\nProcessing batch 16184/16828\nProcessing batch 16185/16828\nProcessing batch 16186/16828\nProcessing batch 16187/16828\nProcessing batch 16188/16828\nProcessing batch 16189/16828\nProcessing batch 16190/16828\nProcessing batch 16191/16828\nProcessing batch 16192/16828\nProcessing batch 16193/16828\nProcessing batch 16194/16828\nProcessing batch 16195/16828\nProcessing batch 16196/16828\nProcessing batch 16197/16828\nProcessing batch 16198/16828\nProcessing batch 16199/16828\nProcessing batch 16200/16828\nProcessing batch 16201/16828\nProcessing batch 16202/16828\nProcessing batch 16203/16828\nProcessing batch 16204/16828\nProcessing batch 16205/16828\nProcessing batch 16206/16828\nProcessing batch 16207/16828\nProcessing batch 16208/16828\nProcessing batch 16209/16828\nProcessing batch 16210/16828\nProcessing batch 16211/16828\nProcessing batch 16212/16828\nProcessing batch 16213/16828\nProcessing batch 16214/16828\nProcessing batch 16215/16828\nProcessing batch 16216/16828\nProcessing batch 16217/16828\nProcessing batch 16218/16828\nProcessing batch 16219/16828\nProcessing batch 16220/16828\nProcessing batch 16221/16828\nProcessing batch 16222/16828\nProcessing batch 16223/16828\nProcessing batch 16224/16828\nProcessing batch 16225/16828\nProcessing batch 16226/16828\nProcessing batch 16227/16828\nProcessing batch 16228/16828\nProcessing batch 16229/16828\nProcessing batch 16230/16828\nProcessing batch 16231/16828\nProcessing batch 16232/16828\nProcessing batch 16233/16828\nProcessing batch 16234/16828\nProcessing batch 16235/16828\nProcessing batch 16236/16828\nProcessing batch 16237/16828\nProcessing batch 16238/16828\nProcessing batch 16239/16828\nProcessing batch 16240/16828\nProcessing batch 16241/16828\nProcessing batch 16242/16828\nProcessing batch 16243/16828\nProcessing batch 16244/16828\nProcessing batch 16245/16828\nProcessing batch 16246/16828\nProcessing batch 16247/16828\nProcessing batch 16248/16828\nProcessing batch 16249/16828\nProcessing batch 16250/16828\nProcessing batch 16251/16828\nProcessing batch 16252/16828\nProcessing batch 16253/16828\nProcessing batch 16254/16828\nProcessing batch 16255/16828\nProcessing batch 16256/16828\nProcessing batch 16257/16828\nProcessing batch 16258/16828\nProcessing batch 16259/16828\nProcessing batch 16260/16828\nProcessing batch 16261/16828\nProcessing batch 16262/16828\nProcessing batch 16263/16828\nProcessing batch 16264/16828\nProcessing batch 16265/16828\nProcessing batch 16266/16828\nProcessing batch 16267/16828\nProcessing batch 16268/16828\nProcessing batch 16269/16828\nProcessing batch 16270/16828\nProcessing batch 16271/16828\nProcessing batch 16272/16828\nProcessing batch 16273/16828\nProcessing batch 16274/16828\nProcessing batch 16275/16828\nProcessing batch 16276/16828\nProcessing batch 16277/16828\nProcessing batch 16278/16828\nProcessing batch 16279/16828\nProcessing batch 16280/16828\nProcessing batch 16281/16828\nProcessing batch 16282/16828\nProcessing batch 16283/16828\nProcessing batch 16284/16828\nProcessing batch 16285/16828\nProcessing batch 16286/16828\nProcessing batch 16287/16828\nProcessing batch 16288/16828\nProcessing batch 16289/16828\nProcessing batch 16290/16828\nProcessing batch 16291/16828\nProcessing batch 16292/16828\nProcessing batch 16293/16828\nProcessing batch 16294/16828\nProcessing batch 16295/16828\nProcessing batch 16296/16828\nProcessing batch 16297/16828\nProcessing batch 16298/16828\nProcessing batch 16299/16828\nProcessing batch 16300/16828\nProcessing batch 16301/16828\nProcessing batch 16302/16828\nProcessing batch 16303/16828\nProcessing batch 16304/16828\nProcessing batch 16305/16828\nProcessing batch 16306/16828\nProcessing batch 16307/16828\nProcessing batch 16308/16828\nProcessing batch 16309/16828\nProcessing batch 16310/16828\nProcessing batch 16311/16828\nProcessing batch 16312/16828\nProcessing batch 16313/16828\nProcessing batch 16314/16828\nProcessing batch 16315/16828\nProcessing batch 16316/16828\nProcessing batch 16317/16828\nProcessing batch 16318/16828\nProcessing batch 16319/16828\nProcessing batch 16320/16828\nProcessing batch 16321/16828\nProcessing batch 16322/16828\nProcessing batch 16323/16828\nProcessing batch 16324/16828\nProcessing batch 16325/16828\nProcessing batch 16326/16828\nProcessing batch 16327/16828\nProcessing batch 16328/16828\nProcessing batch 16329/16828\nProcessing batch 16330/16828\nProcessing batch 16331/16828\nProcessing batch 16332/16828\nProcessing batch 16333/16828\nProcessing batch 16334/16828\nProcessing batch 16335/16828\nProcessing batch 16336/16828\nProcessing batch 16337/16828\nProcessing batch 16338/16828\nProcessing batch 16339/16828\nProcessing batch 16340/16828\nProcessing batch 16341/16828\nProcessing batch 16342/16828\nProcessing batch 16343/16828\nProcessing batch 16344/16828\nProcessing batch 16345/16828\nProcessing batch 16346/16828\nProcessing batch 16347/16828\nProcessing batch 16348/16828\nProcessing batch 16349/16828\nProcessing batch 16350/16828\nProcessing batch 16351/16828\nProcessing batch 16352/16828\nProcessing batch 16353/16828\nProcessing batch 16354/16828\nProcessing batch 16355/16828\nProcessing batch 16356/16828\nProcessing batch 16357/16828\nProcessing batch 16358/16828\nProcessing batch 16359/16828\nProcessing batch 16360/16828\nProcessing batch 16361/16828\nProcessing batch 16362/16828\nProcessing batch 16363/16828\nProcessing batch 16364/16828\nProcessing batch 16365/16828\nProcessing batch 16366/16828\nProcessing batch 16367/16828\nProcessing batch 16368/16828\nProcessing batch 16369/16828\nProcessing batch 16370/16828\nProcessing batch 16371/16828\nProcessing batch 16372/16828\nProcessing batch 16373/16828\nProcessing batch 16374/16828\nProcessing batch 16375/16828\nProcessing batch 16376/16828\nProcessing batch 16377/16828\nProcessing batch 16378/16828\nProcessing batch 16379/16828\nProcessing batch 16380/16828\nProcessing batch 16381/16828\nProcessing batch 16382/16828\nProcessing batch 16383/16828\nProcessing batch 16384/16828\nProcessing batch 16385/16828\nProcessing batch 16386/16828\nProcessing batch 16387/16828\nProcessing batch 16388/16828\nProcessing batch 16389/16828\nProcessing batch 16390/16828\nProcessing batch 16391/16828\nProcessing batch 16392/16828\nProcessing batch 16393/16828\nProcessing batch 16394/16828\nProcessing batch 16395/16828\nProcessing batch 16396/16828\nProcessing batch 16397/16828\nProcessing batch 16398/16828\nProcessing batch 16399/16828\nProcessing batch 16400/16828\nProcessing batch 16401/16828\nProcessing batch 16402/16828\nProcessing batch 16403/16828\nProcessing batch 16404/16828\nProcessing batch 16405/16828\nProcessing batch 16406/16828\nProcessing batch 16407/16828\nProcessing batch 16408/16828\nProcessing batch 16409/16828\nProcessing batch 16410/16828\nProcessing batch 16411/16828\nProcessing batch 16412/16828\nProcessing batch 16413/16828\nProcessing batch 16414/16828\nProcessing batch 16415/16828\nProcessing batch 16416/16828\nProcessing batch 16417/16828\nProcessing batch 16418/16828\nProcessing batch 16419/16828\nProcessing batch 16420/16828\nProcessing batch 16421/16828\nProcessing batch 16422/16828\nProcessing batch 16423/16828\nProcessing batch 16424/16828\nProcessing batch 16425/16828\nProcessing batch 16426/16828\nProcessing batch 16427/16828\nProcessing batch 16428/16828\nProcessing batch 16429/16828\nProcessing batch 16430/16828\nProcessing batch 16431/16828\nProcessing batch 16432/16828\nProcessing batch 16433/16828\nProcessing batch 16434/16828\nProcessing batch 16435/16828\nProcessing batch 16436/16828\nProcessing batch 16437/16828\nProcessing batch 16438/16828\nProcessing batch 16439/16828\nProcessing batch 16440/16828\nProcessing batch 16441/16828\nProcessing batch 16442/16828\nProcessing batch 16443/16828\nProcessing batch 16444/16828\nProcessing batch 16445/16828\nProcessing batch 16446/16828\nProcessing batch 16447/16828\nProcessing batch 16448/16828\nProcessing batch 16449/16828\nProcessing batch 16450/16828\nProcessing batch 16451/16828\nProcessing batch 16452/16828\nProcessing batch 16453/16828\nProcessing batch 16454/16828\nProcessing batch 16455/16828\nProcessing batch 16456/16828\nProcessing batch 16457/16828\nProcessing batch 16458/16828\nProcessing batch 16459/16828\nProcessing batch 16460/16828\nProcessing batch 16461/16828\nProcessing batch 16462/16828\nProcessing batch 16463/16828\nProcessing batch 16464/16828\nProcessing batch 16465/16828\nProcessing batch 16466/16828\nProcessing batch 16467/16828\nProcessing batch 16468/16828\nProcessing batch 16469/16828\nProcessing batch 16470/16828\nProcessing batch 16471/16828\nProcessing batch 16472/16828\nProcessing batch 16473/16828\nProcessing batch 16474/16828\nProcessing batch 16475/16828\nProcessing batch 16476/16828\nProcessing batch 16477/16828\nProcessing batch 16478/16828\nProcessing batch 16479/16828\nProcessing batch 16480/16828\nProcessing batch 16481/16828\nProcessing batch 16482/16828\nProcessing batch 16483/16828\nProcessing batch 16484/16828\nProcessing batch 16485/16828\nProcessing batch 16486/16828\nProcessing batch 16487/16828\nProcessing batch 16488/16828\nProcessing batch 16489/16828\nProcessing batch 16490/16828\nProcessing batch 16491/16828\nProcessing batch 16492/16828\nProcessing batch 16493/16828\nProcessing batch 16494/16828\nProcessing batch 16495/16828\nProcessing batch 16496/16828\nProcessing batch 16497/16828\nProcessing batch 16498/16828\nProcessing batch 16499/16828\nProcessing batch 16500/16828\nProcessing batch 16501/16828\nProcessing batch 16502/16828\nProcessing batch 16503/16828\nProcessing batch 16504/16828\nProcessing batch 16505/16828\nProcessing batch 16506/16828\nProcessing batch 16507/16828\nProcessing batch 16508/16828\nProcessing batch 16509/16828\nProcessing batch 16510/16828\nProcessing batch 16511/16828\nProcessing batch 16512/16828\nProcessing batch 16513/16828\nProcessing batch 16514/16828\nProcessing batch 16515/16828\nProcessing batch 16516/16828\nProcessing batch 16517/16828\nProcessing batch 16518/16828\nProcessing batch 16519/16828\nProcessing batch 16520/16828\nProcessing batch 16521/16828\nProcessing batch 16522/16828\nProcessing batch 16523/16828\nProcessing batch 16524/16828\nProcessing batch 16525/16828\nProcessing batch 16526/16828\nProcessing batch 16527/16828\nProcessing batch 16528/16828\nProcessing batch 16529/16828\nProcessing batch 16530/16828\nProcessing batch 16531/16828\nProcessing batch 16532/16828\nProcessing batch 16533/16828\nProcessing batch 16534/16828\nProcessing batch 16535/16828\nProcessing batch 16536/16828\nProcessing batch 16537/16828\nProcessing batch 16538/16828\nProcessing batch 16539/16828\nProcessing batch 16540/16828\nProcessing batch 16541/16828\nProcessing batch 16542/16828\nProcessing batch 16543/16828\nProcessing batch 16544/16828\nProcessing batch 16545/16828\nProcessing batch 16546/16828\nProcessing batch 16547/16828\nProcessing batch 16548/16828\nProcessing batch 16549/16828\nProcessing batch 16550/16828\nProcessing batch 16551/16828\nProcessing batch 16552/16828\nProcessing batch 16553/16828\nProcessing batch 16554/16828\nProcessing batch 16555/16828\nProcessing batch 16556/16828\nProcessing batch 16557/16828\nProcessing batch 16558/16828\nProcessing batch 16559/16828\nProcessing batch 16560/16828\nProcessing batch 16561/16828\nProcessing batch 16562/16828\nProcessing batch 16563/16828\nProcessing batch 16564/16828\nProcessing batch 16565/16828\nProcessing batch 16566/16828\nProcessing batch 16567/16828\nProcessing batch 16568/16828\nProcessing batch 16569/16828\nProcessing batch 16570/16828\nProcessing batch 16571/16828\nProcessing batch 16572/16828\nProcessing batch 16573/16828\nProcessing batch 16574/16828\nProcessing batch 16575/16828\nProcessing batch 16576/16828\nProcessing batch 16577/16828\nProcessing batch 16578/16828\nProcessing batch 16579/16828\nProcessing batch 16580/16828\nProcessing batch 16581/16828\nProcessing batch 16582/16828\nProcessing batch 16583/16828\nProcessing batch 16584/16828\nProcessing batch 16585/16828\nProcessing batch 16586/16828\nProcessing batch 16587/16828\nProcessing batch 16588/16828\nProcessing batch 16589/16828\nProcessing batch 16590/16828\nProcessing batch 16591/16828\nProcessing batch 16592/16828\nProcessing batch 16593/16828\nProcessing batch 16594/16828\nProcessing batch 16595/16828\nProcessing batch 16596/16828\nProcessing batch 16597/16828\nProcessing batch 16598/16828\nProcessing batch 16599/16828\nProcessing batch 16600/16828\nProcessing batch 16601/16828\nProcessing batch 16602/16828\nProcessing batch 16603/16828\nProcessing batch 16604/16828\nProcessing batch 16605/16828\nProcessing batch 16606/16828\nProcessing batch 16607/16828\nProcessing batch 16608/16828\nProcessing batch 16609/16828\nProcessing batch 16610/16828\nProcessing batch 16611/16828\nProcessing batch 16612/16828\nProcessing batch 16613/16828\nProcessing batch 16614/16828\nProcessing batch 16615/16828\nProcessing batch 16616/16828\nProcessing batch 16617/16828\nProcessing batch 16618/16828\nProcessing batch 16619/16828\nProcessing batch 16620/16828\nProcessing batch 16621/16828\nProcessing batch 16622/16828\nProcessing batch 16623/16828\nProcessing batch 16624/16828\nProcessing batch 16625/16828\nProcessing batch 16626/16828\nProcessing batch 16627/16828\nProcessing batch 16628/16828\nProcessing batch 16629/16828\nProcessing batch 16630/16828\nProcessing batch 16631/16828\nProcessing batch 16632/16828\nProcessing batch 16633/16828\nProcessing batch 16634/16828\nProcessing batch 16635/16828\nProcessing batch 16636/16828\nProcessing batch 16637/16828\nProcessing batch 16638/16828\nProcessing batch 16639/16828\nProcessing batch 16640/16828\nProcessing batch 16641/16828\nProcessing batch 16642/16828\nProcessing batch 16643/16828\nProcessing batch 16644/16828\nProcessing batch 16645/16828\nProcessing batch 16646/16828\nProcessing batch 16647/16828\nProcessing batch 16648/16828\nProcessing batch 16649/16828\nProcessing batch 16650/16828\nProcessing batch 16651/16828\nProcessing batch 16652/16828\nProcessing batch 16653/16828\nProcessing batch 16654/16828\nProcessing batch 16655/16828\nProcessing batch 16656/16828\nProcessing batch 16657/16828\nProcessing batch 16658/16828\nProcessing batch 16659/16828\nProcessing batch 16660/16828\nProcessing batch 16661/16828\nProcessing batch 16662/16828\nProcessing batch 16663/16828\nProcessing batch 16664/16828\nProcessing batch 16665/16828\nProcessing batch 16666/16828\nProcessing batch 16667/16828\nProcessing batch 16668/16828\nProcessing batch 16669/16828\nProcessing batch 16670/16828\nProcessing batch 16671/16828\nProcessing batch 16672/16828\nProcessing batch 16673/16828\nProcessing batch 16674/16828\nProcessing batch 16675/16828\nProcessing batch 16676/16828\nProcessing batch 16677/16828\nProcessing batch 16678/16828\nProcessing batch 16679/16828\nProcessing batch 16680/16828\nProcessing batch 16681/16828\nProcessing batch 16682/16828\nProcessing batch 16683/16828\nProcessing batch 16684/16828\nProcessing batch 16685/16828\nProcessing batch 16686/16828\nProcessing batch 16687/16828\nProcessing batch 16688/16828\nProcessing batch 16689/16828\nProcessing batch 16690/16828\nProcessing batch 16691/16828\nProcessing batch 16692/16828\nProcessing batch 16693/16828\nProcessing batch 16694/16828\nProcessing batch 16695/16828\nProcessing batch 16696/16828\nProcessing batch 16697/16828\nProcessing batch 16698/16828\nProcessing batch 16699/16828\nProcessing batch 16700/16828\nProcessing batch 16701/16828\nProcessing batch 16702/16828\nProcessing batch 16703/16828\nProcessing batch 16704/16828\nProcessing batch 16705/16828\nProcessing batch 16706/16828\nProcessing batch 16707/16828\nProcessing batch 16708/16828\nProcessing batch 16709/16828\nProcessing batch 16710/16828\nProcessing batch 16711/16828\nProcessing batch 16712/16828\nProcessing batch 16713/16828\nProcessing batch 16714/16828\nProcessing batch 16715/16828\nProcessing batch 16716/16828\nProcessing batch 16717/16828\nProcessing batch 16718/16828\nProcessing batch 16719/16828\nProcessing batch 16720/16828\nProcessing batch 16721/16828\nProcessing batch 16722/16828\nProcessing batch 16723/16828\nProcessing batch 16724/16828\nProcessing batch 16725/16828\nProcessing batch 16726/16828\nProcessing batch 16727/16828\nProcessing batch 16728/16828\nProcessing batch 16729/16828\nProcessing batch 16730/16828\nProcessing batch 16731/16828\nProcessing batch 16732/16828\nProcessing batch 16733/16828\nProcessing batch 16734/16828\nProcessing batch 16735/16828\nProcessing batch 16736/16828\nProcessing batch 16737/16828\nProcessing batch 16738/16828\nProcessing batch 16739/16828\nProcessing batch 16740/16828\nProcessing batch 16741/16828\nProcessing batch 16742/16828\nProcessing batch 16743/16828\nProcessing batch 16744/16828\nProcessing batch 16745/16828\nProcessing batch 16746/16828\nProcessing batch 16747/16828\nProcessing batch 16748/16828\nProcessing batch 16749/16828\nProcessing batch 16750/16828\nProcessing batch 16751/16828\nProcessing batch 16752/16828\nProcessing batch 16753/16828\nProcessing batch 16754/16828\nProcessing batch 16755/16828\nProcessing batch 16756/16828\nProcessing batch 16757/16828\nProcessing batch 16758/16828\nProcessing batch 16759/16828\nProcessing batch 16760/16828\nProcessing batch 16761/16828\nProcessing batch 16762/16828\nProcessing batch 16763/16828\nProcessing batch 16764/16828\nProcessing batch 16765/16828\nProcessing batch 16766/16828\nProcessing batch 16767/16828\nProcessing batch 16768/16828\nProcessing batch 16769/16828\nProcessing batch 16770/16828\nProcessing batch 16771/16828\nProcessing batch 16772/16828\nProcessing batch 16773/16828\nProcessing batch 16774/16828\nProcessing batch 16775/16828\nProcessing batch 16776/16828\nProcessing batch 16777/16828\nProcessing batch 16778/16828\nProcessing batch 16779/16828\nProcessing batch 16780/16828\nProcessing batch 16781/16828\nProcessing batch 16782/16828\nProcessing batch 16783/16828\nProcessing batch 16784/16828\nProcessing batch 16785/16828\nProcessing batch 16786/16828\nProcessing batch 16787/16828\nProcessing batch 16788/16828\nProcessing batch 16789/16828\nProcessing batch 16790/16828\nProcessing batch 16791/16828\nProcessing batch 16792/16828\nProcessing batch 16793/16828\nProcessing batch 16794/16828\nProcessing batch 16795/16828\nProcessing batch 16796/16828\nProcessing batch 16797/16828\nProcessing batch 16798/16828\nProcessing batch 16799/16828\nProcessing batch 16800/16828\nProcessing batch 16801/16828\nProcessing batch 16802/16828\nProcessing batch 16803/16828\nProcessing batch 16804/16828\nProcessing batch 16805/16828\nProcessing batch 16806/16828\nProcessing batch 16807/16828\nProcessing batch 16808/16828\nProcessing batch 16809/16828\nProcessing batch 16810/16828\nProcessing batch 16811/16828\nProcessing batch 16812/16828\nProcessing batch 16813/16828\nProcessing batch 16814/16828\nProcessing batch 16815/16828\nProcessing batch 16816/16828\nProcessing batch 16817/16828\nProcessing batch 16818/16828\nProcessing batch 16819/16828\nProcessing batch 16820/16828\nProcessing batch 16821/16828\nProcessing batch 16822/16828\nProcessing batch 16823/16828\nProcessing batch 16824/16828\nProcessing batch 16825/16828\nProcessing batch 16826/16828\nProcessing batch 16827/16828\nProcessing batch 16828/16828\n\nCreating category mapping...\nCategory mapping: {'Asphyxiation': 0, 'Caught in, between or under': 1, 'Contact with electricity': 2, 'Exposure': 3, 'Exposure to cold objects / surfaces / temperatures': 4, 'Exposure to hot objects / surfaces / temperatures': 5, 'Fall from height/elevation': 6, 'Fire / Explosion': 7, 'Food Related Concern': 8, 'Hand tools': 9, 'Hit by / Struck against / Trapped / Crushed': 10, 'Ingestion / absorption / Contact with of hazardous substance': 11, 'Inhalation of gasses / fumes / vapours': 12, 'Manual handling / Lifting  / Carrying  / Pulling / Pushing': 13, 'Medical sharps (incl. Needles)': 14, 'PPE: not used, incorrect use, defective…': 15, 'Repetitive motion': 16, 'Sharp items / surfaces': 17, 'Slip / Trip / Fall': 18, 'Vehicle incident / accident': 19, 'Violence / Assault': 20}\n\nVerifying Category_Number creation:\nUnique categories in Predicted_Cause: ['Food Related Concern'\n 'Exposure to cold objects / surfaces / temperatures' 'Slip / Trip / Fall'\n 'Ingestion / absorption / Contact with of hazardous substance'\n 'Fire / Explosion' 'Fall from height/elevation'\n 'Contact with electricity' 'Asphyxiation'\n 'Exposure to hot objects / surfaces / temperatures'\n 'Sharp items / surfaces' 'PPE: not used, incorrect use, defective…'\n 'Manual handling / Lifting  / Carrying  / Pulling / Pushing' 'Hand tools'\n 'Violence / Assault' 'Hit by / Struck against / Trapped / Crushed'\n 'Inhalation of gasses / fumes / vapours' 'Repetitive motion'\n 'Vehicle incident / accident' 'Caught in, between or under'\n 'Medical sharps (incl. Needles)' 'Exposure']\nUnique numbers in Category_Number: [ 8  4 18 11  7  6  2  0  5 17 15 13  9 20 10 12 16 19  1 14  3]\nNumber of null values in Category_Number: 0\n\nPrediction Summary by Category:\n\nCategory-wise Prediction Summary:\n                                                    Category_Number  ...  Max_Confidence\nPredicted_Cause                                                      ...                \nFood Related Concern                                              8  ...          0.9916\nIngestion / absorption / Contact with of hazard...               11  ...          0.8854\nExposure to cold objects / surfaces / temperatures                4  ...          0.9127\nPPE: not used, incorrect use, defective…                         15  ...          0.8957\nCaught in, between or under                                       1  ...          0.8199\nSlip / Trip / Fall                                               18  ...          0.9759\nInhalation of gasses / fumes / vapours                           12  ...          0.9536\nViolence / Assault                                               20  ...          0.9846\nFire / Explosion                                                  7  ...          0.9148\nHand tools                                                        9  ...          0.6338\nContact with electricity                                          2  ...          0.9336\nHit by / Struck against / Trapped / Crushed                      10  ...          0.8501\nExposure to hot objects / surfaces / temperatures                 5  ...          0.9414\nFall from height/elevation                                        6  ...          0.9608\nSharp items / surfaces                                           17  ...          0.8730\nManual handling / Lifting  / Carrying  / Pullin...               13  ...          0.8828\nMedical sharps (incl. Needles)                                   14  ...          0.9741\nVehicle incident / accident                                      19  ...          0.9526\nRepetitive motion                                                16  ...          0.9615\nAsphyxiation                                                      0  ...          0.9902\nExposure                                                          3  ...          0.9880\n\n[21 rows x 5 columns]\n"
     ]
    }
   ],
   "source": [
    "# 8. Predict on 'other' and 'unknown'\n",
    "print(\"\\n9. Predicting on 'other' and 'unknown'...\")\n",
    " \n",
    "texts_to_predict = df_other_unknown['text'].tolist()\n",
    " \n",
    "# Process in smaller batches to avoid memory issues\n",
    "batch_size = 32\n",
    "all_predictions = []\n",
    "all_confidences = []\n",
    " \n",
    "for i in range(0, len(texts_to_predict), batch_size):\n",
    "    batch_texts = texts_to_predict[i:i + batch_size]\n",
    "    print(f\"Processing batch {i//batch_size + 1}/{(len(texts_to_predict) + batch_size - 1)//batch_size}\")\n",
    "   \n",
    "    # Tokenize and move to the same device as the model\n",
    "    inputs = tokenizer(batch_texts, padding=True, truncation=True, max_length=256, return_tensors='pt')\n",
    "    inputs = {k: v.to(device) for k, v in inputs.items()}\n",
    "   \n",
    "    with torch.no_grad():\n",
    "        outputs = model(**inputs)\n",
    "        preds = torch.argmax(outputs.logits, dim=1).cpu().numpy()\n",
    "        probabilities = torch.softmax(outputs.logits, dim=1).cpu().numpy()\n",
    "       \n",
    "    all_predictions.extend(preds)\n",
    "    all_confidences.extend(np.max(probabilities, axis=1))\n",
    " \n",
    "# Convert predictions to labels and add to dataframe\n",
    "predicted_labels = le.inverse_transform(all_predictions)\n",
    "df_other_unknown['Predicted_Cause'] = predicted_labels\n",
    "df_other_unknown['Confidence_Score'] = all_confidences\n",
    " \n",
    "# Create category mapping and add category numbers\n",
    "print(\"\\nCreating category mapping...\")\n",
    "category_mapping = {label: idx for idx, label in enumerate(le.classes_)}\n",
    "print(\"Category mapping:\", category_mapping)\n",
    " \n",
    "# Verify and create Category_Number column\n",
    "try:\n",
    "    df_other_unknown['Category_Number'] = df_other_unknown['Predicted_Cause'].map(category_mapping)\n",
    "    print(\"\\nVerifying Category_Number creation:\")\n",
    "    print(\"Unique categories in Predicted_Cause:\", df_other_unknown['Predicted_Cause'].unique())\n",
    "    print(\"Unique numbers in Category_Number:\", df_other_unknown['Category_Number'].unique())\n",
    "    print(\"Number of null values in Category_Number:\", df_other_unknown['Category_Number'].isnull().sum())\n",
    "except Exception as e:\n",
    "    print(f\"Error creating Category_Number: {str(e)}\")\n",
    "    # Fallback: create Category_Number directly from predictions\n",
    "    df_other_unknown['Category_Number'] = all_predictions\n",
    "    print(\"Created Category_Number directly from predictions\")\n",
    " \n",
    "# Create prediction summary\n",
    "print(\"\\nPrediction Summary by Category:\")\n",
    "summary = df_other_unknown.groupby('Predicted_Cause').agg({\n",
    "    'Category_Number': 'first',\n",
    "    'Event Title': 'count',\n",
    "    'Confidence_Score': ['mean', 'min', 'max']\n",
    "}).round(4)\n",
    " \n",
    "summary.columns = ['Category_Number', 'Count', 'Avg_Confidence', 'Min_Confidence', 'Max_Confidence']\n",
    "summary = summary.sort_values('Count', ascending=False)\n",
    "print(\"\\nCategory-wise Prediction Summary:\")\n",
    "print(summary)\n"
   ]
  },
  {
   "cell_type": "code",
   "execution_count": 0,
   "metadata": {
    "application/vnd.databricks.v1+cell": {
     "cellMetadata": {
      "byteLimit": 2048000,
      "rowLimit": 10000
     },
     "inputWidgets": {},
     "nuid": "00a6ee5b-b005-4539-a42d-a63f6a163ab3",
     "showTitle": false,
     "tableResultSettingsMap": {},
     "title": ""
    }
   },
   "outputs": [
    {
     "output_type": "stream",
     "name": "stdout",
     "output_type": "stream",
     "text": [
      "\n10. Saving predictions...\nNumber of rows to save: 538470\nColumns in saved file: ['Event Title', 'Report', 'Preliminary Cause', 'Resolution Action', 'Classification', 'Activity performed (type of service)', 'Type of location', 'Sub Location', 'Cause', 'text', 'Predicted_Cause', 'Confidence_Score', 'Category_Number']\n\nSample of predictions with category numbers:\n                                       Event Title  ... Confidence_Score\n0                                East HS 3/30/2022  ...         0.979531\n1  APP-1646111517516-Cooler cold storage lighting.  ...         0.727688\n2                  APP-1646112639063-PEMS Employee  ...         0.990776\n3                 APP-1646112568836-Propping doors  ...         0.988860\n4                     APP-1646112739299-Lock doors  ...         0.987224\n\n[5 rows x 5 columns]\nTemporary file saved to: /tmp/predicted_other_unknown.xlsx\nFile copied to FileStore: /dbfs/FileStore/predicted_other_unknown.xlsx\nTemporary file cleaned up\nFile successfully saved. Size: 71547.51 KB\n"
     ]
    }
   ],
   "source": [
    " \n",
    "# 9. Save predictions to Excel\n",
    "print(\"\\n10. Saving predictions...\")\n",
    "# First save to a temporary location\n",
    "temp_output_path = '/tmp/predicted_other_unknown.xlsx'\n",
    "final_output_path = '/dbfs/FileStore/predicted_other_unknown.xlsx'\n",
    " \n",
    "print(f\"Number of rows to save: {len(df_other_unknown)}\")\n",
    "print(\"Columns in saved file:\", df_other_unknown.columns.tolist())\n",
    " \n",
    "# Verify columns exist before printing\n",
    "required_columns = ['Event Title', 'Cause', 'Predicted_Cause', 'Category_Number', 'Confidence_Score']\n",
    "missing_columns = [col for col in required_columns if col not in df_other_unknown.columns]\n",
    "if missing_columns:\n",
    "    print(f\"Warning: Missing columns: {missing_columns}\")\n",
    "    # Print available columns instead\n",
    "    print(\"\\nSample of predictions (available columns):\")\n",
    "    print(df_other_unknown.head())\n",
    "else:\n",
    "    print(\"\\nSample of predictions with category numbers:\")\n",
    "    print(df_other_unknown[required_columns].head())\n",
    " \n",
    "try:\n",
    "    # Save to temporary location first\n",
    "    df_other_unknown.to_excel(temp_output_path, index=False)\n",
    "    print(f'Temporary file saved to: {temp_output_path}')\n",
    "   \n",
    "    # Copy to FileStore\n",
    "    import shutil\n",
    "    shutil.copy2(temp_output_path, final_output_path)\n",
    "    print(f'File copied to FileStore: {final_output_path}')\n",
    "   \n",
    "    # Clean up temporary file\n",
    "    os.remove(temp_output_path)\n",
    "    print(\"Temporary file cleaned up\")\n",
    "   \n",
    "    # Verify the final file\n",
    "    if os.path.exists(final_output_path):\n",
    "        print(f\"File successfully saved. Size: {os.path.getsize(final_output_path) / 1024:.2f} KB\")\n",
    "    else:\n",
    "        print(\"Warning: File was not saved successfully!\")\n",
    "except Exception as e:\n",
    "    print(f\"Error saving file: {str(e)}\")\n"
   ]
  },
  {
   "cell_type": "code",
   "execution_count": 0,
   "metadata": {
    "application/vnd.databricks.v1+cell": {
     "cellMetadata": {},
     "inputWidgets": {},
     "nuid": "ffec2670-0c26-42c9-8300-ee8ae21ddfaf",
     "showTitle": false,
     "tableResultSettingsMap": {},
     "title": ""
    }
   },
   "outputs": [],
   "source": []
  }
 ],
 "metadata": {
  "application/vnd.databricks.v1+notebook": {
   "computePreferences": null,
   "dashboards": [],
   "environmentMetadata": {
    "base_environment": "",
    "environment_version": "2"
   },
   "inputWidgetPreferences": null,
   "language": "python",
   "notebookMetadata": {
    "pythonIndentUnit": 4
   },
   "notebookName": "near_miss_final_notebook",
   "widgets": {}
  },
  "language_info": {
   "name": "python"
  }
 },
 "nbformat": 4,
 "nbformat_minor": 0
}